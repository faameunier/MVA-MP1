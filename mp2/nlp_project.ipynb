{
 "cells": [
  {
   "cell_type": "markdown",
   "metadata": {},
   "source": [
    "# Deep Learning for NLP - Project"
   ]
  },
  {
   "cell_type": "markdown",
   "metadata": {},
   "source": [
    "RULES:\n",
    "\n",
    "* Do not create any additional cell\n",
    "\n",
    "* Fill in the blanks\n",
    "\n",
    "* All cells should be runnable (modulo trivial compatibility bugs that we'd fix)\n",
    "\n",
    "* 4 / 20 points will be allocated to the clarity of your code\n",
    "\n",
    "* Efficient code will have a bonus\n",
    "\n",
    "DELIVERABLE:\n",
    "\n",
    "* this notebook\n",
    "* the predictions of the SST test set\n",
    "\n",
    "DO NOT INCLUDE THE DATASETS IN THE DELIVERABLE.."
   ]
  },
  {
   "cell_type": "code",
   "execution_count": 1,
   "metadata": {},
   "outputs": [],
   "source": [
    "import io\n",
    "import os\n",
    "import numpy as np\n",
    "import scipy\n",
    "from scipy.stats import randint as sp_randint\n",
    "import scipy.linalg\n",
    "import sklearn.linear_model\n",
    "import sklearn.ensemble\n",
    "import sklearn.datasets\n",
    "import sklearn.decomposition\n",
    "from sklearn.model_selection import RandomizedSearchCV\n",
    "from sklearn.model_selection import train_test_split\n",
    "import time\n",
    "import requests  # proper streaming download\n",
    "from tqdm import tqdm  # Good looking loading bar\n",
    "import matplotlib.pyplot as plt\n",
    "\n",
    "%matplotlib inline"
   ]
  },
  {
   "cell_type": "code",
   "execution_count": 2,
   "metadata": {},
   "outputs": [],
   "source": [
    "PATH_TO_DATA = \"data/\""
   ]
  },
  {
   "cell_type": "markdown",
   "metadata": {},
   "source": [
    "# 1) Monolingual (English) word embeddings "
   ]
  },
  {
   "cell_type": "code",
   "execution_count": 3,
   "metadata": {},
   "outputs": [],
   "source": [
    "class Word2vec():\n",
    "    def __init__(self, fname, nmax=100000):\n",
    "        self.load_wordvec(fname, nmax)\n",
    "        # self.word2id = dict.fromkeys(self.word2vec.keys()) # Doesn't have the expected behaviour I guess\n",
    "        # We define the id as the order of appearance of the word\n",
    "        self.word2id = {}\n",
    "        for i, value in enumerate(self.word2vec.keys()):\n",
    "            self.word2id[value] = i\n",
    "        self.id2word = {v: k for k, v in self.word2id.items()}\n",
    "        self.embeddings = np.array(list(self.word2vec.values()))\n",
    "    \n",
    "    def load_wordvec(self, fname, nmax):\n",
    "        self.word2vec = {}\n",
    "        with io.open(fname, encoding='utf-8') as f:\n",
    "            next(f)\n",
    "            for i, line in enumerate(f):\n",
    "                word, vec = line.split(' ', 1)\n",
    "                self.word2vec[word] = np.fromstring(vec, sep=' ')\n",
    "                if i == (nmax - 1):\n",
    "                    break\n",
    "        print('Loaded %s pretrained word vectors' % (len(self.word2vec)))\n",
    "\n",
    "    def most_similar(self, w, K=5):\n",
    "        # K most similar words: self.score  -  np.argsort\n",
    "        # We assume that we have K <= len(self.w2v) - 1\n",
    "        scores = [self.score(w, w2) for w2 in self.word2vec.keys()]\n",
    "        return [self.id2word[word_id] for word_id in np.argsort(scores)[-K:]]\n",
    "\n",
    "    def score(self, w1, w2):\n",
    "        # cosine similarity: np.dot  -  np.linalg.norm\n",
    "        # using np is faster than using scipy.spatial.cosine\n",
    "        try:\n",
    "            v1 = self.word2vec[w1]\n",
    "            v2 = self.word2vec[w2]\n",
    "        except KeyError: # One of the 2 words is not present in the DB\n",
    "            return 0\n",
    "        return np.dot(v1, v2)/(np.linalg.norm(v1)*np.linalg.norm(v2))\n"
   ]
  },
  {
   "cell_type": "code",
   "execution_count": 4,
   "metadata": {},
   "outputs": [
    {
     "name": "stdout",
     "output_type": "stream",
     "text": [
      "Loaded 30000 pretrained word vectors\n",
      "cat dog 0.671683666279249\n",
      "dog pet 0.6842064029669219\n",
      "dogs cats 0.7074389328052404\n",
      "paris france 0.7775108541288563\n",
      "germany berlin 0\n",
      "['feline', 'kitten', 'kitty', 'cats', 'cat']\n",
      "['canine', 'Dog', 'puppy', 'dogs', 'dog']\n",
      "['cats', 'puppies', 'Dogs', 'dog', 'dogs']\n",
      "['europe', 'london', 'Paris', 'france', 'paris']\n",
      "['Germany', 'france', 'german', 'europe', 'germany']\n"
     ]
    }
   ],
   "source": [
    "w2v = Word2vec(os.path.join(PATH_TO_DATA, 'crawl-300d-200k.vec'), nmax=30000)\n",
    "# nmax was set to 100000 to be sure that 'paris' and 'berlin' are loaded\n",
    "\n",
    "# You will be evaluated on the output of the following:\n",
    "for w1, w2 in zip(('cat', 'dog', 'dogs', 'paris', 'germany'), ('dog', 'pet', 'cats', 'france', 'berlin')):\n",
    "    print(w1, w2, w2v.score(w1, w2))\n",
    "for w1 in ['cat', 'dog', 'dogs', 'paris', 'germany']:\n",
    "    print(w2v.most_similar(w1))"
   ]
  },
  {
   "cell_type": "code",
   "execution_count": 5,
   "metadata": {},
   "outputs": [],
   "source": [
    "class BoV():\n",
    "    def __init__(self, w2v):\n",
    "        self.w2v = w2v\n",
    "    \n",
    "    def encode(self, sentences, idf=False):\n",
    "        # takes a list of sentences, outputs a numpy array of sentence embeddings\n",
    "        # see TP1 for help\n",
    "        sentemb = []\n",
    "        for sent in sentences:\n",
    "            if idf is False:\n",
    "                # mean of word vectors\n",
    "                codes = []\n",
    "                for w in sent:\n",
    "                    try:\n",
    "                        codes.append(self.w2v.word2vec[w])\n",
    "                    except KeyError: # ignore unknown words\n",
    "                        pass\n",
    "                if len(codes) != 0:\n",
    "                    sentemb.append(np.mean(codes, axis=0))\n",
    "                else:\n",
    "                    sentemb.append(np.zeros(self.w2v.embeddings[0].shape[0]))\n",
    "            else:\n",
    "                # idf-weighted mean of word vectors\n",
    "                codes = []\n",
    "                for w in sent:\n",
    "                    try:\n",
    "                        codes.append(idf[w] * self.w2v.word2vec[w])\n",
    "                    except KeyError: # ignore unknown words\n",
    "                        pass\n",
    "                if len(codes) != 0:\n",
    "                    sentemb.append(np.mean(codes, axis=0))\n",
    "                else:\n",
    "                    sentemb.append(np.zeros(self.w2v.embeddings[0].shape[0]))\n",
    "        return np.vstack(sentemb)\n",
    "\n",
    "    def most_similar(self, s, sentences, idf=False, K=5):\n",
    "        # get most similar sentences and **print** them\n",
    "        keys = self.encode(sentences, idf)\n",
    "        query = self.encode([s], idf)[0]\n",
    "        scores = np.dot(keys, np.transpose(query)) / (np.linalg.norm(keys, axis=1) * np.linalg.norm(query))\n",
    "        res = [sentences[s_id] for s_id in np.argsort(scores)[-K:]]\n",
    "        print(res)\n",
    "        return res\n",
    "\n",
    "    def score(self, s1, s2, idf=False):\n",
    "        # cosine similarity: use   np.dot  and  np.linalg.norm\n",
    "        v1 = self.encode([s1], idf)[0]\n",
    "        v2 = self.encode([s2], idf)[0]\n",
    "        print(np.dot(v1, v2) / (np.linalg.norm(v1) * np.linalg.norm(v2)))\n",
    "        return np.dot(v1, v2) / (np.linalg.norm(v1) * np.linalg.norm(v2))\n",
    "    \n",
    "    def build_idf(self, sentences):\n",
    "        # build the idf dictionary: associate each word to its idf value\n",
    "        df = {}\n",
    "        for sentence in sentences: # counting frequency of words\n",
    "            for w in set(sentence): # only check if a word appears or not in a sentence\n",
    "                df[w] = df.get(w, 0) + 1\n",
    "        D = len(sentences)\n",
    "        return {word: max(1, np.log10(D / df[word])) for word in df.keys()}"
   ]
  },
  {
   "cell_type": "code",
   "execution_count": 6,
   "metadata": {},
   "outputs": [
    {
     "name": "stdout",
     "output_type": "stream",
     "text": [
      "Loaded 100000 pretrained word vectors\n",
      "[['a', 'man', 'in', 'a', 'white', 'shirt', 'squirting', 'a', 'bottle', 'of', 'a', 'drink', 'and', 'smiling', '.'], ['a', 'man', 'in', 'a', 'black', 'jacket', 'with', 'a', 'white', 'stripe', 'on', 'the', 'sleeve', 'is', 'holding', 'a', 'drink', 'and', 'laughing', 'while', 'a', 'woman', 'watches', '.'], ['a', 'woman', 'in', 'a', 'blue', 'shirt', 'is', 'laughing', 'with', 'a', 'woman', 'in', 'a', 'black', 'shirt', 'outside', ',', 'as', 'people', 'are', 'sitting', 'and', 'standing', 'all', 'around', 'them', '.'], ['a', 'man', 'in', 'a', 'pink', 'shirt', 'and', 'a', 'woman', 'in', 'a', 'teal', 'shirt', ',', 'who', 'is', 'drinking', 'wine', ',', 'are', 'sitting', 'in', 'a', 'dark', 'corner', 'and', 'talking', '.'], ['1', 'woman', 'in', 'a', 'black', 'jacket', 'is', 'drinking', 'out', 'of', 'a', 'bottle', 'while', 'others', 'are', 'smiling', '.']]\n",
      "0.7894217938961857\n",
      "[['a', 'man', 'in', 'a', 'yellow', 'shirt', 'and', 'jeans', 'is', 'walking', 'down', 'the', 'street', 'drinking', 'a', 'beverage', 'from', 'a', 'bottle', '.'], ['a', 'man', 'wearing', 'a', 'yellow', 'shirt', 'is', 'holding', 'a', 'bottle', 'while', 'walking', 'with', 'a', 'crowd', 'of', 'people', '.'], ['a', 'female', 'drinking', 'something', 'out', 'of', 'a', 'bottle', 'outside', '.'], ['two', 'women', ',', 'one', 'holding', 'a', 'beer', 'bottle', 'and', 'smiling', ',', 'the', 'other', 'holding', 'a', 'blue', 'cup', 'and', 'looking', 'down', '.'], ['1', 'woman', 'in', 'a', 'black', 'jacket', 'is', 'drinking', 'out', 'of', 'a', 'bottle', 'while', 'others', 'are', 'smiling', '.']]\n",
      "0.6997092997150145\n"
     ]
    },
    {
     "data": {
      "text/plain": [
       "0.6997092997150145"
      ]
     },
     "execution_count": 6,
     "metadata": {},
     "output_type": "execute_result"
    }
   ],
   "source": [
    "w2v = Word2vec(os.path.join(PATH_TO_DATA, 'crawl-300d-200k.vec'), nmax=100000)\n",
    "s2v = BoV(w2v)\n",
    "\n",
    "# Load sentences in \"PATH_TO_DATA/sentences.txt\"\n",
    "sentences = []\n",
    "with io.open(os.path.join(PATH_TO_DATA, 'sentences.txt'), encoding='utf-8') as f:\n",
    "    next(f)\n",
    "    for i, line in enumerate(f):\n",
    "        sentences.append(line.strip().split(' ')) # removing leading and trailing whitespaces\n",
    "\n",
    "# Build idf scores for each word\n",
    "idf = s2v.build_idf(sentences)\n",
    "\n",
    "# You will be evaluated on the output of the following:\n",
    "s2v.most_similar('' if not sentences else sentences[10], sentences)  # BoV-mean\n",
    "s2v.score('' if not sentences else sentences[7], '' if not sentences else sentences[13])\n",
    "\n",
    "\n",
    "idf = s2v.build_idf(sentences)\n",
    "s2v.most_similar('' if not sentences else sentences[10], sentences, idf)  # BoV-idf\n",
    "s2v.score('' if not sentences else sentences[7], '' if not sentences else sentences[13], idf)"
   ]
  },
  {
   "cell_type": "markdown",
   "metadata": {},
   "source": [
    "# 2) Multilingual (English-French) word embeddings"
   ]
  },
  {
   "cell_type": "markdown",
   "metadata": {},
   "source": [
    "Let's consider a bilingual dictionary of size V_a (e.g French-English).\n",
    "\n",
    "Let's define **X** and **Y** the **French** and **English** matrices.\n",
    "\n",
    "They contain the embeddings associated to the words in the bilingual dictionary.\n",
    "\n",
    "We want to find a **mapping W** that will project the source word space (e.g French) to the target word space (e.g English).\n",
    "\n",
    "Procrustes : **W\\* = argmin || W.X - Y ||  s.t  W^T.W = Id**\n",
    "has a closed form solution:\n",
    "**W = U.V^T  where  U.Sig.V^T = SVD(Y.X^T)**\n",
    "\n",
    "In what follows, you are asked to: "
   ]
  },
  {
   "cell_type": "code",
   "execution_count": 7,
   "metadata": {
    "scrolled": true
   },
   "outputs": [
    {
     "name": "stderr",
     "output_type": "stream",
     "text": [
      "100%|███████████████████████████████████████████████████████████████████████████████████████████████████████████████████████████████████████████████████████████████████████████████████████████████▍| 49854/50000 [00:10<00:00, 4041.88it/s]\n",
      "  0%|                                                                                                                                                                                                              | 0/50000 [00:00<?, ?it/s]\n",
      "  0%|                                                                                                                                                                                                      | 8/50000 [00:00<16:16, 51.17it/s]\n",
      "  0%|                                                                                                                                                                                                     | 21/50000 [00:00<14:23, 57.87it/s]\n",
      "  0%|▏                                                                                                                                                                                                    | 47/50000 [00:00<11:25, 72.88it/s]\n",
      "  0%|▎                                                                                                                                                                                                    | 66/50000 [00:00<10:02, 82.86it/s]\n",
      "  0%|▎                                                                                                                                                                                                    | 93/50000 [00:00<08:19, 99.89it/s]\n",
      "  0%|▋                                                                                                                                                                                                  | 165/50000 [00:00<06:18, 131.69it/s]\n",
      "  1%|█▏                                                                                                                                                                                                 | 317/50000 [00:01<04:39, 177.82it/s]\n",
      "  1%|██▍                                                                                                                                                                                                | 614/50000 [00:01<03:22, 244.23it/s]\n",
      "  2%|████▋                                                                                                                                                                                             | 1216/50000 [00:01<02:23, 340.58it/s]\n",
      "  4%|███████                                                                                                                                                                                           | 1822/50000 [00:01<01:41, 474.07it/s]\n",
      "  5%|█████████▊                                                                                                                                                                                        | 2538/50000 [00:01<01:12, 656.86it/s]\n",
      "  6%|████████████▌                                                                                                                                                                                     | 3233/50000 [00:01<00:52, 898.56it/s]\n",
      "  8%|██████████████▉                                                                                                                                                                                  | 3878/50000 [00:01<00:38, 1205.01it/s]\n",
      "  9%|████████████████▉                                                                                                                                                                                | 4388/50000 [00:01<00:29, 1549.83it/s]\n",
      " 10%|███████████████████▎                                                                                                                                                                             | 5010/50000 [00:01<00:22, 1982.54it/s]\n",
      " 11%|██████████████████████                                                                                                                                                                           | 5713/50000 [00:02<00:17, 2501.59it/s]\n",
      " 13%|████████████████████████▋                                                                                                                                                                        | 6396/50000 [00:02<00:14, 3050.03it/s]\n",
      " 14%|███████████████████████████▎                                                                                                                                                                     | 7081/50000 [00:02<00:11, 3604.98it/s]\n",
      " 16%|██████████████████████████████                                                                                                                                                                   | 7786/50000 [00:02<00:10, 4154.42it/s]\n",
      " 17%|████████████████████████████████▊                                                                                                                                                                | 8485/50000 [00:02<00:08, 4641.93it/s]\n",
      " 18%|███████████████████████████████████▍                                                                                                                                                             | 9172/50000 [00:02<00:08, 5036.54it/s]\n",
      " 20%|█████████████████████████████████████▉                                                                                                                                                           | 9830/50000 [00:02<00:07, 5295.83it/s]\n",
      " 21%|████████████████████████████████████████                                                                                                                                                        | 10445/50000 [00:02<00:07, 5390.24it/s]\n",
      " 22%|██████████████████████████████████████████▍                                                                                                                                                     | 11045/50000 [00:02<00:07, 5418.92it/s]\n",
      " 23%|████████████████████████████████████████████▉                                                                                                                                                   | 11713/50000 [00:03<00:06, 5608.88it/s]\n",
      " 25%|███████████████████████████████████████████████▊                                                                                                                                                | 12439/50000 [00:03<00:06, 5882.42it/s]\n",
      " 26%|██████████████████████████████████████████████████▍                                                                                                                                             | 13120/50000 [00:03<00:06, 5982.41it/s]\n",
      " 28%|█████████████████████████████████████████████████████▏                                                                                                                                          | 13848/50000 [00:03<00:05, 6169.66it/s]\n",
      " 29%|███████████████████████████████████████████████████████▊                                                                                                                                        | 14526/50000 [00:03<00:05, 6179.18it/s]\n",
      " 30%|██████████████████████████████████████████████████████████▌                                                                                                                                     | 15242/50000 [00:03<00:05, 6285.41it/s]\n",
      " 32%|█████████████████████████████████████████████████████████████                                                                                                                                   | 15896/50000 [00:03<00:05, 6190.94it/s]\n",
      " 33%|███████████████████████████████████████████████████████████████▋                                                                                                                                | 16599/50000 [00:03<00:05, 6260.27it/s]\n"
     ]
    },
    {
     "name": "stderr",
     "output_type": "stream",
     "text": [
      " 35%|██████████████████████████████████████████████████████████████████▍                                                                                                                             | 17315/50000 [00:03<00:05, 6344.04it/s]\n",
      " 36%|█████████████████████████████████████████████████████████████████████▎                                                                                                                          | 18039/50000 [00:04<00:04, 6424.15it/s]\n",
      " 38%|████████████████████████████████████████████████████████████████████████                                                                                                                        | 18764/50000 [00:04<00:04, 6485.11it/s]\n",
      " 39%|██████████████████████████████████████████████████████████████████████████▉                                                                                                                     | 19521/50000 [00:04<00:04, 6610.02it/s]\n",
      " 40%|█████████████████████████████████████████████████████████████████████████████▋                                                                                                                  | 20242/50000 [00:04<00:04, 6605.11it/s]\n",
      " 42%|████████████████████████████████████████████████████████████████████████████████▍                                                                                                               | 20963/50000 [00:04<00:04, 6602.09it/s]\n",
      " 43%|███████████████████████████████████████████████████████████████████████████████████▎                                                                                                            | 21684/50000 [00:04<00:04, 6599.53it/s]\n",
      " 45%|██████████████████████████████████████████████████████████████████████████████████████                                                                                                          | 22409/50000 [00:04<00:04, 6608.39it/s]\n",
      " 46%|████████████████████████████████████████████████████████████████████████████████████████▊                                                                                                       | 23142/50000 [00:04<00:04, 6636.40it/s]\n",
      " 48%|███████████████████████████████████████████████████████████████████████████████████████████▋                                                                                                    | 23875/50000 [00:04<00:03, 6656.31it/s]\n",
      " 49%|██████████████████████████████████████████████████████████████████████████████████████████████▌                                                                                                 | 24610/50000 [00:05<00:03, 6676.24it/s]\n",
      " 51%|█████████████████████████████████████████████████████████████████████████████████████████████████▎                                                                                              | 25344/50000 [00:05<00:03, 6686.59it/s]\n",
      " 52%|████████████████████████████████████████████████████████████████████████████████████████████████████                                                                                            | 26063/50000 [00:05<00:03, 6652.83it/s]\n",
      " 54%|██████████████████████████████████████████████████████████████████████████████████████████████████████▊                                                                                         | 26762/50000 [00:05<00:03, 6572.43it/s]\n",
      " 55%|█████████████████████████████████████████████████████████████████████████████████████████████████████████▌                                                                                      | 27487/50000 [00:05<00:03, 6589.57it/s]\n",
      " 56%|████████████████████████████████████████████████████████████████████████████████████████████████████████████▎                                                                                   | 28196/50000 [00:05<00:03, 6558.01it/s]\n",
      " 58%|██████████████████████████████████████████████████████████████████████████████████████████████████████████████▉                                                                                 | 28880/50000 [00:05<00:03, 6463.69it/s]\n",
      " 59%|█████████████████████████████████████████████████████████████████████████████████████████████████████████████████▋                                                                              | 29599/50000 [00:05<00:03, 6496.76it/s]\n",
      " 61%|████████████████████████████████████████████████████████████████████████████████████████████████████████████████████▎                                                                           | 30274/50000 [00:05<00:03, 6396.56it/s]\n",
      " 62%|███████████████████████████████████████████████████████████████████████████████████████████████████████████████████████                                                                         | 31006/50000 [00:06<00:02, 6482.53it/s]\n",
      " 63%|█████████████████████████████████████████████████████████████████████████████████████████████████████████████████████████▊                                                                      | 31726/50000 [00:06<00:02, 6512.70it/s]\n",
      " 65%|████████████████████████████████████████████████████████████████████████████████████████████████████████████████████████████▌                                                                   | 32446/50000 [00:06<00:02, 6534.06it/s]\n",
      " 66%|███████████████████████████████████████████████████████████████████████████████████████████████████████████████████████████████▏                                                                | 33125/50000 [00:06<00:02, 6433.74it/s]\n",
      " 68%|█████████████████████████████████████████████████████████████████████████████████████████████████████████████████████████████████▋                                                              | 33769/50000 [00:06<00:02, 6260.12it/s]\n",
      " 69%|████████████████████████████████████████████████████████████████████████████████████████████████████████████████████████████████████                                                            | 34397/50000 [00:06<00:02, 6095.19it/s]\n",
      " 70%|██████████████████████████████████████████████████████████████████████████████████████████████████████████████████████████████████████▍                                                         | 35009/50000 [00:06<00:02, 5678.72it/s]\n",
      " 71%|████████████████████████████████████████████████████████████████████████████████████████████████████████████████████████████████████████▋                                                       | 35609/50000 [00:06<00:02, 5619.84it/s]\n",
      " 73%|███████████████████████████████████████████████████████████████████████████████████████████████████████████████████████████████████████████▎                                                    | 36279/50000 [00:06<00:02, 5762.98it/s]\n",
      " 74%|█████████████████████████████████████████████████████████████████████████████████████████████████████████████████████████████████████████████▊                                                  | 36935/50000 [00:07<00:02, 5831.47it/s]\n",
      " 75%|████████████████████████████████████████████████████████████████████████████████████████████████████████████████████████████████████████████████                                                | 37522/50000 [00:07<00:02, 5211.29it/s]\n",
      " 76%|██████████████████████████████████████████████████████████████████████████████████████████████████████████████████████████████████████████████████▏                                             | 38058/50000 [00:07<00:02, 4895.47it/s]\n",
      " 77%|████████████████████████████████████████████████████████████████████████████████████████████████████████████████████████████████████████████████████                                            | 38562/50000 [00:07<00:02, 4077.35it/s]\n",
      " 78%|█████████████████████████████████████████████████████████████████████████████████████████████████████████████████████████████████████████████████████▊                                          | 39003/50000 [00:07<00:02, 4063.93it/s]\n",
      " 79%|███████████████████████████████████████████████████████████████████████████████████████████████████████████████████████████████████████████████████████▋                                        | 39494/50000 [00:07<00:02, 4183.07it/s]\n"
     ]
    },
    {
     "name": "stderr",
     "output_type": "stream",
     "text": [
      " 80%|█████████████████████████████████████████████████████████████████████████████████████████████████████████████████████████████████████████████████████████▌                                      | 39976/50000 [00:07<00:02, 4248.06it/s]\n",
      " 81%|███████████████████████████████████████████████████████████████████████████████████████████████████████████████████████████████████████████████████████████▏                                    | 40413/50000 [00:07<00:02, 3990.86it/s]\n",
      " 82%|████████████████████████████████████████████████████████████████████████████████████████████████████████████████████████████████████████████████████████████▊                                   | 40824/50000 [00:08<00:02, 3750.64it/s]\n",
      " 82%|██████████████████████████████████████████████████████████████████████████████████████████████████████████████████████████████████████████████████████████████▎                                 | 41232/50000 [00:08<00:02, 3744.78it/s]\n",
      " 83%|███████████████████████████████████████████████████████████████████████████████████████████████████████████████████████████████████████████████████████████████▊                                | 41615/50000 [00:08<00:02, 3668.68it/s]\n",
      " 84%|██████████████████████████████████████████████████████████████████████████████████████████████████████████████████████████████████████████████████████████████████                              | 42209/50000 [00:08<00:01, 4064.50it/s]\n",
      " 86%|████████████████████████████████████████████████████████████████████████████████████████████████████████████████████████████████████████████████████████████████████▊                           | 42918/50000 [00:08<00:01, 4576.85it/s]\n",
      " 87%|███████████████████████████████████████████████████████████████████████████████████████████████████████████████████████████████████████████████████████████████████████▍                        | 43610/50000 [00:08<00:01, 4991.01it/s]\n",
      " 88%|█████████████████████████████████████████████████████████████████████████████████████████████████████████████████████████████████████████████████████████████████████████▌                      | 44167/50000 [00:08<00:01, 5021.41it/s]\n",
      " 89%|███████████████████████████████████████████████████████████████████████████████████████████████████████████████████████████████████████████████████████████████████████████▌                    | 44694/50000 [00:08<00:01, 4959.39it/s]\n",
      " 90%|█████████████████████████████████████████████████████████████████████████████████████████████████████████████████████████████████████████████████████████████████████████████▌                  | 45208/50000 [00:08<00:00, 4878.46it/s]\n",
      " 91%|███████████████████████████████████████████████████████████████████████████████████████████████████████████████████████████████████████████████████████████████████████████████▌                | 45709/50000 [00:09<00:00, 4785.77it/s]\n",
      " 92%|█████████████████████████████████████████████████████████████████████████████████████████████████████████████████████████████████████████████████████████████████████████████████▍              | 46197/50000 [00:09<00:00, 4482.07it/s]\n",
      " 93%|███████████████████████████████████████████████████████████████████████████████████████████████████████████████████████████████████████████████████████████████████████████████████▏            | 46658/50000 [00:09<00:00, 4399.11it/s]\n",
      " 94%|████████████████████████████████████████████████████████████████████████████████████████████████████████████████████████████████████████████████████████████████████████████████████▉           | 47115/50000 [00:09<00:00, 4330.49it/s]\n",
      " 95%|██████████████████████████████████████████████████████████████████████████████████████████████████████████████████████████████████████████████████████████████████████████████████████▌         | 47554/50000 [00:09<00:00, 4230.61it/s]\n",
      " 96%|████████████████████████████████████████████████████████████████████████████████████████████████████████████████████████████████████████████████████████████████████████████████████████▎       | 47982/50000 [00:09<00:00, 4130.29it/s]\n",
      " 97%|██████████████████████████████████████████████████████████████████████████████████████████████████████████████████████████████████████████████████████████████████████████████████████████▍     | 48549/50000 [00:09<00:00, 4398.86it/s]\n",
      " 98%|█████████████████████████████████████████████████████████████████████████████████████████████████████████████████████████████████████████████████████████████████████████████████████████████   | 49241/50000 [00:09<00:00, 4841.73it/s]\n",
      "100%|███████████████████████████████████████████████████████████████████████████████████████████████████████████████████████████████████████████████████████████████████████████████████████████████▍| 49854/50000 [00:30<00:00, 4041.88it/s]\n",
      "100%|███████████████████████████████████████████████████████████████████████████████████████████████████████████████████████████████████████████████████████████████████████████████████████████████▌| 49876/50000 [00:28<00:00, 5096.19it/s]"
     ]
    }
   ],
   "source": [
    "# 1 - Download and load 50k first vectors of\n",
    "#     https://s3-us-west-1.amazonaws.com/fasttext-vectors/wiki.en.vec\n",
    "#     https://s3-us-west-1.amazonaws.com/fasttext-vectors/wiki.fr.vec\n",
    "\n",
    "en_url = \"https://s3-us-west-1.amazonaws.com/fasttext-vectors/wiki.en.vec\"\n",
    "fr_url = \"https://s3-us-west-1.amazonaws.com/fasttext-vectors/wiki.fr.vec\"\n",
    "\n",
    "def get_raw_data(url, max_lines = 5):\n",
    "    res = {}\n",
    "    line_nb = 0\n",
    "    with requests.get(url, stream=True) as r:  # Clean streaming download and connection handling\n",
    "        for line in tqdm(r.iter_lines(), total=max_lines):  # Good looking download bar\n",
    "            if line:\n",
    "                line_nb += 1\n",
    "                if line_nb != 1:\n",
    "                    temp = line.decode('utf-8')  # Converting bytes to string\n",
    "                    word, vec = temp.split(' ', 1)  # Using same code as above to create the dict\n",
    "                    res[word] = np.fromstring(vec, sep=' ')\n",
    "                    if line_nb == max_lines + 1:\n",
    "                        break\n",
    "    return res\n",
    "\n",
    "english = get_raw_data(en_url, 50000)\n",
    "french = get_raw_data(fr_url, 50000)"
   ]
  },
  {
   "cell_type": "code",
   "execution_count": 8,
   "metadata": {},
   "outputs": [
    {
     "name": "stdout",
     "output_type": "stream",
     "text": [
      "Number of common words: 18970\n"
     ]
    }
   ],
   "source": [
    "# 2 - Get words that appear in both vocabs (= identical character strings)\n",
    "#     Use it to create the matrix X and Y (of aligned embeddings for these words)\n",
    "\n",
    "common_words = np.intersect1d(list(english.keys()), list(french.keys()))\n",
    "print(\"Number of common words:\", len(common_words))\n",
    "\n",
    "X = []\n",
    "Y = []\n",
    "\n",
    "for i, w in np.ndenumerate(common_words):\n",
    "    X.append(list(french[w]))\n",
    "    Y.append(list(english[w]))\n",
    "\n",
    "X = np.vstack(X)\n",
    "Y = np.vstack(Y)"
   ]
  },
  {
   "cell_type": "code",
   "execution_count": 9,
   "metadata": {},
   "outputs": [],
   "source": [
    "# 3 - Solve the Procrustes using the scipy package and: scipy.linalg.svd() and get the optimal W\n",
    "#     Now W*French_vector is in the same space as English_vector\n",
    "\n",
    "U, s, V_t = scipy.linalg.svd(Y.transpose().dot(X), full_matrices=True)\n",
    "W = U.dot(V_t)\n",
    "del U\n",
    "del s\n",
    "del V_t"
   ]
  },
  {
   "cell_type": "code",
   "execution_count": 10,
   "metadata": {},
   "outputs": [
    {
     "name": "stdout",
     "output_type": "stream",
     "text": [
      "['poodle', 'feline', 'hamster', 'rabbit', 'cat']\n",
      "['spaniel', 'dogs', 'terrier', 'poodle', 'dog']\n",
      "['hares', 'hounds', 'dog', 'rabbits', 'dogs']\n",
      "['sorbonne', 'gallimard', 'rouen', 'parisian', 'paris']\n",
      "['bavaria', 'saarland', 'gelsenkirchen', 'rhineland', 'germany']\n",
      "['talk/', 'utc', 'thankyou', 'anyways', 'thank']\n",
      "['vous', 'encore', 'amour', 'goodbye', 'farewell']\n",
      "['ideal', 'simple', 'imperfect', 'perfection', 'perfect']\n"
     ]
    }
   ],
   "source": [
    "# 4 - After alignment with W, give examples of English nearest neighbors of some French words (and vice versa)\n",
    "#     You will be evaluated on that part and the code above\n",
    "\n",
    "\n",
    "# Just a quick class to avoid reading a file compared to the first class we wrote\n",
    "class Translate():\n",
    "    def __init__(self, dep, arr, W):\n",
    "        self.input = dep\n",
    "        self.output = arr\n",
    "        self.W = W\n",
    "        self.word2id = {}\n",
    "        for i, value in enumerate(self.output.keys()):\n",
    "            self.word2id[value] = i\n",
    "        self.id2word = {v: k for k, v in self.word2id.items()}\n",
    "        self.embeddings = list(self.output.values())\n",
    "    \n",
    "    def most_similar(self, w_i, K=5):\n",
    "        # K most similar words: self.score  -  np.argsort\n",
    "        # We assume that we have K <= len(self.w2v) - 1\n",
    "        v1 = self.get_vec_in(w_i)\n",
    "        scores = [self.score_vec(v1, v2) for v2 in self.embeddings]\n",
    "        return [self.id2word[word_id] for word_id in np.argsort(scores)[-K:]]\n",
    "\n",
    "    def get_vec_in(self, word):\n",
    "        return self.W.dot(self.input[word].transpose()).transpose()\n",
    "\n",
    "    def score_vec(self, v1, v2):\n",
    "        return np.dot(v1, v2)/(np.linalg.norm(v1)*np.linalg.norm(v2))\n",
    "\n",
    "w2v = Translate(french, english, W)\n",
    "\n",
    "for w1 in ['chat', 'chien', 'chiens', 'paris', 'allemagne', 'merci', 'adieu', 'parfait']: # The last word is the most probable one\n",
    "    print(w2v.most_similar(w1))"
   ]
  },
  {
   "cell_type": "markdown",
   "metadata": {},
   "source": [
    "If you want to dive deeper on this subject: https://github.com/facebookresearch/MUSE"
   ]
  },
  {
   "cell_type": "markdown",
   "metadata": {},
   "source": [
    "# 3) Sentence classification with BoV and scikit-learn"
   ]
  },
  {
   "cell_type": "code",
   "execution_count": 11,
   "metadata": {},
   "outputs": [
    {
     "name": "stdout",
     "output_type": "stream",
     "text": [
      "Loaded 8543 sentences\n",
      "Loaded 1100 sentences\n",
      "Loaded 2209 sentences\n"
     ]
    }
   ],
   "source": [
    "# 1 - Load train/dev/test of Stanford Sentiment TreeBank (SST)\n",
    "#     (https://nlp.stanford.edu/~socherr/EMNLP2013_RNTN.pdf)\n",
    "\n",
    "def read_file(fname, has_cat=True):\n",
    "    X = []\n",
    "    Y = []\n",
    "    with io.open(os.path.join(PATH_TO_DATA, 'SST/' + fname), encoding='utf-8') as f:\n",
    "        next(f)  # skipping first line\n",
    "        for i, line in enumerate(f):\n",
    "            if has_cat:\n",
    "                cat, sent = line.strip().split(' ', 1)\n",
    "            else:\n",
    "                sent = line.strip()\n",
    "                cat = 0\n",
    "            X.append(sent.split(' '))\n",
    "            Y.append(int(cat))\n",
    "    print('Loaded %s sentences' % (len(X)))\n",
    "    return X, Y\n",
    "\n",
    "X_train, Y_train = read_file(\"stsa.fine.train\")\n",
    "X_dev, Y_dev = read_file(\"stsa.fine.dev\")\n",
    "X_test, _ = read_file(\"stsa.fine.test.X\", False)"
   ]
  },
  {
   "cell_type": "code",
   "execution_count": 23,
   "metadata": {},
   "outputs": [
    {
     "name": "stdout",
     "output_type": "stream",
     "text": [
      "Loaded 100000 pretrained word vectors\n"
     ]
    }
   ],
   "source": [
    "# 2 - Encode sentences with the BoV model above\n",
    "\n",
    "w2v = Word2vec(os.path.join(PATH_TO_DATA, 'crawl-300d-200k.vec'), nmax=100000)\n",
    "s2v = BoV(w2v)\n",
    "idf = s2v.build_idf(sentences)\n",
    "\n",
    "#average\n",
    "train_sent = s2v.encode(X_train)\n",
    "dev_sent = s2v.encode(X_dev)\n",
    "test_sent = s2v.encode(X_test)\n",
    "\n",
    "#Weighted average\n",
    "#train_sent = s2v.encode(X_train, idf)\n",
    "#dev_sent = s2v.encode(X_dev, idf)\n",
    "#test_sent = s2v.encode(X_test, idf)"
   ]
  },
  {
   "cell_type": "code",
   "execution_count": 24,
   "metadata": {},
   "outputs": [
    {
     "data": {
      "text/plain": [
       "LogisticRegression(C=0.5, class_weight=None, dual=False, fit_intercept=True,\n",
       "          intercept_scaling=1, max_iter=2000, multi_class='multinomial',\n",
       "          n_jobs=None, penalty='l2', random_state=0, solver='newton-cg',\n",
       "          tol=0.0001, verbose=0, warm_start=False)"
      ]
     },
     "execution_count": 24,
     "metadata": {},
     "output_type": "execute_result"
    },
    {
     "data": {
      "image/png": "[encoded data removed]",
      "text/plain": [
       "<Figure size 432x288 with 1 Axes>"
      ]
     },
     "metadata": {
      "needs_background": "light"
     },
     "output_type": "display_data"
    }
   ],
   "source": [
    "# 3 - Learn Logistic Regression on top of sentence embeddings using scikit-learn\n",
    "#     (consider tuning the L2 regularization on the dev set)\n",
    "\n",
    "x_train, x_test, y_train, y_test = train_test_split(train_sent, Y_train, test_size=0.2, shuffle=True)\n",
    "\n",
    "C = [0.0001, 0.0005, 0.001, 0.005, 0.0075, 0.01, 0.02, 0.05, 0.1, 0.5, 1, 5, 10, 50, 100, 500, 1000]\n",
    "acc = []\n",
    "for c in C:\n",
    "    clf = sklearn.linear_model.LogisticRegression(random_state=0, C=c, max_iter=2000, solver='newton-cg', multi_class='multinomial')\n",
    "    clf.fit(x_train, y_train)\n",
    "    acc.append([clf.score(x_train, y_train), clf.score(x_test, y_test)])\n",
    "\n",
    "acc = np.array(acc)\n",
    "plt.plot(C, acc[:, 0], c='r')\n",
    "plt.plot(C, acc[:, 1], c='b')\n",
    "plt.xscale('log')\n",
    "\n",
    "clf = sklearn.linear_model.LogisticRegression(random_state=0, C=C[acc[:, 1].argsort()[-1]], max_iter=2000, solver='newton-cg', multi_class='multinomial')\n",
    "clf.fit(x_train, y_train)"
   ]
  },
  {
   "cell_type": "code",
   "execution_count": 25,
   "metadata": {},
   "outputs": [],
   "source": [
    "# 4 - Produce 2210 predictions for the test set (in the same order). One line = one prediction (=0,1,2,3,4).\n",
    "#     Attach the output file \"logreg_bov_y_test_sst.txt\" to your deliverable.\n",
    "#     You will be evaluated on the results of the test set.\n",
    "\n",
    "predictions = clf.predict(test_sent)\n",
    "file = open(\"logreg_bov_y_test_sst.txt\", \"w\")\n",
    "for p in predictions:\n",
    "    file.write(str(p) + \"\\n\")\n",
    "file.close()"
   ]
  },
  {
   "cell_type": "code",
   "execution_count": 26,
   "metadata": {},
   "outputs": [
    {
     "name": "stdout",
     "output_type": "stream",
     "text": [
      "0.9287158157353917\n"
     ]
    }
   ],
   "source": [
    "# BONUS!\n",
    "# 5 - Try to improve performance with another classifier\n",
    "#     Attach the output file \"XXX_bov_y_test_sst.txt\" to your deliverable (where XXX = the name of the classifier)\n",
    "\n",
    "pca = sklearn.decomposition.PCA(n_components=200)\n",
    "train_red = pca.fit_transform(train_sent)\n",
    "print(np.sum(pca.explained_variance_ratio_))\n",
    "\n",
    "\n",
    "clf = sklearn.ensemble.RandomForestClassifier(max_features=70, max_depth=10, n_estimators=1000, min_samples_leaf=1 ,n_jobs=8, oob_score=True)\n",
    "clf.fit(train_red, Y_train)\n",
    "\n",
    "predictions = clf.predict(pca.transform(test_sent))\n",
    "file = open(\"RFC_bov_y_test_sst.txt\", \"w\")\n",
    "for p in predictions:\n",
    "    file.write(str(p) + \"\\n\")\n",
    "file.close()"
   ]
  },
  {
   "cell_type": "markdown",
   "metadata": {},
   "source": [
    "# 4) Sentence classification with LSTMs in Keras"
   ]
  },
  {
   "cell_type": "markdown",
   "metadata": {},
   "source": [
    "## 4.1 - Preprocessing"
   ]
  },
  {
   "cell_type": "code",
   "execution_count": 27,
   "metadata": {},
   "outputs": [
    {
     "name": "stderr",
     "output_type": "stream",
     "text": [
      "Using TensorFlow backend.\n"
     ]
    }
   ],
   "source": [
    "import tensorflow as tf\n",
    "import keras"
   ]
  },
  {
   "cell_type": "code",
   "execution_count": 28,
   "metadata": {},
   "outputs": [
    {
     "name": "stdout",
     "output_type": "stream",
     "text": [
      "Loaded 8543 sentences\n",
      "Loaded 1100 sentences\n",
      "Loaded 2209 sentences\n"
     ]
    }
   ],
   "source": [
    "# 1 - Load train/dev/test sets of SST\n",
    "PATH_TO_DATA = \"data/\"\n",
    "\n",
    "def read_file(fname, has_cat=True):\n",
    "    X = []\n",
    "    Y = []\n",
    "    with io.open(os.path.join(PATH_TO_DATA, 'SST/' + fname), encoding='utf-8') as f:\n",
    "        next(f)  # skipping first line\n",
    "        for i, line in enumerate(f):\n",
    "            if has_cat:\n",
    "                cat, sent = line.strip().split(' ', 1)\n",
    "                cat2 = [0,0,0,0,0]\n",
    "                cat2[int(cat)] = 1\n",
    "                cat = cat2\n",
    "            else:\n",
    "                sent = line.strip()\n",
    "                cat = [0,0,0,0,0]\n",
    "            X.append(sent)\n",
    "            Y.append(cat)\n",
    "    print('Loaded %s sentences' % (len(X)))\n",
    "    return X, Y\n",
    "\n",
    "X_train, Y_train = read_file(\"stsa.fine.train\")\n",
    "X_dev, Y_dev = read_file(\"stsa.fine.dev\")\n",
    "X_test, _ = read_file(\"stsa.fine.test.X\", False)\n"
   ]
  },
  {
   "cell_type": "code",
   "execution_count": 29,
   "metadata": {},
   "outputs": [
    {
     "name": "stdout",
     "output_type": "stream",
     "text": [
      "Total number of words : 17837\n",
      "Examples : [[12345, 1090, 9079, 1224, 11968], [7831, 876, 3632, 13777, 19490, 12296, 1602, 1224, 7918, 10222, 12296, 15382, 1224, 3249, 2880, 6367, 10222, 21376, 15440, 7367, 8071, 19730, 1721, 3461, 876, 13266, 12296, 20528, 16206], [4782, 4457, 9516, 13221, 4455, 8169, 21025, 1224, 9658, 6860, 14898, 7635, 738, 10094, 17700], [6432, 21373, 21300, 737, 12296, 1350, 14074, 3088, 21243, 15440, 8014, 1692, 14898, 5100, 6555, 15818], [18164, 20255, 12985, 20860, 1224, 2579, 8762, 9159, 1357, 12383, 5232, 9906, 8567, 6454]]\n"
     ]
    }
   ],
   "source": [
    "# 2 - Transform text to integers using keras.preprocessing.text.one_hot function\n",
    "#     https://keras.io/preprocessing/text/\n",
    "\n",
    "total = X_train + X_dev + X_test\n",
    "total = \" \".join(total)\n",
    "words = set(keras.preprocessing.text.text_to_word_sequence(total))\n",
    "n = len(words)\n",
    "print(\"Total number of words :\", n)\n",
    "\n",
    "train_enc = [keras.preprocessing.text.one_hot(sent, round(n * 1.2)) for sent in X_train] \n",
    "dev_enc = [keras.preprocessing.text.one_hot(sent, round(n * 1.2)) for sent in X_dev] \n",
    "test_enc = [keras.preprocessing.text.one_hot(sent, round(n * 1.2)) for sent in X_test] \n",
    "print(\"Examples :\", dev_enc[:5])"
   ]
  },
  {
   "cell_type": "markdown",
   "metadata": {},
   "source": [
    "**Padding input data**\n",
    "\n",
    "Models in Keras (and elsewhere) take batches of sentences of the same length as input. It is because Deep Learning framework have been designed to handle well Tensors, which are particularly suited for fast computation on the GPU.\n",
    "\n",
    "Since sentences have different sizes, we \"pad\" them. That is, we add dummy \"padding\" tokens so that they all have the same length.\n",
    "\n",
    "The input to a Keras model thus has this size : (batchsize, maxseqlen) where maxseqlen is the maximum length of a sentence in the batch."
   ]
  },
  {
   "cell_type": "code",
   "execution_count": 30,
   "metadata": {},
   "outputs": [
    {
     "name": "stdout",
     "output_type": "stream",
     "text": [
      "Maximum sentence length :  283\n",
      "Example : [    0     0     0     0     0     0     0     0     0     0     0     0\n",
      "     0     0     0     0     0     0     0     0     0     0     0     0\n",
      "     0     0     0     0     0     0     0     0     0     0     0     0\n",
      "     0     0     0     0     0     0     0     0     0     0     0     0\n",
      "     0     0     0     0     0     0     0     0     0     0     0     0\n",
      "     0     0     0     0     0     0     0     0     0     0     0     0\n",
      "     0     0     0     0     0     0     0     0     0     0     0     0\n",
      "     0     0     0     0     0     0     0     0     0     0     0     0\n",
      "     0     0     0     0     0     0     0     0     0     0     0     0\n",
      "     0     0     0     0     0     0     0     0     0     0     0     0\n",
      "     0     0     0     0     0     0     0     0     0     0     0     0\n",
      "     0     0     0     0     0     0     0     0     0     0     0     0\n",
      "     0     0     0     0     0     0     0     0     0     0     0     0\n",
      "     0     0     0     0     0     0     0     0     0     0     0     0\n",
      "     0     0     0     0     0     0     0     0     0     0     0     0\n",
      "     0     0     0     0     0     0     0     0     0     0     0     0\n",
      "     0     0     0     0     0     0     0     0     0     0     0     0\n",
      "     0     0     0     0     0     0     0     0     0     0     0     0\n",
      "     0     0     0     0     0     0     0     0     0     0     0     0\n",
      "     0     0     0     0     0     0     0     0     0     0     0     0\n",
      "     0     0     0     0     0     0     0     0     0     0     0     0\n",
      "     0     0     0     0     0     0     0     0     0     0     0     0\n",
      "     0     0     0     0     0     0     0     0     0     0     0     0\n",
      "     0     0     0     0     0     0     0     0     0     0     0     0\n",
      "     0     0     0     0     0     0     0     0     0     0     0     0\n",
      "     0     0     0     0     0     0     0     0     0     0     0     0\n",
      "     0     0     0     0     0     0     0     0     0     0     0     0\n",
      "     0     0     0     0 20863 12554  4798 12296  1550 13199  3343  1224\n",
      " 15474 10121 18163  4462]\n"
     ]
    }
   ],
   "source": [
    "# 3 - Pad your sequences using keras.preprocessing.sequence.pad_sequences\n",
    "#     https://keras.io/preprocessing/sequence/\n",
    "\n",
    "total = X_train + X_dev + X_test\n",
    "max_len = max(list(map(len, total)))\n",
    "print(\"Maximum sentence length : \", max_len)\n",
    "\n",
    "train_pad = keras.preprocessing.sequence.pad_sequences(train_enc, maxlen=round(max_len*1.2), value=0)\n",
    "dev_pad = keras.preprocessing.sequence.pad_sequences(dev_enc, maxlen=round(max_len*1.2), value=0)\n",
    "test_pad = keras.preprocessing.sequence.pad_sequences(test_enc, maxlen=round(max_len*1.2), value=0)\n",
    "\n",
    "print(\"Example :\", train_pad[0])"
   ]
  },
  {
   "cell_type": "markdown",
   "metadata": {},
   "source": [
    "## 4.2 - Design and train your model"
   ]
  },
  {
   "cell_type": "code",
   "execution_count": 41,
   "metadata": {},
   "outputs": [],
   "source": [
    "# 4 - Design your encoder + classifier using keras.layers\n",
    "#     In Keras, Torch and other deep learning framework, we create a \"container\" which is the Sequential() module.\n",
    "#     Then we add components to this contained : the lookuptable, the LSTM, the classifier etc.\n",
    "#     All of these components are contained in the Sequential() and are trained together.\n",
    "\n",
    "from keras.models import Sequential\n",
    "from keras.layers import Embedding, LSTM, Dense, Activation\n",
    "\n",
    "embed_dim  = 32  # word embedding dimension\n",
    "nhid       = 64  # number of hidden units in the LSTM\n",
    "vocab_size = n + 1  # size of the vocabulary (see above +1 for dummy padding)\n",
    "n_classes  = 5\n",
    "\n",
    "model = Sequential()\n",
    "model.add(Embedding(vocab_size, embed_dim))\n",
    "model.add(LSTM(nhid, dropout=0.2, recurrent_dropout=0.2))\n",
    "model.add(Dense(n_classes, activation='softmax'))\n"
   ]
  },
  {
   "cell_type": "code",
   "execution_count": 42,
   "metadata": {},
   "outputs": [
    {
     "name": "stdout",
     "output_type": "stream",
     "text": [
      "_________________________________________________________________\n",
      "Layer (type)                 Output Shape              Param #   \n",
      "=================================================================\n",
      "embedding_4 (Embedding)      (None, None, 32)          570816    \n",
      "_________________________________________________________________\n",
      "lstm_4 (LSTM)                (None, 64)                24832     \n",
      "_________________________________________________________________\n",
      "dense_4 (Dense)              (None, 5)                 325       \n",
      "=================================================================\n",
      "Total params: 595,973\n",
      "Trainable params: 595,973\n",
      "Non-trainable params: 0\n",
      "_________________________________________________________________\n",
      "None\n"
     ]
    }
   ],
   "source": [
    "# 5 - Define your loss/optimizer/metrics\n",
    "\n",
    "loss_classif     =  'categorical_crossentropy' # find the right loss for multi-class classification\n",
    "optimizer        =  'adam' # find the right optimizer\n",
    "metrics_classif  =  ['accuracy']\n",
    "\n",
    "# Observe how easy (but blackboxed) this is in Keras\n",
    "model.compile(loss=loss_classif,\n",
    "              optimizer=optimizer,\n",
    "              metrics=metrics_classif)\n",
    "print(model.summary())"
   ]
  },
  {
   "cell_type": "code",
   "execution_count": 43,
   "metadata": {
    "scrolled": true
   },
   "outputs": [
    {
     "name": "stdout",
     "output_type": "stream",
     "text": [
      "Train on 880 samples, validate on 220 samples\n",
      "Epoch 1/6\n",
      "880/880 [==============================] - ETA: 40s - loss: 1.6099 - acc: 0.28 - ETA: 25s - loss: 1.6112 - acc: 0.20 - ETA: 20s - loss: 1.6099 - acc: 0.20 - ETA: 17s - loss: 1.6089 - acc: 0.21 - ETA: 15s - loss: 1.6092 - acc: 0.20 - ETA: 13s - loss: 1.6079 - acc: 0.23 - ETA: 12s - loss: 1.6080 - acc: 0.24 - ETA: 11s - loss: 1.6070 - acc: 0.25 - ETA: 10s - loss: 1.6070 - acc: 0.24 - ETA: 10s - loss: 1.6074 - acc: 0.22 - ETA: 9s - loss: 1.6065 - acc: 0.2301 - ETA: 9s - loss: 1.6054 - acc: 0.242 - ETA: 8s - loss: 1.6041 - acc: 0.257 - ETA: 7s - loss: 1.6037 - acc: 0.256 - ETA: 7s - loss: 1.6026 - acc: 0.258 - ETA: 6s - loss: 1.6019 - acc: 0.253 - ETA: 5s - loss: 1.6023 - acc: 0.246 - ETA: 5s - loss: 1.6014 - acc: 0.250 - ETA: 4s - loss: 1.6000 - acc: 0.245 - ETA: 4s - loss: 1.5994 - acc: 0.245 - ETA: 3s - loss: 1.5986 - acc: 0.251 - ETA: 2s - loss: 1.5988 - acc: 0.251 - ETA: 2s - loss: 1.5993 - acc: 0.250 - ETA: 1s - loss: 1.5994 - acc: 0.250 - ETA: 1s - loss: 1.5962 - acc: 0.248 - ETA: 0s - loss: 1.5975 - acc: 0.246 - ETA: 0s - loss: 1.5954 - acc: 0.248 - 15s 18ms/step - loss: 1.5955 - acc: 0.2500 - val_loss: 1.5666 - val_acc: 0.2364\n",
      "Epoch 2/6\n",
      "880/880 [==============================] - ETA: 12s - loss: 1.5921 - acc: 0.28 - ETA: 11s - loss: 1.5968 - acc: 0.23 - ETA: 11s - loss: 1.5677 - acc: 0.25 - ETA: 11s - loss: 1.5823 - acc: 0.25 - ETA: 10s - loss: 1.5730 - acc: 0.25 - ETA: 10s - loss: 1.5738 - acc: 0.26 - ETA: 9s - loss: 1.5746 - acc: 0.2545 - ETA: 9s - loss: 1.5748 - acc: 0.253 - ETA: 8s - loss: 1.5755 - acc: 0.253 - ETA: 8s - loss: 1.5769 - acc: 0.246 - ETA: 7s - loss: 1.5774 - acc: 0.252 - ETA: 7s - loss: 1.5761 - acc: 0.252 - ETA: 6s - loss: 1.5808 - acc: 0.254 - ETA: 6s - loss: 1.5811 - acc: 0.258 - ETA: 5s - loss: 1.5819 - acc: 0.252 - ETA: 5s - loss: 1.5778 - acc: 0.257 - ETA: 4s - loss: 1.5784 - acc: 0.255 - ETA: 4s - loss: 1.5791 - acc: 0.265 - ETA: 4s - loss: 1.5779 - acc: 0.273 - ETA: 3s - loss: 1.5756 - acc: 0.279 - ETA: 3s - loss: 1.5740 - acc: 0.284 - ETA: 2s - loss: 1.5720 - acc: 0.288 - ETA: 2s - loss: 1.5743 - acc: 0.286 - ETA: 1s - loss: 1.5735 - acc: 0.291 - ETA: 1s - loss: 1.5724 - acc: 0.291 - ETA: 0s - loss: 1.5723 - acc: 0.290 - ETA: 0s - loss: 1.5728 - acc: 0.290 - 14s 16ms/step - loss: 1.5717 - acc: 0.2898 - val_loss: 1.5636 - val_acc: 0.2364\n",
      "Epoch 3/6\n",
      "880/880 [==============================] - ETA: 13s - loss: 1.5039 - acc: 0.50 - ETA: 12s - loss: 1.5574 - acc: 0.34 - ETA: 12s - loss: 1.5686 - acc: 0.32 - ETA: 11s - loss: 1.5489 - acc: 0.34 - ETA: 11s - loss: 1.5390 - acc: 0.34 - ETA: 10s - loss: 1.5414 - acc: 0.32 - ETA: 10s - loss: 1.5464 - acc: 0.30 - ETA: 9s - loss: 1.5324 - acc: 0.3125 - ETA: 9s - loss: 1.5324 - acc: 0.319 - ETA: 8s - loss: 1.5271 - acc: 0.331 - ETA: 8s - loss: 1.5250 - acc: 0.340 - ETA: 7s - loss: 1.5233 - acc: 0.343 - ETA: 7s - loss: 1.5311 - acc: 0.334 - ETA: 6s - loss: 1.5385 - acc: 0.325 - ETA: 6s - loss: 1.5411 - acc: 0.322 - ETA: 5s - loss: 1.5437 - acc: 0.324 - ETA: 5s - loss: 1.5452 - acc: 0.327 - ETA: 4s - loss: 1.5435 - acc: 0.333 - ETA: 4s - loss: 1.5450 - acc: 0.335 - ETA: 3s - loss: 1.5476 - acc: 0.332 - ETA: 3s - loss: 1.5455 - acc: 0.343 - ETA: 2s - loss: 1.5432 - acc: 0.353 - ETA: 2s - loss: 1.5453 - acc: 0.351 - ETA: 1s - loss: 1.5434 - acc: 0.354 - ETA: 1s - loss: 1.5451 - acc: 0.352 - ETA: 0s - loss: 1.5460 - acc: 0.351 - ETA: 0s - loss: 1.5487 - acc: 0.344 - 15s 17ms/step - loss: 1.5479 - acc: 0.3466 - val_loss: 1.5650 - val_acc: 0.2909\n",
      "Epoch 4/6\n",
      "880/880 [==============================] - ETA: 14s - loss: 1.5007 - acc: 0.37 - ETA: 14s - loss: 1.4768 - acc: 0.43 - ETA: 13s - loss: 1.4848 - acc: 0.45 - ETA: 13s - loss: 1.5008 - acc: 0.43 - ETA: 12s - loss: 1.5002 - acc: 0.43 - ETA: 11s - loss: 1.4969 - acc: 0.44 - ETA: 11s - loss: 1.4982 - acc: 0.44 - ETA: 10s - loss: 1.5002 - acc: 0.42 - ETA: 10s - loss: 1.5059 - acc: 0.42 - ETA: 9s - loss: 1.5041 - acc: 0.4281 - ETA: 8s - loss: 1.5062 - acc: 0.417 - ETA: 8s - loss: 1.5037 - acc: 0.421 - ETA: 7s - loss: 1.5044 - acc: 0.415 - ETA: 7s - loss: 1.5088 - acc: 0.397 - ETA: 6s - loss: 1.5083 - acc: 0.391 - ETA: 6s - loss: 1.5068 - acc: 0.380 - ETA: 5s - loss: 1.5088 - acc: 0.371 - ETA: 5s - loss: 1.5033 - acc: 0.376 - ETA: 4s - loss: 1.5073 - acc: 0.370 - ETA: 3s - loss: 1.5099 - acc: 0.359 - ETA: 3s - loss: 1.5096 - acc: 0.358 - ETA: 2s - loss: 1.5083 - acc: 0.359 - ETA: 2s - loss: 1.5052 - acc: 0.365 - ETA: 1s - loss: 1.5011 - acc: 0.365 - ETA: 1s - loss: 1.4963 - acc: 0.372 - ETA: 0s - loss: 1.4946 - acc: 0.371 - ETA: 0s - loss: 1.4937 - acc: 0.371 - 15s 17ms/step - loss: 1.4956 - acc: 0.3705 - val_loss: 1.5554 - val_acc: 0.2455\n",
      "Epoch 5/6\n",
      "880/880 [==============================] - ETA: 15s - loss: 1.3879 - acc: 0.31 - ETA: 15s - loss: 1.3407 - acc: 0.40 - ETA: 13s - loss: 1.3574 - acc: 0.42 - ETA: 13s - loss: 1.3660 - acc: 0.42 - ETA: 12s - loss: 1.3634 - acc: 0.45 - ETA: 11s - loss: 1.3717 - acc: 0.45 - ETA: 10s - loss: 1.3726 - acc: 0.45 - ETA: 10s - loss: 1.3763 - acc: 0.45 - ETA: 9s - loss: 1.3880 - acc: 0.4549 - ETA: 9s - loss: 1.3876 - acc: 0.453 - ETA: 8s - loss: 1.3811 - acc: 0.460 - ETA: 8s - loss: 1.3822 - acc: 0.453 - ETA: 7s - loss: 1.3761 - acc: 0.459 - ETA: 6s - loss: 1.3743 - acc: 0.464 - ETA: 6s - loss: 1.3750 - acc: 0.466 - ETA: 5s - loss: 1.3790 - acc: 0.453 - ETA: 5s - loss: 1.3744 - acc: 0.454 - ETA: 4s - loss: 1.3736 - acc: 0.454 - ETA: 4s - loss: 1.3673 - acc: 0.458 - ETA: 3s - loss: 1.3637 - acc: 0.465 - ETA: 3s - loss: 1.3620 - acc: 0.464 - ETA: 2s - loss: 1.3631 - acc: 0.464 - ETA: 2s - loss: 1.3625 - acc: 0.467 - ETA: 1s - loss: 1.3564 - acc: 0.472 - ETA: 1s - loss: 1.3594 - acc: 0.475 - ETA: 0s - loss: 1.3594 - acc: 0.478 - ETA: 0s - loss: 1.3536 - acc: 0.486 - 15s 17ms/step - loss: 1.3508 - acc: 0.4875 - val_loss: 1.5527 - val_acc: 0.3045\n",
      "Epoch 6/6\n",
      "880/880 [==============================] - ETA: 13s - loss: 1.1833 - acc: 0.62 - ETA: 12s - loss: 1.1815 - acc: 0.60 - ETA: 12s - loss: 1.1255 - acc: 0.64 - ETA: 11s - loss: 1.1550 - acc: 0.60 - ETA: 11s - loss: 1.1340 - acc: 0.60 - ETA: 10s - loss: 1.1716 - acc: 0.57 - ETA: 10s - loss: 1.1522 - acc: 0.59 - ETA: 9s - loss: 1.1609 - acc: 0.5898 - ETA: 9s - loss: 1.1530 - acc: 0.597 - ETA: 8s - loss: 1.1511 - acc: 0.603 - ETA: 8s - loss: 1.1514 - acc: 0.599 - ETA: 7s - loss: 1.1442 - acc: 0.604 - ETA: 7s - loss: 1.1463 - acc: 0.601 - ETA: 6s - loss: 1.1393 - acc: 0.607 - ETA: 6s - loss: 1.1312 - acc: 0.612 - ETA: 5s - loss: 1.1254 - acc: 0.613 - ETA: 5s - loss: 1.1290 - acc: 0.608 - ETA: 4s - loss: 1.1224 - acc: 0.607 - ETA: 4s - loss: 1.1298 - acc: 0.606 - ETA: 3s - loss: 1.1323 - acc: 0.607 - ETA: 3s - loss: 1.1299 - acc: 0.607 - ETA: 2s - loss: 1.1306 - acc: 0.609 - ETA: 2s - loss: 1.1280 - acc: 0.612 - ETA: 1s - loss: 1.1272 - acc: 0.613 - ETA: 1s - loss: 1.1221 - acc: 0.612 - ETA: 0s - loss: 1.1195 - acc: 0.616 - ETA: 0s - loss: 1.1150 - acc: 0.620 - 15s 17ms/step - loss: 1.1128 - acc: 0.6216 - val_loss: 1.5541 - val_acc: 0.2773\n"
     ]
    },
    {
     "data": {
      "image/png": "[encoded data removed]",
      "text/plain": [
       "<Figure size 1440x504 with 2 Axes>"
      ]
     },
     "metadata": {
      "needs_background": "light"
     },
     "output_type": "display_data"
    }
   ],
   "source": [
    "# 6 - Train your model and find the best hyperparameters for your dev set\n",
    "#     you will be evaluated on the quality of your predictions on the test set\n",
    "\n",
    "def plot_history(history):\n",
    "    fig, (ax1, ax2) = plt.subplots(1, 2, figsize=(20, 7))\n",
    "    ax1.plot(history.history['acc'])\n",
    "    ax1.plot(history.history['val_acc'])\n",
    "    ax1.set_title('model accuracy')\n",
    "    ax1.set_ylabel('accuracy')\n",
    "    ax1.set_xlabel('epoch')\n",
    "    ax1.legend(['train', 'test'], loc='upper left')\n",
    "    ax2.plot(history.history['loss'])\n",
    "    ax2.plot(history.history['val_loss'])\n",
    "    ax2.set_title('model loss')\n",
    "    ax2.set_ylabel('loss')\n",
    "    ax2.set_xlabel('epoch')\n",
    "    ax2.legend(['train', 'test'], loc='upper left')\n",
    "\n",
    "bs = 32\n",
    "n_epochs = 6\n",
    "\n",
    "history = model.fit(dev_pad, np.vstack(Y_dev), batch_size=bs, epochs=n_epochs, validation_split=0.2, verbose=1)\n",
    "\n",
    "plot_history(history)"
   ]
  },
  {
   "cell_type": "code",
   "execution_count": 45,
   "metadata": {
    "scrolled": true
   },
   "outputs": [
    {
     "name": "stdout",
     "output_type": "stream",
     "text": [
      "Epoch 1/4\n"
     ]
    },
    {
     "name": "stdout",
     "output_type": "stream",
     "text": [
      "6624/8543 [======================>.......] - ETA: 8:10 - loss: 1.6088 - acc: 0.218 - ETA: 5:10 - loss: 1.6083 - acc: 0.187 - ETA: 4:08 - loss: 1.6086 - acc: 0.197 - ETA: 3:40 - loss: 1.6100 - acc: 0.195 - ETA: 3:20 - loss: 1.6091 - acc: 0.212 - ETA: 3:06 - loss: 1.6096 - acc: 0.203 - ETA: 2:58 - loss: 1.6081 - acc: 0.232 - ETA: 2:50 - loss: 1.6078 - acc: 0.234 - ETA: 2:45 - loss: 1.6069 - acc: 0.239 - ETA: 2:41 - loss: 1.6070 - acc: 0.240 - ETA: 2:37 - loss: 1.6064 - acc: 0.238 - ETA: 2:34 - loss: 1.6059 - acc: 0.237 - ETA: 2:31 - loss: 1.6055 - acc: 0.238 - ETA: 2:29 - loss: 1.6041 - acc: 0.245 - ETA: 2:26 - loss: 1.6030 - acc: 0.252 - ETA: 2:25 - loss: 1.6019 - acc: 0.250 - ETA: 2:23 - loss: 1.6009 - acc: 0.250 - ETA: 2:22 - loss: 1.6004 - acc: 0.255 - ETA: 2:20 - loss: 1.6002 - acc: 0.251 - ETA: 2:19 - loss: 1.5997 - acc: 0.251 - ETA: 2:17 - loss: 1.5976 - acc: 0.254 - ETA: 2:16 - loss: 1.5969 - acc: 0.255 - ETA: 2:14 - loss: 1.5941 - acc: 0.258 - ETA: 2:13 - loss: 1.5936 - acc: 0.260 - ETA: 2:12 - loss: 1.5887 - acc: 0.270 - ETA: 2:11 - loss: 1.5867 - acc: 0.271 - ETA: 2:10 - loss: 1.5871 - acc: 0.275 - ETA: 2:09 - loss: 1.5888 - acc: 0.273 - ETA: 2:08 - loss: 1.5897 - acc: 0.272 - ETA: 2:07 - loss: 1.5896 - acc: 0.271 - ETA: 2:06 - loss: 1.5870 - acc: 0.274 - ETA: 2:05 - loss: 1.5871 - acc: 0.272 - ETA: 2:04 - loss: 1.5843 - acc: 0.273 - ETA: 2:03 - loss: 1.5820 - acc: 0.272 - ETA: 2:02 - loss: 1.5819 - acc: 0.267 - ETA: 2:01 - loss: 1.5803 - acc: 0.267 - ETA: 2:00 - loss: 1.5806 - acc: 0.266 - ETA: 2:00 - loss: 1.5793 - acc: 0.269 - ETA: 1:59 - loss: 1.5773 - acc: 0.270 - ETA: 1:58 - loss: 1.5758 - acc: 0.270 - ETA: 1:57 - loss: 1.5767 - acc: 0.267 - ETA: 1:57 - loss: 1.5756 - acc: 0.270 - ETA: 1:56 - loss: 1.5737 - acc: 0.272 - ETA: 1:55 - loss: 1.5751 - acc: 0.270 - ETA: 1:55 - loss: 1.5756 - acc: 0.268 - ETA: 1:54 - loss: 1.5773 - acc: 0.266 - ETA: 1:54 - loss: 1.5781 - acc: 0.266 - ETA: 1:53 - loss: 1.5788 - acc: 0.265 - ETA: 1:53 - loss: 1.5793 - acc: 0.262 - ETA: 1:52 - loss: 1.5788 - acc: 0.265 - ETA: 1:52 - loss: 1.5777 - acc: 0.269 - ETA: 1:51 - loss: 1.5765 - acc: 0.268 - ETA: 1:50 - loss: 1.5768 - acc: 0.267 - ETA: 1:50 - loss: 1.5777 - acc: 0.266 - ETA: 1:50 - loss: 1.5779 - acc: 0.264 - ETA: 1:49 - loss: 1.5788 - acc: 0.264 - ETA: 1:48 - loss: 1.5791 - acc: 0.262 - ETA: 1:48 - loss: 1.5780 - acc: 0.265 - ETA: 1:47 - loss: 1.5781 - acc: 0.263 - ETA: 1:46 - loss: 1.5779 - acc: 0.261 - ETA: 1:46 - loss: 1.5761 - acc: 0.263 - ETA: 1:45 - loss: 1.5743 - acc: 0.263 - ETA: 1:45 - loss: 1.5742 - acc: 0.262 - ETA: 1:44 - loss: 1.5738 - acc: 0.263 - ETA: 1:44 - loss: 1.5747 - acc: 0.261 - ETA: 1:43 - loss: 1.5737 - acc: 0.262 - ETA: 1:42 - loss: 1.5745 - acc: 0.262 - ETA: 1:42 - loss: 1.5745 - acc: 0.263 - ETA: 1:41 - loss: 1.5754 - acc: 0.261 - ETA: 1:41 - loss: 1.5751 - acc: 0.262 - ETA: 1:40 - loss: 1.5758 - acc: 0.261 - ETA: 1:40 - loss: 1.5765 - acc: 0.259 - ETA: 1:39 - loss: 1.5771 - acc: 0.258 - ETA: 1:39 - loss: 1.5771 - acc: 0.258 - ETA: 1:38 - loss: 1.5766 - acc: 0.257 - ETA: 1:37 - loss: 1.5763 - acc: 0.257 - ETA: 1:37 - loss: 1.5759 - acc: 0.256 - ETA: 1:36 - loss: 1.5753 - acc: 0.256 - ETA: 1:36 - loss: 1.5750 - acc: 0.256 - ETA: 1:35 - loss: 1.5751 - acc: 0.254 - ETA: 1:35 - loss: 1.5752 - acc: 0.255 - ETA: 1:34 - loss: 1.5758 - acc: 0.254 - ETA: 1:34 - loss: 1.5754 - acc: 0.254 - ETA: 1:33 - loss: 1.5757 - acc: 0.254 - ETA: 1:33 - loss: 1.5749 - acc: 0.255 - ETA: 1:32 - loss: 1.5741 - acc: 0.256 - ETA: 1:31 - loss: 1.5743 - acc: 0.257 - ETA: 1:31 - loss: 1.5734 - acc: 0.259 - ETA: 1:30 - loss: 1.5725 - acc: 0.260 - ETA: 1:30 - loss: 1.5739 - acc: 0.258 - ETA: 1:29 - loss: 1.5744 - acc: 0.258 - ETA: 1:29 - loss: 1.5749 - acc: 0.257 - ETA: 1:28 - loss: 1.5748 - acc: 0.257 - ETA: 1:27 - loss: 1.5745 - acc: 0.257 - ETA: 1:27 - loss: 1.5751 - acc: 0.256 - ETA: 1:26 - loss: 1.5745 - acc: 0.256 - ETA: 1:26 - loss: 1.5759 - acc: 0.254 - ETA: 1:25 - loss: 1.5756 - acc: 0.256 - ETA: 1:25 - loss: 1.5753 - acc: 0.257 - ETA: 1:24 - loss: 1.5757 - acc: 0.258 - ETA: 1:23 - loss: 1.5752 - acc: 0.259 - ETA: 1:23 - loss: 1.5750 - acc: 0.258 - ETA: 1:22 - loss: 1.5753 - acc: 0.258 - ETA: 1:22 - loss: 1.5742 - acc: 0.259 - ETA: 1:21 - loss: 1.5743 - acc: 0.260 - ETA: 1:21 - loss: 1.5737 - acc: 0.260 - ETA: 1:20 - loss: 1.5736 - acc: 0.260 - ETA: 1:20 - loss: 1.5732 - acc: 0.259 - ETA: 1:19 - loss: 1.5728 - acc: 0.261 - ETA: 1:19 - loss: 1.5730 - acc: 0.261 - ETA: 1:18 - loss: 1.5731 - acc: 0.262 - ETA: 1:18 - loss: 1.5726 - acc: 0.262 - ETA: 1:17 - loss: 1.5732 - acc: 0.262 - ETA: 1:17 - loss: 1.5731 - acc: 0.262 - ETA: 1:16 - loss: 1.5727 - acc: 0.263 - ETA: 1:16 - loss: 1.5722 - acc: 0.264 - ETA: 1:15 - loss: 1.5719 - acc: 0.264 - ETA: 1:15 - loss: 1.5715 - acc: 0.264 - ETA: 1:14 - loss: 1.5718 - acc: 0.263 - ETA: 1:14 - loss: 1.5715 - acc: 0.264 - ETA: 1:13 - loss: 1.5715 - acc: 0.265 - ETA: 1:13 - loss: 1.5713 - acc: 0.265 - ETA: 1:12 - loss: 1.5711 - acc: 0.265 - ETA: 1:12 - loss: 1.5709 - acc: 0.265 - ETA: 1:11 - loss: 1.5718 - acc: 0.264 - ETA: 1:11 - loss: 1.5721 - acc: 0.264 - ETA: 1:10 - loss: 1.5723 - acc: 0.263 - ETA: 1:10 - loss: 1.5725 - acc: 0.263 - ETA: 1:09 - loss: 1.5730 - acc: 0.261 - ETA: 1:09 - loss: 1.5729 - acc: 0.262 - ETA: 1:08 - loss: 1.5730 - acc: 0.261 - ETA: 1:08 - loss: 1.5727 - acc: 0.262 - ETA: 1:07 - loss: 1.5729 - acc: 0.262 - ETA: 1:07 - loss: 1.5727 - acc: 0.263 - ETA: 1:06 - loss: 1.5728 - acc: 0.263 - ETA: 1:06 - loss: 1.5728 - acc: 0.262 - ETA: 1:05 - loss: 1.5726 - acc: 0.262 - ETA: 1:05 - loss: 1.5728 - acc: 0.262 - ETA: 1:04 - loss: 1.5731 - acc: 0.262 - ETA: 1:04 - loss: 1.5725 - acc: 0.263 - ETA: 1:03 - loss: 1.5724 - acc: 0.263 - ETA: 1:03 - loss: 1.5724 - acc: 0.264 - ETA: 1:02 - loss: 1.5725 - acc: 0.265 - ETA: 1:02 - loss: 1.5725 - acc: 0.265 - ETA: 1:01 - loss: 1.5725 - acc: 0.265 - ETA: 1:00 - loss: 1.5718 - acc: 0.266 - ETA: 1:00 - loss: 1.5717 - acc: 0.267 - ETA: 59s - loss: 1.5713 - acc: 0.267 - ETA: 59s - loss: 1.5713 - acc: 0.26 - ETA: 58s - loss: 1.5716 - acc: 0.26 - ETA: 58s - loss: 1.5719 - acc: 0.26 - ETA: 57s - loss: 1.5722 - acc: 0.26 - ETA: 57s - loss: 1.5719 - acc: 0.26 - ETA: 56s - loss: 1.5717 - acc: 0.26 - ETA: 56s - loss: 1.5716 - acc: 0.26 - ETA: 55s - loss: 1.5713 - acc: 0.26 - ETA: 55s - loss: 1.5713 - acc: 0.26 - ETA: 54s - loss: 1.5711 - acc: 0.26 - ETA: 54s - loss: 1.5706 - acc: 0.26 - ETA: 53s - loss: 1.5702 - acc: 0.26 - ETA: 53s - loss: 1.5704 - acc: 0.26 - ETA: 52s - loss: 1.5707 - acc: 0.26 - ETA: 52s - loss: 1.5704 - acc: 0.26 - ETA: 51s - loss: 1.5698 - acc: 0.26 - ETA: 51s - loss: 1.5700 - acc: 0.26 - ETA: 50s - loss: 1.5699 - acc: 0.26 - ETA: 50s - loss: 1.5702 - acc: 0.26 - ETA: 49s - loss: 1.5699 - acc: 0.27 - ETA: 49s - loss: 1.5697 - acc: 0.26 - ETA: 48s - loss: 1.5689 - acc: 0.27 - ETA: 48s - loss: 1.5691 - acc: 0.27 - ETA: 47s - loss: 1.5686 - acc: 0.27 - ETA: 47s - loss: 1.5683 - acc: 0.27 - ETA: 46s - loss: 1.5679 - acc: 0.27 - ETA: 46s - loss: 1.5676 - acc: 0.27 - ETA: 45s - loss: 1.5678 - acc: 0.27 - ETA: 45s - loss: 1.5673 - acc: 0.27 - ETA: 44s - loss: 1.5676 - acc: 0.27 - ETA: 44s - loss: 1.5675 - acc: 0.27 - ETA: 43s - loss: 1.5675 - acc: 0.27 - ETA: 43s - loss: 1.5677 - acc: 0.27 - ETA: 42s - loss: 1.5682 - acc: 0.26 - ETA: 42s - loss: 1.5689 - acc: 0.26 - ETA: 41s - loss: 1.5687 - acc: 0.27 - ETA: 41s - loss: 1.5683 - acc: 0.27 - ETA: 40s - loss: 1.5685 - acc: 0.27 - ETA: 40s - loss: 1.5691 - acc: 0.27 - ETA: 39s - loss: 1.5685 - acc: 0.27 - ETA: 39s - loss: 1.5683 - acc: 0.27 - ETA: 38s - loss: 1.5678 - acc: 0.27 - ETA: 38s - loss: 1.5678 - acc: 0.27 - ETA: 37s - loss: 1.5679 - acc: 0.27 - ETA: 37s - loss: 1.5676 - acc: 0.27 - ETA: 36s - loss: 1.5679 - acc: 0.27 - ETA: 36s - loss: 1.5679 - acc: 0.27 - ETA: 35s - loss: 1.5676 - acc: 0.27 - ETA: 35s - loss: 1.5674 - acc: 0.27 - ETA: 34s - loss: 1.5673 - acc: 0.27 - ETA: 34s - loss: 1.5673 - acc: 0.27 - ETA: 33s - loss: 1.5673 - acc: 0.27 - ETA: 33s - loss: 1.5675 - acc: 0.27 - ETA: 32s - loss: 1.5675 - acc: 0.27 - ETA: 32s - loss: 1.5673 - acc: 0.27 - ETA: 31s - loss: 1.5671 - acc: 0.27 - ETA: 31s - loss: 1.5674 - acc: 0.27 - ETA: 30s - loss: 1.5673 - acc: 0.27 - ETA: 30s - loss: 1.5673 - acc: 0.2736\b\b\b\b\b\b\b\b\b\b\b\b\b\b\b\b\b\b\b\b\b\b\b\b\b\b\b\b\b\b\b\b\b\b\b\b\b\b\b\b\b\b\b\b\b\b\b\b\b\b\b\b\b\b\b\b\b\b\b\b\b\b\b\b\b\b\b\b\b\b\b\b\b\b\b\b\b\b\b\b\b\b"
     ]
    },
    {
     "name": "stdout",
     "output_type": "stream",
     "text": [
      "8543/8543 [==============================] - ETA: 29s - loss: 1.5668 - acc: 0.27 - ETA: 29s - loss: 1.5667 - acc: 0.27 - ETA: 28s - loss: 1.5666 - acc: 0.27 - ETA: 28s - loss: 1.5667 - acc: 0.27 - ETA: 27s - loss: 1.5665 - acc: 0.27 - ETA: 27s - loss: 1.5665 - acc: 0.27 - ETA: 26s - loss: 1.5668 - acc: 0.27 - ETA: 26s - loss: 1.5667 - acc: 0.27 - ETA: 25s - loss: 1.5668 - acc: 0.27 - ETA: 25s - loss: 1.5666 - acc: 0.27 - ETA: 24s - loss: 1.5666 - acc: 0.27 - ETA: 24s - loss: 1.5663 - acc: 0.27 - ETA: 23s - loss: 1.5662 - acc: 0.27 - ETA: 23s - loss: 1.5658 - acc: 0.27 - ETA: 22s - loss: 1.5659 - acc: 0.27 - ETA: 22s - loss: 1.5661 - acc: 0.27 - ETA: 21s - loss: 1.5662 - acc: 0.27 - ETA: 21s - loss: 1.5663 - acc: 0.27 - ETA: 20s - loss: 1.5658 - acc: 0.27 - ETA: 20s - loss: 1.5663 - acc: 0.27 - ETA: 19s - loss: 1.5664 - acc: 0.27 - ETA: 19s - loss: 1.5665 - acc: 0.27 - ETA: 18s - loss: 1.5664 - acc: 0.27 - ETA: 18s - loss: 1.5665 - acc: 0.27 - ETA: 17s - loss: 1.5669 - acc: 0.27 - ETA: 17s - loss: 1.5673 - acc: 0.27 - ETA: 16s - loss: 1.5669 - acc: 0.27 - ETA: 16s - loss: 1.5669 - acc: 0.27 - ETA: 15s - loss: 1.5670 - acc: 0.27 - ETA: 15s - loss: 1.5671 - acc: 0.27 - ETA: 14s - loss: 1.5671 - acc: 0.27 - ETA: 14s - loss: 1.5672 - acc: 0.27 - ETA: 13s - loss: 1.5671 - acc: 0.27 - ETA: 13s - loss: 1.5671 - acc: 0.27 - ETA: 12s - loss: 1.5671 - acc: 0.27 - ETA: 12s - loss: 1.5669 - acc: 0.27 - ETA: 11s - loss: 1.5669 - acc: 0.27 - ETA: 11s - loss: 1.5669 - acc: 0.28 - ETA: 10s - loss: 1.5671 - acc: 0.27 - ETA: 10s - loss: 1.5673 - acc: 0.27 - ETA: 9s - loss: 1.5674 - acc: 0.2794 - ETA: 9s - loss: 1.5674 - acc: 0.279 - ETA: 8s - loss: 1.5674 - acc: 0.279 - ETA: 8s - loss: 1.5672 - acc: 0.279 - ETA: 7s - loss: 1.5673 - acc: 0.279 - ETA: 7s - loss: 1.5675 - acc: 0.279 - ETA: 6s - loss: 1.5676 - acc: 0.278 - ETA: 6s - loss: 1.5671 - acc: 0.279 - ETA: 5s - loss: 1.5670 - acc: 0.279 - ETA: 5s - loss: 1.5668 - acc: 0.279 - ETA: 4s - loss: 1.5664 - acc: 0.279 - ETA: 4s - loss: 1.5663 - acc: 0.279 - ETA: 3s - loss: 1.5661 - acc: 0.280 - ETA: 3s - loss: 1.5658 - acc: 0.280 - ETA: 2s - loss: 1.5657 - acc: 0.280 - ETA: 2s - loss: 1.5655 - acc: 0.280 - ETA: 1s - loss: 1.5655 - acc: 0.280 - ETA: 0s - loss: 1.5652 - acc: 0.280 - ETA: 0s - loss: 1.5650 - acc: 0.281 - 135s 16ms/step - loss: 1.5647 - acc: 0.2816\n",
      "Epoch 2/4\n"
     ]
    },
    {
     "name": "stdout",
     "output_type": "stream",
     "text": [
      "6624/8543 [======================>.......] - ETA: 2:12 - loss: 1.4261 - acc: 0.500 - ETA: 2:12 - loss: 1.4123 - acc: 0.546 - ETA: 2:11 - loss: 1.4431 - acc: 0.489 - ETA: 2:11 - loss: 1.4449 - acc: 0.468 - ETA: 2:09 - loss: 1.4554 - acc: 0.443 - ETA: 2:07 - loss: 1.4636 - acc: 0.432 - ETA: 2:06 - loss: 1.4599 - acc: 0.428 - ETA: 2:05 - loss: 1.4503 - acc: 0.421 - ETA: 2:05 - loss: 1.4539 - acc: 0.409 - ETA: 2:04 - loss: 1.4573 - acc: 0.403 - ETA: 2:05 - loss: 1.4622 - acc: 0.389 - ETA: 2:04 - loss: 1.4634 - acc: 0.385 - ETA: 2:03 - loss: 1.4651 - acc: 0.384 - ETA: 2:03 - loss: 1.4646 - acc: 0.381 - ETA: 2:03 - loss: 1.4654 - acc: 0.377 - ETA: 2:02 - loss: 1.4644 - acc: 0.380 - ETA: 2:02 - loss: 1.4578 - acc: 0.380 - ETA: 2:01 - loss: 1.4616 - acc: 0.378 - ETA: 2:00 - loss: 1.4608 - acc: 0.381 - ETA: 2:00 - loss: 1.4607 - acc: 0.381 - ETA: 2:00 - loss: 1.4623 - acc: 0.379 - ETA: 1:59 - loss: 1.4660 - acc: 0.376 - ETA: 1:59 - loss: 1.4681 - acc: 0.373 - ETA: 1:58 - loss: 1.4713 - acc: 0.372 - ETA: 1:58 - loss: 1.4683 - acc: 0.372 - ETA: 1:57 - loss: 1.4665 - acc: 0.372 - ETA: 1:57 - loss: 1.4677 - acc: 0.366 - ETA: 1:57 - loss: 1.4686 - acc: 0.366 - ETA: 1:56 - loss: 1.4640 - acc: 0.369 - ETA: 1:56 - loss: 1.4659 - acc: 0.370 - ETA: 1:55 - loss: 1.4636 - acc: 0.371 - ETA: 1:54 - loss: 1.4634 - acc: 0.372 - ETA: 1:54 - loss: 1.4650 - acc: 0.370 - ETA: 1:53 - loss: 1.4641 - acc: 0.371 - ETA: 1:53 - loss: 1.4652 - acc: 0.370 - ETA: 1:52 - loss: 1.4641 - acc: 0.372 - ETA: 1:52 - loss: 1.4627 - acc: 0.370 - ETA: 1:51 - loss: 1.4618 - acc: 0.367 - ETA: 1:51 - loss: 1.4605 - acc: 0.367 - ETA: 1:50 - loss: 1.4608 - acc: 0.364 - ETA: 1:50 - loss: 1.4586 - acc: 0.366 - ETA: 1:49 - loss: 1.4564 - acc: 0.367 - ETA: 1:49 - loss: 1.4523 - acc: 0.371 - ETA: 1:49 - loss: 1.4487 - acc: 0.372 - ETA: 1:48 - loss: 1.4509 - acc: 0.370 - ETA: 1:48 - loss: 1.4509 - acc: 0.371 - ETA: 1:48 - loss: 1.4489 - acc: 0.372 - ETA: 1:48 - loss: 1.4485 - acc: 0.371 - ETA: 1:47 - loss: 1.4472 - acc: 0.373 - ETA: 1:46 - loss: 1.4449 - acc: 0.376 - ETA: 1:46 - loss: 1.4430 - acc: 0.377 - ETA: 1:46 - loss: 1.4389 - acc: 0.381 - ETA: 1:45 - loss: 1.4374 - acc: 0.380 - ETA: 1:45 - loss: 1.4357 - acc: 0.380 - ETA: 1:44 - loss: 1.4331 - acc: 0.383 - ETA: 1:43 - loss: 1.4305 - acc: 0.384 - ETA: 1:43 - loss: 1.4336 - acc: 0.382 - ETA: 1:42 - loss: 1.4333 - acc: 0.382 - ETA: 1:42 - loss: 1.4359 - acc: 0.380 - ETA: 1:41 - loss: 1.4357 - acc: 0.381 - ETA: 1:41 - loss: 1.4362 - acc: 0.383 - ETA: 1:40 - loss: 1.4376 - acc: 0.380 - ETA: 1:40 - loss: 1.4364 - acc: 0.381 - ETA: 1:39 - loss: 1.4350 - acc: 0.383 - ETA: 1:39 - loss: 1.4335 - acc: 0.384 - ETA: 1:38 - loss: 1.4316 - acc: 0.387 - ETA: 1:38 - loss: 1.4314 - acc: 0.388 - ETA: 1:37 - loss: 1.4313 - acc: 0.388 - ETA: 1:37 - loss: 1.4303 - acc: 0.389 - ETA: 1:36 - loss: 1.4309 - acc: 0.389 - ETA: 1:36 - loss: 1.4314 - acc: 0.390 - ETA: 1:35 - loss: 1.4305 - acc: 0.391 - ETA: 1:35 - loss: 1.4320 - acc: 0.390 - ETA: 1:34 - loss: 1.4306 - acc: 0.391 - ETA: 1:34 - loss: 1.4293 - acc: 0.392 - ETA: 1:33 - loss: 1.4272 - acc: 0.395 - ETA: 1:33 - loss: 1.4276 - acc: 0.393 - ETA: 1:32 - loss: 1.4267 - acc: 0.394 - ETA: 1:32 - loss: 1.4259 - acc: 0.396 - ETA: 1:31 - loss: 1.4249 - acc: 0.396 - ETA: 1:31 - loss: 1.4258 - acc: 0.393 - ETA: 1:30 - loss: 1.4244 - acc: 0.395 - ETA: 1:30 - loss: 1.4237 - acc: 0.395 - ETA: 1:29 - loss: 1.4231 - acc: 0.395 - ETA: 1:29 - loss: 1.4217 - acc: 0.396 - ETA: 1:29 - loss: 1.4219 - acc: 0.396 - ETA: 1:28 - loss: 1.4196 - acc: 0.397 - ETA: 1:28 - loss: 1.4182 - acc: 0.398 - ETA: 1:27 - loss: 1.4163 - acc: 0.398 - ETA: 1:27 - loss: 1.4171 - acc: 0.398 - ETA: 1:26 - loss: 1.4177 - acc: 0.399 - ETA: 1:26 - loss: 1.4178 - acc: 0.398 - ETA: 1:25 - loss: 1.4176 - acc: 0.398 - ETA: 1:25 - loss: 1.4169 - acc: 0.398 - ETA: 1:24 - loss: 1.4158 - acc: 0.399 - ETA: 1:24 - loss: 1.4163 - acc: 0.399 - ETA: 1:23 - loss: 1.4149 - acc: 0.399 - ETA: 1:23 - loss: 1.4145 - acc: 0.399 - ETA: 1:22 - loss: 1.4134 - acc: 0.399 - ETA: 1:22 - loss: 1.4136 - acc: 0.399 - ETA: 1:21 - loss: 1.4136 - acc: 0.398 - ETA: 1:21 - loss: 1.4126 - acc: 0.399 - ETA: 1:20 - loss: 1.4122 - acc: 0.399 - ETA: 1:20 - loss: 1.4108 - acc: 0.401 - ETA: 1:19 - loss: 1.4090 - acc: 0.403 - ETA: 1:19 - loss: 1.4083 - acc: 0.403 - ETA: 1:18 - loss: 1.4077 - acc: 0.403 - ETA: 1:18 - loss: 1.4075 - acc: 0.403 - ETA: 1:17 - loss: 1.4093 - acc: 0.401 - ETA: 1:17 - loss: 1.4082 - acc: 0.402 - ETA: 1:16 - loss: 1.4093 - acc: 0.401 - ETA: 1:16 - loss: 1.4086 - acc: 0.402 - ETA: 1:15 - loss: 1.4091 - acc: 0.402 - ETA: 1:15 - loss: 1.4098 - acc: 0.401 - ETA: 1:14 - loss: 1.4111 - acc: 0.401 - ETA: 1:14 - loss: 1.4101 - acc: 0.401 - ETA: 1:13 - loss: 1.4099 - acc: 0.400 - ETA: 1:13 - loss: 1.4103 - acc: 0.401 - ETA: 1:12 - loss: 1.4102 - acc: 0.399 - ETA: 1:12 - loss: 1.4106 - acc: 0.398 - ETA: 1:11 - loss: 1.4103 - acc: 0.397 - ETA: 1:11 - loss: 1.4099 - acc: 0.397 - ETA: 1:10 - loss: 1.4095 - acc: 0.398 - ETA: 1:10 - loss: 1.4097 - acc: 0.397 - ETA: 1:09 - loss: 1.4092 - acc: 0.398 - ETA: 1:09 - loss: 1.4085 - acc: 0.398 - ETA: 1:08 - loss: 1.4083 - acc: 0.398 - ETA: 1:08 - loss: 1.4083 - acc: 0.397 - ETA: 1:07 - loss: 1.4075 - acc: 0.398 - ETA: 1:07 - loss: 1.4068 - acc: 0.398 - ETA: 1:07 - loss: 1.4067 - acc: 0.397 - ETA: 1:06 - loss: 1.4061 - acc: 0.397 - ETA: 1:06 - loss: 1.4054 - acc: 0.397 - ETA: 1:05 - loss: 1.4048 - acc: 0.397 - ETA: 1:05 - loss: 1.4038 - acc: 0.398 - ETA: 1:04 - loss: 1.4035 - acc: 0.398 - ETA: 1:04 - loss: 1.4027 - acc: 0.398 - ETA: 1:03 - loss: 1.4028 - acc: 0.399 - ETA: 1:03 - loss: 1.4025 - acc: 0.398 - ETA: 1:02 - loss: 1.4016 - acc: 0.398 - ETA: 1:02 - loss: 1.4003 - acc: 0.399 - ETA: 1:01 - loss: 1.3990 - acc: 0.401 - ETA: 1:01 - loss: 1.3979 - acc: 0.402 - ETA: 1:00 - loss: 1.3980 - acc: 0.402 - ETA: 1:00 - loss: 1.3989 - acc: 0.400 - ETA: 59s - loss: 1.3986 - acc: 0.399 - ETA: 59s - loss: 1.3972 - acc: 0.40 - ETA: 58s - loss: 1.3974 - acc: 0.40 - ETA: 58s - loss: 1.3966 - acc: 0.40 - ETA: 57s - loss: 1.3964 - acc: 0.40 - ETA: 57s - loss: 1.3962 - acc: 0.40 - ETA: 56s - loss: 1.3960 - acc: 0.40 - ETA: 56s - loss: 1.3959 - acc: 0.40 - ETA: 55s - loss: 1.3959 - acc: 0.39 - ETA: 55s - loss: 1.3960 - acc: 0.39 - ETA: 54s - loss: 1.3952 - acc: 0.39 - ETA: 54s - loss: 1.3943 - acc: 0.40 - ETA: 53s - loss: 1.3939 - acc: 0.40 - ETA: 53s - loss: 1.3939 - acc: 0.40 - ETA: 52s - loss: 1.3937 - acc: 0.40 - ETA: 52s - loss: 1.3939 - acc: 0.40 - ETA: 51s - loss: 1.3944 - acc: 0.40 - ETA: 51s - loss: 1.3941 - acc: 0.40 - ETA: 50s - loss: 1.3940 - acc: 0.40 - ETA: 50s - loss: 1.3931 - acc: 0.40 - ETA: 49s - loss: 1.3921 - acc: 0.40 - ETA: 49s - loss: 1.3920 - acc: 0.40 - ETA: 48s - loss: 1.3911 - acc: 0.40 - ETA: 48s - loss: 1.3910 - acc: 0.40 - ETA: 47s - loss: 1.3908 - acc: 0.40 - ETA: 47s - loss: 1.3914 - acc: 0.40 - ETA: 46s - loss: 1.3916 - acc: 0.40 - ETA: 46s - loss: 1.3916 - acc: 0.40 - ETA: 45s - loss: 1.3920 - acc: 0.40 - ETA: 45s - loss: 1.3924 - acc: 0.40 - ETA: 44s - loss: 1.3926 - acc: 0.40 - ETA: 44s - loss: 1.3920 - acc: 0.40 - ETA: 44s - loss: 1.3919 - acc: 0.40 - ETA: 43s - loss: 1.3908 - acc: 0.40 - ETA: 43s - loss: 1.3903 - acc: 0.40 - ETA: 42s - loss: 1.3904 - acc: 0.40 - ETA: 42s - loss: 1.3905 - acc: 0.40 - ETA: 41s - loss: 1.3907 - acc: 0.40 - ETA: 41s - loss: 1.3900 - acc: 0.40 - ETA: 40s - loss: 1.3898 - acc: 0.40 - ETA: 40s - loss: 1.3887 - acc: 0.40 - ETA: 39s - loss: 1.3888 - acc: 0.40 - ETA: 39s - loss: 1.3891 - acc: 0.40 - ETA: 38s - loss: 1.3888 - acc: 0.40 - ETA: 38s - loss: 1.3890 - acc: 0.40 - ETA: 37s - loss: 1.3877 - acc: 0.40 - ETA: 37s - loss: 1.3880 - acc: 0.40 - ETA: 36s - loss: 1.3875 - acc: 0.40 - ETA: 36s - loss: 1.3875 - acc: 0.40 - ETA: 35s - loss: 1.3870 - acc: 0.40 - ETA: 35s - loss: 1.3861 - acc: 0.40 - ETA: 34s - loss: 1.3850 - acc: 0.40 - ETA: 34s - loss: 1.3858 - acc: 0.40 - ETA: 33s - loss: 1.3852 - acc: 0.40 - ETA: 33s - loss: 1.3848 - acc: 0.40 - ETA: 32s - loss: 1.3851 - acc: 0.40 - ETA: 32s - loss: 1.3846 - acc: 0.40 - ETA: 31s - loss: 1.3846 - acc: 0.40 - ETA: 31s - loss: 1.3845 - acc: 0.40 - ETA: 30s - loss: 1.3846 - acc: 0.40 - ETA: 30s - loss: 1.3847 - acc: 0.40 - ETA: 29s - loss: 1.3831 - acc: 0.4079"
     ]
    },
    {
     "name": "stdout",
     "output_type": "stream",
     "text": [
      "8543/8543 [==============================] - ETA: 29s - loss: 1.3829 - acc: 0.40 - ETA: 28s - loss: 1.3828 - acc: 0.40 - ETA: 28s - loss: 1.3825 - acc: 0.40 - ETA: 27s - loss: 1.3814 - acc: 0.40 - ETA: 27s - loss: 1.3806 - acc: 0.40 - ETA: 26s - loss: 1.3800 - acc: 0.40 - ETA: 26s - loss: 1.3804 - acc: 0.40 - ETA: 25s - loss: 1.3800 - acc: 0.40 - ETA: 25s - loss: 1.3796 - acc: 0.40 - ETA: 24s - loss: 1.3790 - acc: 0.41 - ETA: 24s - loss: 1.3784 - acc: 0.41 - ETA: 23s - loss: 1.3782 - acc: 0.41 - ETA: 23s - loss: 1.3779 - acc: 0.41 - ETA: 22s - loss: 1.3772 - acc: 0.41 - ETA: 22s - loss: 1.3763 - acc: 0.41 - ETA: 21s - loss: 1.3760 - acc: 0.41 - ETA: 21s - loss: 1.3760 - acc: 0.41 - ETA: 20s - loss: 1.3758 - acc: 0.41 - ETA: 20s - loss: 1.3756 - acc: 0.41 - ETA: 19s - loss: 1.3759 - acc: 0.41 - ETA: 19s - loss: 1.3758 - acc: 0.41 - ETA: 18s - loss: 1.3765 - acc: 0.41 - ETA: 18s - loss: 1.3760 - acc: 0.41 - ETA: 17s - loss: 1.3755 - acc: 0.41 - ETA: 17s - loss: 1.3746 - acc: 0.41 - ETA: 16s - loss: 1.3745 - acc: 0.41 - ETA: 16s - loss: 1.3741 - acc: 0.41 - ETA: 15s - loss: 1.3740 - acc: 0.41 - ETA: 15s - loss: 1.3739 - acc: 0.41 - ETA: 14s - loss: 1.3735 - acc: 0.41 - ETA: 14s - loss: 1.3735 - acc: 0.41 - ETA: 13s - loss: 1.3727 - acc: 0.41 - ETA: 13s - loss: 1.3726 - acc: 0.41 - ETA: 12s - loss: 1.3715 - acc: 0.41 - ETA: 12s - loss: 1.3719 - acc: 0.41 - ETA: 11s - loss: 1.3722 - acc: 0.41 - ETA: 11s - loss: 1.3721 - acc: 0.41 - ETA: 10s - loss: 1.3720 - acc: 0.41 - ETA: 10s - loss: 1.3726 - acc: 0.41 - ETA: 9s - loss: 1.3722 - acc: 0.4142 - ETA: 9s - loss: 1.3725 - acc: 0.414 - ETA: 8s - loss: 1.3720 - acc: 0.414 - ETA: 8s - loss: 1.3717 - acc: 0.414 - ETA: 7s - loss: 1.3715 - acc: 0.414 - ETA: 7s - loss: 1.3712 - acc: 0.414 - ETA: 6s - loss: 1.3704 - acc: 0.415 - ETA: 6s - loss: 1.3706 - acc: 0.414 - ETA: 5s - loss: 1.3706 - acc: 0.415 - ETA: 5s - loss: 1.3704 - acc: 0.415 - ETA: 4s - loss: 1.3701 - acc: 0.415 - ETA: 4s - loss: 1.3704 - acc: 0.415 - ETA: 3s - loss: 1.3708 - acc: 0.415 - ETA: 3s - loss: 1.3714 - acc: 0.415 - ETA: 2s - loss: 1.3712 - acc: 0.415 - ETA: 2s - loss: 1.3710 - acc: 0.415 - ETA: 1s - loss: 1.3709 - acc: 0.415 - ETA: 1s - loss: 1.3705 - acc: 0.415 - ETA: 0s - loss: 1.3700 - acc: 0.415 - ETA: 0s - loss: 1.3700 - acc: 0.414 - 132s 15ms/step - loss: 1.3700 - acc: 0.4146\n",
      "Epoch 3/4\n"
     ]
    },
    {
     "name": "stdout",
     "output_type": "stream",
     "text": [
      "6624/8543 [======================>.......] - ETA: 2:08 - loss: 1.0883 - acc: 0.625 - ETA: 2:08 - loss: 1.1835 - acc: 0.562 - ETA: 2:07 - loss: 1.2024 - acc: 0.531 - ETA: 2:07 - loss: 1.1987 - acc: 0.523 - ETA: 2:05 - loss: 1.1599 - acc: 0.556 - ETA: 2:06 - loss: 1.1745 - acc: 0.531 - ETA: 2:07 - loss: 1.1536 - acc: 0.540 - ETA: 2:05 - loss: 1.1580 - acc: 0.531 - ETA: 2:04 - loss: 1.1371 - acc: 0.541 - ETA: 2:04 - loss: 1.1365 - acc: 0.537 - ETA: 2:03 - loss: 1.1322 - acc: 0.545 - ETA: 2:04 - loss: 1.1277 - acc: 0.541 - ETA: 2:04 - loss: 1.1187 - acc: 0.548 - ETA: 2:04 - loss: 1.1101 - acc: 0.551 - ETA: 2:04 - loss: 1.1011 - acc: 0.552 - ETA: 2:03 - loss: 1.0848 - acc: 0.558 - ETA: 2:03 - loss: 1.0873 - acc: 0.560 - ETA: 2:02 - loss: 1.0917 - acc: 0.559 - ETA: 2:02 - loss: 1.0923 - acc: 0.559 - ETA: 2:01 - loss: 1.0935 - acc: 0.559 - ETA: 2:01 - loss: 1.0907 - acc: 0.565 - ETA: 2:00 - loss: 1.0895 - acc: 0.566 - ETA: 2:00 - loss: 1.0917 - acc: 0.565 - ETA: 2:00 - loss: 1.0888 - acc: 0.562 - ETA: 1:59 - loss: 1.0901 - acc: 0.560 - ETA: 1:59 - loss: 1.0826 - acc: 0.564 - ETA: 1:58 - loss: 1.0805 - acc: 0.564 - ETA: 1:59 - loss: 1.0798 - acc: 0.563 - ETA: 1:58 - loss: 1.0778 - acc: 0.564 - ETA: 1:58 - loss: 1.0817 - acc: 0.564 - ETA: 1:58 - loss: 1.0817 - acc: 0.563 - ETA: 1:58 - loss: 1.0828 - acc: 0.557 - ETA: 1:58 - loss: 1.0836 - acc: 0.556 - ETA: 1:57 - loss: 1.0792 - acc: 0.558 - ETA: 1:57 - loss: 1.0797 - acc: 0.558 - ETA: 1:56 - loss: 1.0799 - acc: 0.559 - ETA: 1:55 - loss: 1.0855 - acc: 0.559 - ETA: 1:55 - loss: 1.0926 - acc: 0.555 - ETA: 1:54 - loss: 1.0903 - acc: 0.556 - ETA: 1:54 - loss: 1.0900 - acc: 0.555 - ETA: 1:53 - loss: 1.0908 - acc: 0.557 - ETA: 1:53 - loss: 1.0939 - acc: 0.554 - ETA: 1:53 - loss: 1.0915 - acc: 0.556 - ETA: 1:52 - loss: 1.0919 - acc: 0.555 - ETA: 1:52 - loss: 1.0917 - acc: 0.553 - ETA: 1:52 - loss: 1.0898 - acc: 0.557 - ETA: 1:51 - loss: 1.0910 - acc: 0.557 - ETA: 1:51 - loss: 1.0931 - acc: 0.556 - ETA: 1:50 - loss: 1.0932 - acc: 0.556 - ETA: 1:50 - loss: 1.0937 - acc: 0.556 - ETA: 1:49 - loss: 1.0947 - acc: 0.555 - ETA: 1:49 - loss: 1.0944 - acc: 0.554 - ETA: 1:48 - loss: 1.0925 - acc: 0.553 - ETA: 1:48 - loss: 1.0931 - acc: 0.554 - ETA: 1:47 - loss: 1.0919 - acc: 0.556 - ETA: 1:47 - loss: 1.0956 - acc: 0.556 - ETA: 1:46 - loss: 1.0942 - acc: 0.557 - ETA: 1:46 - loss: 1.0948 - acc: 0.556 - ETA: 1:45 - loss: 1.0941 - acc: 0.556 - ETA: 1:44 - loss: 1.0957 - acc: 0.557 - ETA: 1:44 - loss: 1.0948 - acc: 0.556 - ETA: 1:43 - loss: 1.0964 - acc: 0.553 - ETA: 1:43 - loss: 1.0984 - acc: 0.553 - ETA: 1:42 - loss: 1.0963 - acc: 0.553 - ETA: 1:42 - loss: 1.0924 - acc: 0.556 - ETA: 1:42 - loss: 1.0956 - acc: 0.554 - ETA: 1:41 - loss: 1.0979 - acc: 0.554 - ETA: 1:41 - loss: 1.0985 - acc: 0.553 - ETA: 1:40 - loss: 1.0980 - acc: 0.552 - ETA: 1:40 - loss: 1.0993 - acc: 0.551 - ETA: 1:39 - loss: 1.0980 - acc: 0.551 - ETA: 1:39 - loss: 1.0995 - acc: 0.551 - ETA: 1:38 - loss: 1.0990 - acc: 0.550 - ETA: 1:38 - loss: 1.0996 - acc: 0.551 - ETA: 1:37 - loss: 1.0989 - acc: 0.551 - ETA: 1:37 - loss: 1.0976 - acc: 0.552 - ETA: 1:36 - loss: 1.0940 - acc: 0.554 - ETA: 1:36 - loss: 1.0941 - acc: 0.554 - ETA: 1:35 - loss: 1.0941 - acc: 0.554 - ETA: 1:34 - loss: 1.0966 - acc: 0.553 - ETA: 1:34 - loss: 1.0966 - acc: 0.553 - ETA: 1:33 - loss: 1.0969 - acc: 0.553 - ETA: 1:33 - loss: 1.0965 - acc: 0.553 - ETA: 1:32 - loss: 1.0964 - acc: 0.552 - ETA: 1:32 - loss: 1.0950 - acc: 0.554 - ETA: 1:31 - loss: 1.0963 - acc: 0.553 - ETA: 1:31 - loss: 1.0954 - acc: 0.553 - ETA: 1:30 - loss: 1.0940 - acc: 0.554 - ETA: 1:30 - loss: 1.0937 - acc: 0.554 - ETA: 1:29 - loss: 1.0956 - acc: 0.554 - ETA: 1:29 - loss: 1.0954 - acc: 0.555 - ETA: 1:28 - loss: 1.0955 - acc: 0.556 - ETA: 1:27 - loss: 1.0959 - acc: 0.555 - ETA: 1:27 - loss: 1.0946 - acc: 0.556 - ETA: 1:26 - loss: 1.0931 - acc: 0.557 - ETA: 1:26 - loss: 1.0927 - acc: 0.557 - ETA: 1:25 - loss: 1.0920 - acc: 0.557 - ETA: 1:25 - loss: 1.0904 - acc: 0.558 - ETA: 1:24 - loss: 1.0900 - acc: 0.558 - ETA: 1:24 - loss: 1.0914 - acc: 0.557 - ETA: 1:23 - loss: 1.0932 - acc: 0.556 - ETA: 1:22 - loss: 1.0936 - acc: 0.557 - ETA: 1:22 - loss: 1.0917 - acc: 0.557 - ETA: 1:21 - loss: 1.0912 - acc: 0.557 - ETA: 1:21 - loss: 1.0919 - acc: 0.556 - ETA: 1:20 - loss: 1.0916 - acc: 0.557 - ETA: 1:20 - loss: 1.0909 - acc: 0.557 - ETA: 1:19 - loss: 1.0897 - acc: 0.557 - ETA: 1:19 - loss: 1.0895 - acc: 0.558 - ETA: 1:18 - loss: 1.0893 - acc: 0.558 - ETA: 1:18 - loss: 1.0887 - acc: 0.559 - ETA: 1:17 - loss: 1.0890 - acc: 0.558 - ETA: 1:17 - loss: 1.0890 - acc: 0.558 - ETA: 1:16 - loss: 1.0899 - acc: 0.558 - ETA: 1:16 - loss: 1.0892 - acc: 0.559 - ETA: 1:15 - loss: 1.0912 - acc: 0.558 - ETA: 1:14 - loss: 1.0902 - acc: 0.558 - ETA: 1:14 - loss: 1.0874 - acc: 0.560 - ETA: 1:13 - loss: 1.0857 - acc: 0.562 - ETA: 1:13 - loss: 1.0863 - acc: 0.561 - ETA: 1:12 - loss: 1.0862 - acc: 0.561 - ETA: 1:12 - loss: 1.0885 - acc: 0.560 - ETA: 1:11 - loss: 1.0892 - acc: 0.561 - ETA: 1:11 - loss: 1.0894 - acc: 0.560 - ETA: 1:10 - loss: 1.0891 - acc: 0.560 - ETA: 1:10 - loss: 1.0886 - acc: 0.561 - ETA: 1:09 - loss: 1.0872 - acc: 0.560 - ETA: 1:09 - loss: 1.0884 - acc: 0.559 - ETA: 1:08 - loss: 1.0875 - acc: 0.559 - ETA: 1:08 - loss: 1.0868 - acc: 0.559 - ETA: 1:07 - loss: 1.0852 - acc: 0.561 - ETA: 1:07 - loss: 1.0857 - acc: 0.561 - ETA: 1:06 - loss: 1.0871 - acc: 0.560 - ETA: 1:06 - loss: 1.0863 - acc: 0.560 - ETA: 1:05 - loss: 1.0871 - acc: 0.560 - ETA: 1:05 - loss: 1.0859 - acc: 0.560 - ETA: 1:04 - loss: 1.0858 - acc: 0.559 - ETA: 1:04 - loss: 1.0860 - acc: 0.559 - ETA: 1:03 - loss: 1.0854 - acc: 0.559 - ETA: 1:03 - loss: 1.0860 - acc: 0.559 - ETA: 1:02 - loss: 1.0852 - acc: 0.559 - ETA: 1:02 - loss: 1.0853 - acc: 0.559 - ETA: 1:01 - loss: 1.0864 - acc: 0.558 - ETA: 1:01 - loss: 1.0872 - acc: 0.557 - ETA: 1:00 - loss: 1.0872 - acc: 0.558 - ETA: 1:00 - loss: 1.0890 - acc: 0.556 - ETA: 59s - loss: 1.0889 - acc: 0.556 - ETA: 58s - loss: 1.0892 - acc: 0.55 - ETA: 58s - loss: 1.0900 - acc: 0.55 - ETA: 57s - loss: 1.0898 - acc: 0.55 - ETA: 57s - loss: 1.0907 - acc: 0.55 - ETA: 56s - loss: 1.0904 - acc: 0.55 - ETA: 56s - loss: 1.0912 - acc: 0.55 - ETA: 56s - loss: 1.0915 - acc: 0.55 - ETA: 55s - loss: 1.0917 - acc: 0.55 - ETA: 55s - loss: 1.0919 - acc: 0.55 - ETA: 54s - loss: 1.0916 - acc: 0.55 - ETA: 54s - loss: 1.0908 - acc: 0.55 - ETA: 53s - loss: 1.0909 - acc: 0.55 - ETA: 53s - loss: 1.0915 - acc: 0.55 - ETA: 52s - loss: 1.0931 - acc: 0.55 - ETA: 51s - loss: 1.0926 - acc: 0.55 - ETA: 51s - loss: 1.0927 - acc: 0.55 - ETA: 50s - loss: 1.0934 - acc: 0.55 - ETA: 50s - loss: 1.0938 - acc: 0.55 - ETA: 49s - loss: 1.0931 - acc: 0.55 - ETA: 49s - loss: 1.0934 - acc: 0.55 - ETA: 48s - loss: 1.0939 - acc: 0.55 - ETA: 48s - loss: 1.0959 - acc: 0.55 - ETA: 47s - loss: 1.0962 - acc: 0.55 - ETA: 47s - loss: 1.0970 - acc: 0.55 - ETA: 46s - loss: 1.0965 - acc: 0.55 - ETA: 46s - loss: 1.0963 - acc: 0.55 - ETA: 45s - loss: 1.0975 - acc: 0.55 - ETA: 45s - loss: 1.0989 - acc: 0.55 - ETA: 44s - loss: 1.0997 - acc: 0.54 - ETA: 44s - loss: 1.1004 - acc: 0.54 - ETA: 43s - loss: 1.0990 - acc: 0.55 - ETA: 43s - loss: 1.0983 - acc: 0.55 - ETA: 43s - loss: 1.0983 - acc: 0.55 - ETA: 42s - loss: 1.0981 - acc: 0.55 - ETA: 42s - loss: 1.0976 - acc: 0.55 - ETA: 41s - loss: 1.0976 - acc: 0.55 - ETA: 41s - loss: 1.0972 - acc: 0.55 - ETA: 40s - loss: 1.0969 - acc: 0.55 - ETA: 40s - loss: 1.0974 - acc: 0.55 - ETA: 39s - loss: 1.0977 - acc: 0.55 - ETA: 39s - loss: 1.0977 - acc: 0.55 - ETA: 38s - loss: 1.0984 - acc: 0.54 - ETA: 38s - loss: 1.0987 - acc: 0.54 - ETA: 37s - loss: 1.0987 - acc: 0.54 - ETA: 37s - loss: 1.0985 - acc: 0.54 - ETA: 36s - loss: 1.0983 - acc: 0.54 - ETA: 36s - loss: 1.0981 - acc: 0.54 - ETA: 35s - loss: 1.0979 - acc: 0.54 - ETA: 35s - loss: 1.0977 - acc: 0.54 - ETA: 34s - loss: 1.0968 - acc: 0.55 - ETA: 34s - loss: 1.0968 - acc: 0.54 - ETA: 33s - loss: 1.0957 - acc: 0.55 - ETA: 33s - loss: 1.0960 - acc: 0.55 - ETA: 32s - loss: 1.0952 - acc: 0.55 - ETA: 32s - loss: 1.0950 - acc: 0.55 - ETA: 31s - loss: 1.0948 - acc: 0.55 - ETA: 31s - loss: 1.0943 - acc: 0.55 - ETA: 30s - loss: 1.0933 - acc: 0.55 - ETA: 30s - loss: 1.0934 - acc: 0.55 - ETA: 29s - loss: 1.0931 - acc: 0.5525"
     ]
    },
    {
     "name": "stdout",
     "output_type": "stream",
     "text": [
      "8543/8543 [==============================] - ETA: 29s - loss: 1.0937 - acc: 0.55 - ETA: 28s - loss: 1.0943 - acc: 0.55 - ETA: 28s - loss: 1.0938 - acc: 0.55 - ETA: 27s - loss: 1.0938 - acc: 0.55 - ETA: 27s - loss: 1.0927 - acc: 0.55 - ETA: 26s - loss: 1.0924 - acc: 0.55 - ETA: 26s - loss: 1.0926 - acc: 0.55 - ETA: 25s - loss: 1.0922 - acc: 0.55 - ETA: 25s - loss: 1.0918 - acc: 0.55 - ETA: 24s - loss: 1.0916 - acc: 0.55 - ETA: 24s - loss: 1.0921 - acc: 0.55 - ETA: 23s - loss: 1.0914 - acc: 0.55 - ETA: 23s - loss: 1.0913 - acc: 0.55 - ETA: 22s - loss: 1.0906 - acc: 0.55 - ETA: 22s - loss: 1.0906 - acc: 0.55 - ETA: 21s - loss: 1.0907 - acc: 0.55 - ETA: 21s - loss: 1.0910 - acc: 0.55 - ETA: 20s - loss: 1.0913 - acc: 0.55 - ETA: 20s - loss: 1.0915 - acc: 0.55 - ETA: 19s - loss: 1.0915 - acc: 0.55 - ETA: 19s - loss: 1.0925 - acc: 0.55 - ETA: 18s - loss: 1.0928 - acc: 0.55 - ETA: 18s - loss: 1.0936 - acc: 0.55 - ETA: 17s - loss: 1.0936 - acc: 0.55 - ETA: 17s - loss: 1.0929 - acc: 0.55 - ETA: 16s - loss: 1.0932 - acc: 0.55 - ETA: 16s - loss: 1.0924 - acc: 0.55 - ETA: 15s - loss: 1.0924 - acc: 0.55 - ETA: 15s - loss: 1.0911 - acc: 0.55 - ETA: 14s - loss: 1.0912 - acc: 0.55 - ETA: 14s - loss: 1.0920 - acc: 0.55 - ETA: 13s - loss: 1.0916 - acc: 0.55 - ETA: 13s - loss: 1.0924 - acc: 0.55 - ETA: 12s - loss: 1.0918 - acc: 0.55 - ETA: 12s - loss: 1.0919 - acc: 0.55 - ETA: 11s - loss: 1.0922 - acc: 0.55 - ETA: 11s - loss: 1.0929 - acc: 0.55 - ETA: 10s - loss: 1.0933 - acc: 0.55 - ETA: 10s - loss: 1.0930 - acc: 0.55 - ETA: 9s - loss: 1.0927 - acc: 0.5535 - ETA: 9s - loss: 1.0923 - acc: 0.553 - ETA: 8s - loss: 1.0936 - acc: 0.553 - ETA: 8s - loss: 1.0939 - acc: 0.552 - ETA: 7s - loss: 1.0944 - acc: 0.552 - ETA: 7s - loss: 1.0947 - acc: 0.551 - ETA: 6s - loss: 1.0947 - acc: 0.552 - ETA: 6s - loss: 1.0941 - acc: 0.552 - ETA: 5s - loss: 1.0937 - acc: 0.552 - ETA: 5s - loss: 1.0937 - acc: 0.552 - ETA: 4s - loss: 1.0934 - acc: 0.552 - ETA: 4s - loss: 1.0934 - acc: 0.553 - ETA: 3s - loss: 1.0938 - acc: 0.553 - ETA: 3s - loss: 1.0935 - acc: 0.552 - ETA: 2s - loss: 1.0937 - acc: 0.552 - ETA: 2s - loss: 1.0934 - acc: 0.552 - ETA: 1s - loss: 1.0930 - acc: 0.553 - ETA: 1s - loss: 1.0938 - acc: 0.552 - ETA: 0s - loss: 1.0937 - acc: 0.552 - ETA: 0s - loss: 1.0937 - acc: 0.553 - 131s 15ms/step - loss: 1.0930 - acc: 0.5529\n",
      "Epoch 4/4\n"
     ]
    },
    {
     "name": "stdout",
     "output_type": "stream",
     "text": [
      "6624/8543 [======================>.......] - ETA: 2:08 - loss: 1.0054 - acc: 0.593 - ETA: 2:06 - loss: 0.9185 - acc: 0.656 - ETA: 2:03 - loss: 0.8574 - acc: 0.697 - ETA: 2:07 - loss: 0.8468 - acc: 0.687 - ETA: 2:09 - loss: 0.8741 - acc: 0.668 - ETA: 2:10 - loss: 0.8613 - acc: 0.666 - ETA: 2:08 - loss: 0.8717 - acc: 0.669 - ETA: 2:07 - loss: 0.8693 - acc: 0.683 - ETA: 2:07 - loss: 0.8661 - acc: 0.687 - ETA: 2:06 - loss: 0.8696 - acc: 0.681 - ETA: 2:05 - loss: 0.8830 - acc: 0.670 - ETA: 2:04 - loss: 0.8896 - acc: 0.658 - ETA: 2:04 - loss: 0.8769 - acc: 0.675 - ETA: 2:03 - loss: 0.8612 - acc: 0.683 - ETA: 2:02 - loss: 0.8607 - acc: 0.685 - ETA: 2:02 - loss: 0.8654 - acc: 0.681 - ETA: 2:01 - loss: 0.8613 - acc: 0.682 - ETA: 2:00 - loss: 0.8709 - acc: 0.671 - ETA: 1:59 - loss: 0.8658 - acc: 0.671 - ETA: 1:59 - loss: 0.8596 - acc: 0.668 - ETA: 1:58 - loss: 0.8599 - acc: 0.665 - ETA: 1:58 - loss: 0.8684 - acc: 0.661 - ETA: 1:57 - loss: 0.8639 - acc: 0.665 - ETA: 1:57 - loss: 0.8650 - acc: 0.666 - ETA: 1:56 - loss: 0.8658 - acc: 0.668 - ETA: 1:56 - loss: 0.8565 - acc: 0.673 - ETA: 1:55 - loss: 0.8548 - acc: 0.673 - ETA: 1:55 - loss: 0.8473 - acc: 0.677 - ETA: 1:54 - loss: 0.8442 - acc: 0.677 - ETA: 1:54 - loss: 0.8396 - acc: 0.681 - ETA: 1:53 - loss: 0.8415 - acc: 0.682 - ETA: 1:53 - loss: 0.8392 - acc: 0.681 - ETA: 1:52 - loss: 0.8362 - acc: 0.682 - ETA: 1:52 - loss: 0.8402 - acc: 0.681 - ETA: 1:52 - loss: 0.8462 - acc: 0.678 - ETA: 1:51 - loss: 0.8452 - acc: 0.675 - ETA: 1:50 - loss: 0.8493 - acc: 0.675 - ETA: 1:50 - loss: 0.8485 - acc: 0.673 - ETA: 1:49 - loss: 0.8445 - acc: 0.677 - ETA: 1:49 - loss: 0.8420 - acc: 0.678 - ETA: 1:49 - loss: 0.8414 - acc: 0.680 - ETA: 1:48 - loss: 0.8434 - acc: 0.680 - ETA: 1:48 - loss: 0.8440 - acc: 0.681 - ETA: 1:47 - loss: 0.8422 - acc: 0.681 - ETA: 1:47 - loss: 0.8421 - acc: 0.681 - ETA: 1:46 - loss: 0.8421 - acc: 0.679 - ETA: 1:46 - loss: 0.8421 - acc: 0.677 - ETA: 1:46 - loss: 0.8441 - acc: 0.676 - ETA: 1:46 - loss: 0.8426 - acc: 0.677 - ETA: 1:45 - loss: 0.8474 - acc: 0.676 - ETA: 1:45 - loss: 0.8555 - acc: 0.672 - ETA: 1:45 - loss: 0.8599 - acc: 0.668 - ETA: 1:45 - loss: 0.8643 - acc: 0.666 - ETA: 1:44 - loss: 0.8692 - acc: 0.662 - ETA: 1:44 - loss: 0.8699 - acc: 0.662 - ETA: 1:43 - loss: 0.8694 - acc: 0.661 - ETA: 1:43 - loss: 0.8709 - acc: 0.662 - ETA: 1:42 - loss: 0.8684 - acc: 0.663 - ETA: 1:42 - loss: 0.8692 - acc: 0.663 - ETA: 1:41 - loss: 0.8708 - acc: 0.662 - ETA: 1:41 - loss: 0.8707 - acc: 0.662 - ETA: 1:40 - loss: 0.8700 - acc: 0.663 - ETA: 1:40 - loss: 0.8713 - acc: 0.662 - ETA: 1:39 - loss: 0.8702 - acc: 0.663 - ETA: 1:39 - loss: 0.8697 - acc: 0.663 - ETA: 1:38 - loss: 0.8685 - acc: 0.664 - ETA: 1:38 - loss: 0.8670 - acc: 0.665 - ETA: 1:37 - loss: 0.8671 - acc: 0.665 - ETA: 1:37 - loss: 0.8650 - acc: 0.667 - ETA: 1:36 - loss: 0.8635 - acc: 0.668 - ETA: 1:36 - loss: 0.8641 - acc: 0.668 - ETA: 1:35 - loss: 0.8653 - acc: 0.666 - ETA: 1:35 - loss: 0.8650 - acc: 0.666 - ETA: 1:34 - loss: 0.8636 - acc: 0.666 - ETA: 1:34 - loss: 0.8610 - acc: 0.667 - ETA: 1:33 - loss: 0.8593 - acc: 0.669 - ETA: 1:33 - loss: 0.8589 - acc: 0.668 - ETA: 1:32 - loss: 0.8594 - acc: 0.668 - ETA: 1:31 - loss: 0.8571 - acc: 0.668 - ETA: 1:31 - loss: 0.8567 - acc: 0.669 - ETA: 1:30 - loss: 0.8572 - acc: 0.669 - ETA: 1:30 - loss: 0.8524 - acc: 0.671 - ETA: 1:29 - loss: 0.8524 - acc: 0.672 - ETA: 1:29 - loss: 0.8509 - acc: 0.673 - ETA: 1:28 - loss: 0.8524 - acc: 0.673 - ETA: 1:28 - loss: 0.8523 - acc: 0.673 - ETA: 1:27 - loss: 0.8522 - acc: 0.673 - ETA: 1:27 - loss: 0.8516 - acc: 0.672 - ETA: 1:26 - loss: 0.8537 - acc: 0.670 - ETA: 1:26 - loss: 0.8544 - acc: 0.670 - ETA: 1:25 - loss: 0.8544 - acc: 0.670 - ETA: 1:25 - loss: 0.8552 - acc: 0.670 - ETA: 1:24 - loss: 0.8556 - acc: 0.671 - ETA: 1:24 - loss: 0.8555 - acc: 0.670 - ETA: 1:23 - loss: 0.8557 - acc: 0.670 - ETA: 1:23 - loss: 0.8556 - acc: 0.670 - ETA: 1:22 - loss: 0.8559 - acc: 0.670 - ETA: 1:22 - loss: 0.8549 - acc: 0.670 - ETA: 1:21 - loss: 0.8563 - acc: 0.670 - ETA: 1:21 - loss: 0.8571 - acc: 0.670 - ETA: 1:20 - loss: 0.8596 - acc: 0.668 - ETA: 1:20 - loss: 0.8594 - acc: 0.668 - ETA: 1:19 - loss: 0.8592 - acc: 0.669 - ETA: 1:19 - loss: 0.8586 - acc: 0.669 - ETA: 1:18 - loss: 0.8613 - acc: 0.668 - ETA: 1:18 - loss: 0.8625 - acc: 0.668 - ETA: 1:17 - loss: 0.8629 - acc: 0.668 - ETA: 1:17 - loss: 0.8619 - acc: 0.668 - ETA: 1:16 - loss: 0.8628 - acc: 0.667 - ETA: 1:16 - loss: 0.8643 - acc: 0.666 - ETA: 1:15 - loss: 0.8654 - acc: 0.665 - ETA: 1:15 - loss: 0.8653 - acc: 0.666 - ETA: 1:14 - loss: 0.8650 - acc: 0.665 - ETA: 1:14 - loss: 0.8640 - acc: 0.665 - ETA: 1:13 - loss: 0.8642 - acc: 0.665 - ETA: 1:13 - loss: 0.8644 - acc: 0.665 - ETA: 1:12 - loss: 0.8646 - acc: 0.665 - ETA: 1:12 - loss: 0.8634 - acc: 0.666 - ETA: 1:11 - loss: 0.8611 - acc: 0.668 - ETA: 1:11 - loss: 0.8613 - acc: 0.667 - ETA: 1:10 - loss: 0.8608 - acc: 0.667 - ETA: 1:10 - loss: 0.8604 - acc: 0.667 - ETA: 1:09 - loss: 0.8602 - acc: 0.667 - ETA: 1:09 - loss: 0.8605 - acc: 0.667 - ETA: 1:08 - loss: 0.8596 - acc: 0.667 - ETA: 1:08 - loss: 0.8599 - acc: 0.667 - ETA: 1:07 - loss: 0.8603 - acc: 0.668 - ETA: 1:07 - loss: 0.8601 - acc: 0.668 - ETA: 1:06 - loss: 0.8587 - acc: 0.668 - ETA: 1:06 - loss: 0.8605 - acc: 0.668 - ETA: 1:05 - loss: 0.8598 - acc: 0.668 - ETA: 1:05 - loss: 0.8611 - acc: 0.667 - ETA: 1:04 - loss: 0.8613 - acc: 0.667 - ETA: 1:04 - loss: 0.8627 - acc: 0.667 - ETA: 1:03 - loss: 0.8636 - acc: 0.667 - ETA: 1:03 - loss: 0.8634 - acc: 0.666 - ETA: 1:02 - loss: 0.8632 - acc: 0.666 - ETA: 1:02 - loss: 0.8650 - acc: 0.666 - ETA: 1:01 - loss: 0.8672 - acc: 0.665 - ETA: 1:01 - loss: 0.8689 - acc: 0.664 - ETA: 1:01 - loss: 0.8683 - acc: 0.664 - ETA: 1:00 - loss: 0.8684 - acc: 0.664 - ETA: 1:00 - loss: 0.8693 - acc: 0.663 - ETA: 59s - loss: 0.8699 - acc: 0.663 - ETA: 59s - loss: 0.8710 - acc: 0.66 - ETA: 58s - loss: 0.8706 - acc: 0.66 - ETA: 58s - loss: 0.8708 - acc: 0.66 - ETA: 57s - loss: 0.8709 - acc: 0.66 - ETA: 57s - loss: 0.8707 - acc: 0.66 - ETA: 56s - loss: 0.8712 - acc: 0.66 - ETA: 56s - loss: 0.8719 - acc: 0.66 - ETA: 55s - loss: 0.8710 - acc: 0.66 - ETA: 55s - loss: 0.8720 - acc: 0.66 - ETA: 54s - loss: 0.8742 - acc: 0.66 - ETA: 54s - loss: 0.8744 - acc: 0.66 - ETA: 53s - loss: 0.8747 - acc: 0.66 - ETA: 53s - loss: 0.8741 - acc: 0.66 - ETA: 52s - loss: 0.8739 - acc: 0.66 - ETA: 52s - loss: 0.8723 - acc: 0.66 - ETA: 51s - loss: 0.8724 - acc: 0.66 - ETA: 51s - loss: 0.8722 - acc: 0.66 - ETA: 50s - loss: 0.8723 - acc: 0.66 - ETA: 50s - loss: 0.8720 - acc: 0.66 - ETA: 49s - loss: 0.8719 - acc: 0.66 - ETA: 49s - loss: 0.8725 - acc: 0.66 - ETA: 48s - loss: 0.8717 - acc: 0.66 - ETA: 48s - loss: 0.8730 - acc: 0.66 - ETA: 47s - loss: 0.8732 - acc: 0.66 - ETA: 47s - loss: 0.8730 - acc: 0.66 - ETA: 46s - loss: 0.8736 - acc: 0.66 - ETA: 46s - loss: 0.8730 - acc: 0.66 - ETA: 45s - loss: 0.8734 - acc: 0.66 - ETA: 45s - loss: 0.8730 - acc: 0.66 - ETA: 44s - loss: 0.8728 - acc: 0.66 - ETA: 44s - loss: 0.8722 - acc: 0.66 - ETA: 43s - loss: 0.8725 - acc: 0.66 - ETA: 43s - loss: 0.8720 - acc: 0.66 - ETA: 42s - loss: 0.8722 - acc: 0.66 - ETA: 42s - loss: 0.8731 - acc: 0.66 - ETA: 42s - loss: 0.8728 - acc: 0.66 - ETA: 41s - loss: 0.8732 - acc: 0.66 - ETA: 41s - loss: 0.8723 - acc: 0.66 - ETA: 40s - loss: 0.8734 - acc: 0.66 - ETA: 40s - loss: 0.8728 - acc: 0.66 - ETA: 39s - loss: 0.8734 - acc: 0.66 - ETA: 39s - loss: 0.8737 - acc: 0.66 - ETA: 38s - loss: 0.8743 - acc: 0.66 - ETA: 38s - loss: 0.8741 - acc: 0.66 - ETA: 37s - loss: 0.8752 - acc: 0.66 - ETA: 37s - loss: 0.8754 - acc: 0.66 - ETA: 36s - loss: 0.8746 - acc: 0.66 - ETA: 36s - loss: 0.8756 - acc: 0.66 - ETA: 35s - loss: 0.8746 - acc: 0.66 - ETA: 35s - loss: 0.8750 - acc: 0.66 - ETA: 35s - loss: 0.8748 - acc: 0.66 - ETA: 34s - loss: 0.8755 - acc: 0.66 - ETA: 34s - loss: 0.8746 - acc: 0.66 - ETA: 33s - loss: 0.8752 - acc: 0.66 - ETA: 33s - loss: 0.8755 - acc: 0.66 - ETA: 32s - loss: 0.8751 - acc: 0.65 - ETA: 32s - loss: 0.8759 - acc: 0.65 - ETA: 31s - loss: 0.8756 - acc: 0.65 - ETA: 31s - loss: 0.8765 - acc: 0.65 - ETA: 30s - loss: 0.8760 - acc: 0.65 - ETA: 30s - loss: 0.8764 - acc: 0.65 - ETA: 29s - loss: 0.8761 - acc: 0.65 - ETA: 29s - loss: 0.8764 - acc: 0.6593"
     ]
    },
    {
     "name": "stdout",
     "output_type": "stream",
     "text": [
      "8543/8543 [==============================] - ETA: 28s - loss: 0.8759 - acc: 0.65 - ETA: 28s - loss: 0.8747 - acc: 0.66 - ETA: 27s - loss: 0.8743 - acc: 0.66 - ETA: 27s - loss: 0.8734 - acc: 0.66 - ETA: 26s - loss: 0.8720 - acc: 0.66 - ETA: 26s - loss: 0.8720 - acc: 0.66 - ETA: 25s - loss: 0.8723 - acc: 0.66 - ETA: 25s - loss: 0.8719 - acc: 0.66 - ETA: 24s - loss: 0.8726 - acc: 0.66 - ETA: 24s - loss: 0.8734 - acc: 0.65 - ETA: 23s - loss: 0.8735 - acc: 0.65 - ETA: 23s - loss: 0.8724 - acc: 0.65 - ETA: 22s - loss: 0.8733 - acc: 0.65 - ETA: 22s - loss: 0.8737 - acc: 0.65 - ETA: 21s - loss: 0.8748 - acc: 0.65 - ETA: 21s - loss: 0.8745 - acc: 0.65 - ETA: 20s - loss: 0.8745 - acc: 0.65 - ETA: 20s - loss: 0.8738 - acc: 0.65 - ETA: 19s - loss: 0.8740 - acc: 0.65 - ETA: 19s - loss: 0.8739 - acc: 0.65 - ETA: 18s - loss: 0.8736 - acc: 0.66 - ETA: 18s - loss: 0.8740 - acc: 0.65 - ETA: 17s - loss: 0.8738 - acc: 0.65 - ETA: 17s - loss: 0.8744 - acc: 0.65 - ETA: 16s - loss: 0.8749 - acc: 0.65 - ETA: 16s - loss: 0.8755 - acc: 0.65 - ETA: 15s - loss: 0.8752 - acc: 0.65 - ETA: 15s - loss: 0.8758 - acc: 0.65 - ETA: 15s - loss: 0.8754 - acc: 0.65 - ETA: 14s - loss: 0.8755 - acc: 0.65 - ETA: 14s - loss: 0.8769 - acc: 0.65 - ETA: 13s - loss: 0.8765 - acc: 0.65 - ETA: 13s - loss: 0.8766 - acc: 0.65 - ETA: 12s - loss: 0.8762 - acc: 0.65 - ETA: 12s - loss: 0.8771 - acc: 0.65 - ETA: 11s - loss: 0.8773 - acc: 0.65 - ETA: 11s - loss: 0.8768 - acc: 0.65 - ETA: 10s - loss: 0.8762 - acc: 0.65 - ETA: 10s - loss: 0.8757 - acc: 0.65 - ETA: 9s - loss: 0.8754 - acc: 0.6595 - ETA: 9s - loss: 0.8757 - acc: 0.659 - ETA: 8s - loss: 0.8760 - acc: 0.658 - ETA: 8s - loss: 0.8767 - acc: 0.658 - ETA: 7s - loss: 0.8765 - acc: 0.658 - ETA: 7s - loss: 0.8772 - acc: 0.658 - ETA: 6s - loss: 0.8772 - acc: 0.658 - ETA: 6s - loss: 0.8775 - acc: 0.658 - ETA: 5s - loss: 0.8779 - acc: 0.658 - ETA: 5s - loss: 0.8787 - acc: 0.657 - ETA: 4s - loss: 0.8791 - acc: 0.657 - ETA: 4s - loss: 0.8790 - acc: 0.657 - ETA: 3s - loss: 0.8793 - acc: 0.657 - ETA: 3s - loss: 0.8799 - acc: 0.657 - ETA: 2s - loss: 0.8802 - acc: 0.657 - ETA: 2s - loss: 0.8801 - acc: 0.657 - ETA: 1s - loss: 0.8809 - acc: 0.656 - ETA: 1s - loss: 0.8806 - acc: 0.656 - ETA: 0s - loss: 0.8807 - acc: 0.656 - ETA: 0s - loss: 0.8810 - acc: 0.656 - 129s 15ms/step - loss: 0.8815 - acc: 0.6559\n"
     ]
    }
   ],
   "source": [
    "# 7 - Generate your predictions on the test set using model.predict(x_test)\n",
    "#     https://keras.io/models/model/\n",
    "#     Log your predictions in a file (one line = one integer: 0,1,2,3,4)\n",
    "#     Attach the output file \"logreg_lstm_y_test_sst.txt\" to your deliverable.\n",
    "\n",
    "model = Sequential()\n",
    "model.add(Embedding(vocab_size, embed_dim))\n",
    "model.add(LSTM(nhid, dropout=0.2, recurrent_dropout=0.2))\n",
    "model.add(Dense(n_classes, activation='softmax'))\n",
    "model.compile(loss=loss_classif,\n",
    "              optimizer=optimizer,\n",
    "              metrics=metrics_classif)\n",
    "model.fit(train_pad, np.vstack(Y_train), batch_size=32, epochs=4, verbose=1)\n",
    "predictions = model.predict(test_pad)\n",
    "\n",
    "file = open(\"logreg_lstm_y_test_sst.txt\", \"w\")\n",
    "for p in predictions:\n",
    "    file.write(str(np.argmax(p)+1) + \"\\n\")\n",
    "file.close()"
   ]
  },
  {
   "cell_type": "markdown",
   "metadata": {},
   "source": [
    "## 4.3 -- innovate !"
   ]
  },
  {
   "cell_type": "code",
   "execution_count": 46,
   "metadata": {
    "scrolled": true
   },
   "outputs": [
    {
     "name": "stdout",
     "output_type": "stream",
     "text": [
      "Loaded 200000 pretrained word vectors\n",
      "_________________________________________________________________\n",
      "Layer (type)                 Output Shape              Param #   \n",
      "=================================================================\n",
      "embedding_7 (Embedding)      (None, None, 300)         5351400   \n",
      "_________________________________________________________________\n",
      "cu_dnnlstm_1 (CuDNNLSTM)     (None, 50)                70400     \n",
      "_________________________________________________________________\n",
      "dense_7 (Dense)              (None, 5)                 255       \n",
      "=================================================================\n",
      "Total params: 5,422,055\n",
      "Trainable params: 5,422,055\n",
      "Non-trainable params: 0\n",
      "_________________________________________________________________\n",
      "None\n",
      "Train on 6834 samples, validate on 1709 samples\n",
      "Epoch 1/12\n",
      "6834/6834 [==============================] - ETA: 9:41 - loss: 1.6094 - acc: 0.125 - ETA: 2:26 - loss: 1.6085 - acc: 0.210 - ETA: 1:24 - loss: 1.5991 - acc: 0.254 - ETA: 59s - loss: 1.5938 - acc: 0.262 - ETA: 46s - loss: 1.5824 - acc: 0.28 - ETA: 37s - loss: 1.5686 - acc: 0.28 - ETA: 31s - loss: 1.5618 - acc: 0.28 - ETA: 27s - loss: 1.5808 - acc: 0.27 - ETA: 24s - loss: 1.5821 - acc: 0.26 - ETA: 21s - loss: 1.5745 - acc: 0.27 - ETA: 19s - loss: 1.5719 - acc: 0.27 - ETA: 18s - loss: 1.5706 - acc: 0.26 - ETA: 16s - loss: 1.5721 - acc: 0.26 - ETA: 14s - loss: 1.5726 - acc: 0.26 - ETA: 13s - loss: 1.5695 - acc: 0.26 - ETA: 12s - loss: 1.5710 - acc: 0.26 - ETA: 12s - loss: 1.5725 - acc: 0.26 - ETA: 11s - loss: 1.5729 - acc: 0.26 - ETA: 10s - loss: 1.5730 - acc: 0.26 - ETA: 9s - loss: 1.5724 - acc: 0.2638 - ETA: 9s - loss: 1.5735 - acc: 0.263 - ETA: 8s - loss: 1.5722 - acc: 0.261 - ETA: 8s - loss: 1.5719 - acc: 0.261 - ETA: 7s - loss: 1.5710 - acc: 0.263 - ETA: 7s - loss: 1.5691 - acc: 0.271 - ETA: 7s - loss: 1.5694 - acc: 0.272 - ETA: 6s - loss: 1.5667 - acc: 0.276 - ETA: 6s - loss: 1.5651 - acc: 0.276 - ETA: 6s - loss: 1.5652 - acc: 0.277 - ETA: 5s - loss: 1.5646 - acc: 0.277 - ETA: 5s - loss: 1.5643 - acc: 0.279 - ETA: 5s - loss: 1.5652 - acc: 0.277 - ETA: 5s - loss: 1.5668 - acc: 0.275 - ETA: 4s - loss: 1.5683 - acc: 0.274 - ETA: 4s - loss: 1.5686 - acc: 0.273 - ETA: 4s - loss: 1.5695 - acc: 0.273 - ETA: 4s - loss: 1.5695 - acc: 0.274 - ETA: 3s - loss: 1.5705 - acc: 0.273 - ETA: 3s - loss: 1.5708 - acc: 0.273 - ETA: 3s - loss: 1.5703 - acc: 0.275 - ETA: 3s - loss: 1.5694 - acc: 0.277 - ETA: 3s - loss: 1.5688 - acc: 0.278 - ETA: 3s - loss: 1.5709 - acc: 0.275 - ETA: 2s - loss: 1.5705 - acc: 0.275 - ETA: 2s - loss: 1.5719 - acc: 0.272 - ETA: 2s - loss: 1.5725 - acc: 0.271 - ETA: 2s - loss: 1.5725 - acc: 0.272 - ETA: 2s - loss: 1.5725 - acc: 0.272 - ETA: 2s - loss: 1.5718 - acc: 0.273 - ETA: 2s - loss: 1.5715 - acc: 0.273 - ETA: 1s - loss: 1.5714 - acc: 0.273 - ETA: 1s - loss: 1.5712 - acc: 0.275 - ETA: 1s - loss: 1.5711 - acc: 0.274 - ETA: 1s - loss: 1.5717 - acc: 0.273 - ETA: 1s - loss: 1.5713 - acc: 0.273 - ETA: 1s - loss: 1.5713 - acc: 0.274 - ETA: 1s - loss: 1.5724 - acc: 0.272 - ETA: 1s - loss: 1.5724 - acc: 0.272 - ETA: 0s - loss: 1.5725 - acc: 0.271 - ETA: 0s - loss: 1.5725 - acc: 0.271 - ETA: 0s - loss: 1.5719 - acc: 0.272 - ETA: 0s - loss: 1.5717 - acc: 0.271 - ETA: 0s - loss: 1.5713 - acc: 0.272 - ETA: 0s - loss: 1.5716 - acc: 0.271 - ETA: 0s - loss: 1.5708 - acc: 0.273 - ETA: 0s - loss: 1.5716 - acc: 0.272 - ETA: 0s - loss: 1.5710 - acc: 0.271 - 8s 1ms/step - loss: 1.5711 - acc: 0.2717 - val_loss: 1.5804 - val_acc: 0.2580\n",
      "Epoch 2/12\n",
      "6834/6834 [==============================] - ETA: 3s - loss: 1.5602 - acc: 0.343 - ETA: 4s - loss: 1.5159 - acc: 0.343 - ETA: 4s - loss: 1.5535 - acc: 0.303 - ETA: 4s - loss: 1.5536 - acc: 0.300 - ETA: 4s - loss: 1.5590 - acc: 0.286 - ETA: 4s - loss: 1.5589 - acc: 0.287 - ETA: 3s - loss: 1.5534 - acc: 0.276 - ETA: 3s - loss: 1.5584 - acc: 0.276 - ETA: 3s - loss: 1.5611 - acc: 0.268 - ETA: 3s - loss: 1.5657 - acc: 0.269 - ETA: 3s - loss: 1.5640 - acc: 0.272 - ETA: 3s - loss: 1.5650 - acc: 0.268 - ETA: 3s - loss: 1.5620 - acc: 0.271 - ETA: 3s - loss: 1.5622 - acc: 0.269 - ETA: 3s - loss: 1.5612 - acc: 0.267 - ETA: 3s - loss: 1.5622 - acc: 0.269 - ETA: 3s - loss: 1.5624 - acc: 0.271 - ETA: 3s - loss: 1.5628 - acc: 0.271 - ETA: 3s - loss: 1.5645 - acc: 0.268 - ETA: 3s - loss: 1.5662 - acc: 0.266 - ETA: 3s - loss: 1.5654 - acc: 0.265 - ETA: 2s - loss: 1.5645 - acc: 0.267 - ETA: 2s - loss: 1.5637 - acc: 0.266 - ETA: 2s - loss: 1.5650 - acc: 0.264 - ETA: 2s - loss: 1.5644 - acc: 0.266 - ETA: 2s - loss: 1.5648 - acc: 0.264 - ETA: 2s - loss: 1.5658 - acc: 0.264 - ETA: 2s - loss: 1.5661 - acc: 0.267 - ETA: 2s - loss: 1.5667 - acc: 0.267 - ETA: 2s - loss: 1.5667 - acc: 0.265 - ETA: 2s - loss: 1.5671 - acc: 0.264 - ETA: 2s - loss: 1.5673 - acc: 0.265 - ETA: 2s - loss: 1.5676 - acc: 0.266 - ETA: 2s - loss: 1.5660 - acc: 0.270 - ETA: 2s - loss: 1.5658 - acc: 0.270 - ETA: 2s - loss: 1.5664 - acc: 0.268 - ETA: 1s - loss: 1.5672 - acc: 0.266 - ETA: 1s - loss: 1.5670 - acc: 0.265 - ETA: 1s - loss: 1.5663 - acc: 0.267 - ETA: 1s - loss: 1.5659 - acc: 0.267 - ETA: 1s - loss: 1.5660 - acc: 0.267 - ETA: 1s - loss: 1.5668 - acc: 0.268 - ETA: 1s - loss: 1.5681 - acc: 0.267 - ETA: 1s - loss: 1.5679 - acc: 0.267 - ETA: 1s - loss: 1.5686 - acc: 0.266 - ETA: 1s - loss: 1.5680 - acc: 0.266 - ETA: 1s - loss: 1.5680 - acc: 0.266 - ETA: 1s - loss: 1.5677 - acc: 0.266 - ETA: 1s - loss: 1.5673 - acc: 0.266 - ETA: 1s - loss: 1.5673 - acc: 0.266 - ETA: 0s - loss: 1.5677 - acc: 0.265 - ETA: 0s - loss: 1.5678 - acc: 0.264 - ETA: 0s - loss: 1.5676 - acc: 0.265 - ETA: 0s - loss: 1.5677 - acc: 0.265 - ETA: 0s - loss: 1.5674 - acc: 0.266 - ETA: 0s - loss: 1.5674 - acc: 0.266 - ETA: 0s - loss: 1.5681 - acc: 0.267 - ETA: 0s - loss: 1.5681 - acc: 0.268 - ETA: 0s - loss: 1.5687 - acc: 0.267 - ETA: 0s - loss: 1.5689 - acc: 0.267 - ETA: 0s - loss: 1.5684 - acc: 0.268 - ETA: 0s - loss: 1.5674 - acc: 0.269 - ETA: 0s - loss: 1.5678 - acc: 0.269 - ETA: 0s - loss: 1.5672 - acc: 0.270 - 5s 681us/step - loss: 1.5670 - acc: 0.2714 - val_loss: 1.5859 - val_acc: 0.2522\n",
      "Epoch 3/12\n"
     ]
    },
    {
     "name": "stdout",
     "output_type": "stream",
     "text": [
      "6834/6834 [==============================] - ETA: 3s - loss: 1.5077 - acc: 0.375 - ETA: 4s - loss: 1.5824 - acc: 0.257 - ETA: 4s - loss: 1.5719 - acc: 0.263 - ETA: 4s - loss: 1.5741 - acc: 0.265 - ETA: 3s - loss: 1.5731 - acc: 0.267 - ETA: 3s - loss: 1.5685 - acc: 0.284 - ETA: 3s - loss: 1.5647 - acc: 0.290 - ETA: 3s - loss: 1.5604 - acc: 0.305 - ETA: 3s - loss: 1.5611 - acc: 0.294 - ETA: 3s - loss: 1.5631 - acc: 0.292 - ETA: 3s - loss: 1.5628 - acc: 0.297 - ETA: 3s - loss: 1.5632 - acc: 0.294 - ETA: 3s - loss: 1.5647 - acc: 0.289 - ETA: 3s - loss: 1.5677 - acc: 0.285 - ETA: 3s - loss: 1.5706 - acc: 0.281 - ETA: 3s - loss: 1.5727 - acc: 0.273 - ETA: 3s - loss: 1.5713 - acc: 0.271 - ETA: 3s - loss: 1.5688 - acc: 0.276 - ETA: 3s - loss: 1.5681 - acc: 0.276 - ETA: 3s - loss: 1.5685 - acc: 0.275 - ETA: 3s - loss: 1.5682 - acc: 0.272 - ETA: 2s - loss: 1.5714 - acc: 0.271 - ETA: 2s - loss: 1.5702 - acc: 0.271 - ETA: 2s - loss: 1.5700 - acc: 0.275 - ETA: 2s - loss: 1.5696 - acc: 0.274 - ETA: 2s - loss: 1.5709 - acc: 0.271 - ETA: 2s - loss: 1.5717 - acc: 0.269 - ETA: 2s - loss: 1.5720 - acc: 0.270 - ETA: 2s - loss: 1.5715 - acc: 0.271 - ETA: 2s - loss: 1.5718 - acc: 0.273 - ETA: 2s - loss: 1.5726 - acc: 0.273 - ETA: 2s - loss: 1.5725 - acc: 0.273 - ETA: 2s - loss: 1.5719 - acc: 0.273 - ETA: 2s - loss: 1.5704 - acc: 0.273 - ETA: 2s - loss: 1.5686 - acc: 0.275 - ETA: 2s - loss: 1.5680 - acc: 0.275 - ETA: 1s - loss: 1.5672 - acc: 0.274 - ETA: 1s - loss: 1.5666 - acc: 0.274 - ETA: 1s - loss: 1.5665 - acc: 0.273 - ETA: 1s - loss: 1.5678 - acc: 0.272 - ETA: 1s - loss: 1.5681 - acc: 0.273 - ETA: 1s - loss: 1.5683 - acc: 0.273 - ETA: 1s - loss: 1.5695 - acc: 0.272 - ETA: 1s - loss: 1.5694 - acc: 0.271 - ETA: 1s - loss: 1.5692 - acc: 0.271 - ETA: 1s - loss: 1.5693 - acc: 0.270 - ETA: 1s - loss: 1.5689 - acc: 0.271 - ETA: 1s - loss: 1.5691 - acc: 0.272 - ETA: 1s - loss: 1.5694 - acc: 0.272 - ETA: 1s - loss: 1.5695 - acc: 0.273 - ETA: 1s - loss: 1.5700 - acc: 0.272 - ETA: 1s - loss: 1.5697 - acc: 0.271 - ETA: 1s - loss: 1.5695 - acc: 0.272 - ETA: 1s - loss: 1.5696 - acc: 0.272 - ETA: 0s - loss: 1.5689 - acc: 0.272 - ETA: 0s - loss: 1.5697 - acc: 0.271 - ETA: 0s - loss: 1.5693 - acc: 0.270 - ETA: 0s - loss: 1.5690 - acc: 0.271 - ETA: 0s - loss: 1.5701 - acc: 0.271 - ETA: 0s - loss: 1.5694 - acc: 0.272 - ETA: 0s - loss: 1.5688 - acc: 0.272 - ETA: 0s - loss: 1.5682 - acc: 0.273 - ETA: 0s - loss: 1.5676 - acc: 0.272 - ETA: 0s - loss: 1.5677 - acc: 0.272 - ETA: 0s - loss: 1.5669 - acc: 0.273 - ETA: 0s - loss: 1.5671 - acc: 0.273 - ETA: 0s - loss: 1.5672 - acc: 0.274 - ETA: 0s - loss: 1.5680 - acc: 0.273 - ETA: 0s - loss: 1.5681 - acc: 0.272 - ETA: 0s - loss: 1.5678 - acc: 0.272 - 5s 699us/step - loss: 1.5677 - acc: 0.2733 - val_loss: 1.5798 - val_acc: 0.2522\n",
      "Epoch 4/12\n",
      "6834/6834 [==============================] - ETA: 3s - loss: 1.5212 - acc: 0.312 - ETA: 4s - loss: 1.5656 - acc: 0.226 - ETA: 4s - loss: 1.5472 - acc: 0.276 - ETA: 4s - loss: 1.5512 - acc: 0.278 - ETA: 4s - loss: 1.5767 - acc: 0.262 - ETA: 4s - loss: 1.5778 - acc: 0.261 - ETA: 3s - loss: 1.5724 - acc: 0.269 - ETA: 3s - loss: 1.5685 - acc: 0.271 - ETA: 3s - loss: 1.5724 - acc: 0.266 - ETA: 3s - loss: 1.5753 - acc: 0.261 - ETA: 3s - loss: 1.5714 - acc: 0.266 - ETA: 3s - loss: 1.5686 - acc: 0.266 - ETA: 3s - loss: 1.5681 - acc: 0.268 - ETA: 3s - loss: 1.5683 - acc: 0.266 - ETA: 3s - loss: 1.5709 - acc: 0.264 - ETA: 3s - loss: 1.5700 - acc: 0.260 - ETA: 3s - loss: 1.5682 - acc: 0.258 - ETA: 3s - loss: 1.5702 - acc: 0.253 - ETA: 3s - loss: 1.5658 - acc: 0.260 - ETA: 3s - loss: 1.5662 - acc: 0.264 - ETA: 3s - loss: 1.5676 - acc: 0.262 - ETA: 2s - loss: 1.5679 - acc: 0.262 - ETA: 2s - loss: 1.5675 - acc: 0.262 - ETA: 2s - loss: 1.5682 - acc: 0.260 - ETA: 2s - loss: 1.5681 - acc: 0.259 - ETA: 2s - loss: 1.5688 - acc: 0.259 - ETA: 2s - loss: 1.5701 - acc: 0.260 - ETA: 2s - loss: 1.5685 - acc: 0.263 - ETA: 2s - loss: 1.5672 - acc: 0.264 - ETA: 2s - loss: 1.5669 - acc: 0.266 - ETA: 2s - loss: 1.5666 - acc: 0.269 - ETA: 2s - loss: 1.5665 - acc: 0.268 - ETA: 2s - loss: 1.5673 - acc: 0.268 - ETA: 2s - loss: 1.5657 - acc: 0.269 - ETA: 2s - loss: 1.5666 - acc: 0.269 - ETA: 2s - loss: 1.5662 - acc: 0.270 - ETA: 1s - loss: 1.5655 - acc: 0.271 - ETA: 1s - loss: 1.5661 - acc: 0.270 - ETA: 1s - loss: 1.5658 - acc: 0.270 - ETA: 1s - loss: 1.5651 - acc: 0.270 - ETA: 1s - loss: 1.5639 - acc: 0.272 - ETA: 1s - loss: 1.5651 - acc: 0.271 - ETA: 1s - loss: 1.5648 - acc: 0.272 - ETA: 1s - loss: 1.5651 - acc: 0.272 - ETA: 1s - loss: 1.5655 - acc: 0.272 - ETA: 1s - loss: 1.5655 - acc: 0.273 - ETA: 1s - loss: 1.5661 - acc: 0.272 - ETA: 1s - loss: 1.5641 - acc: 0.274 - ETA: 1s - loss: 1.5638 - acc: 0.274 - ETA: 1s - loss: 1.5644 - acc: 0.274 - ETA: 1s - loss: 1.5647 - acc: 0.275 - ETA: 0s - loss: 1.5654 - acc: 0.274 - ETA: 0s - loss: 1.5658 - acc: 0.274 - ETA: 0s - loss: 1.5658 - acc: 0.273 - ETA: 0s - loss: 1.5660 - acc: 0.274 - ETA: 0s - loss: 1.5660 - acc: 0.275 - ETA: 0s - loss: 1.5653 - acc: 0.276 - ETA: 0s - loss: 1.5654 - acc: 0.276 - ETA: 0s - loss: 1.5650 - acc: 0.277 - ETA: 0s - loss: 1.5657 - acc: 0.276 - ETA: 0s - loss: 1.5653 - acc: 0.276 - ETA: 0s - loss: 1.5652 - acc: 0.276 - ETA: 0s - loss: 1.5655 - acc: 0.276 - ETA: 0s - loss: 1.5653 - acc: 0.276 - ETA: 0s - loss: 1.5659 - acc: 0.274 - ETA: 0s - loss: 1.5664 - acc: 0.273 - ETA: 0s - loss: 1.5660 - acc: 0.273 - 5s 665us/step - loss: 1.5664 - acc: 0.2729 - val_loss: 1.5805 - val_acc: 0.2522\n",
      "Epoch 5/12\n",
      "6834/6834 [==============================] - ETA: 3s - loss: 1.6376 - acc: 0.125 - ETA: 4s - loss: 1.6017 - acc: 0.210 - ETA: 4s - loss: 1.5910 - acc: 0.232 - ETA: 4s - loss: 1.5812 - acc: 0.246 - ETA: 4s - loss: 1.5804 - acc: 0.252 - ETA: 3s - loss: 1.5829 - acc: 0.259 - ETA: 3s - loss: 1.5903 - acc: 0.241 - ETA: 3s - loss: 1.5843 - acc: 0.251 - ETA: 3s - loss: 1.5822 - acc: 0.251 - ETA: 3s - loss: 1.5822 - acc: 0.241 - ETA: 3s - loss: 1.5821 - acc: 0.241 - ETA: 3s - loss: 1.5820 - acc: 0.245 - ETA: 3s - loss: 1.5821 - acc: 0.244 - ETA: 3s - loss: 1.5828 - acc: 0.248 - ETA: 3s - loss: 1.5831 - acc: 0.248 - ETA: 3s - loss: 1.5801 - acc: 0.253 - ETA: 3s - loss: 1.5801 - acc: 0.253 - ETA: 3s - loss: 1.5781 - acc: 0.255 - ETA: 3s - loss: 1.5749 - acc: 0.257 - ETA: 2s - loss: 1.5735 - acc: 0.260 - ETA: 2s - loss: 1.5747 - acc: 0.259 - ETA: 2s - loss: 1.5719 - acc: 0.258 - ETA: 2s - loss: 1.5721 - acc: 0.259 - ETA: 2s - loss: 1.5712 - acc: 0.260 - ETA: 2s - loss: 1.5709 - acc: 0.262 - ETA: 2s - loss: 1.5702 - acc: 0.262 - ETA: 2s - loss: 1.5693 - acc: 0.263 - ETA: 2s - loss: 1.5700 - acc: 0.262 - ETA: 2s - loss: 1.5720 - acc: 0.261 - ETA: 2s - loss: 1.5716 - acc: 0.260 - ETA: 2s - loss: 1.5716 - acc: 0.258 - ETA: 2s - loss: 1.5708 - acc: 0.259 - ETA: 2s - loss: 1.5709 - acc: 0.260 - ETA: 1s - loss: 1.5706 - acc: 0.262 - ETA: 1s - loss: 1.5706 - acc: 0.262 - ETA: 1s - loss: 1.5704 - acc: 0.261 - ETA: 1s - loss: 1.5695 - acc: 0.261 - ETA: 1s - loss: 1.5699 - acc: 0.263 - ETA: 1s - loss: 1.5686 - acc: 0.264 - ETA: 1s - loss: 1.5685 - acc: 0.265 - ETA: 1s - loss: 1.5689 - acc: 0.265 - ETA: 1s - loss: 1.5693 - acc: 0.264 - ETA: 1s - loss: 1.5691 - acc: 0.265 - ETA: 1s - loss: 1.5685 - acc: 0.266 - ETA: 1s - loss: 1.5677 - acc: 0.267 - ETA: 1s - loss: 1.5672 - acc: 0.268 - ETA: 1s - loss: 1.5672 - acc: 0.268 - ETA: 1s - loss: 1.5682 - acc: 0.267 - ETA: 1s - loss: 1.5680 - acc: 0.268 - ETA: 0s - loss: 1.5680 - acc: 0.268 - ETA: 0s - loss: 1.5677 - acc: 0.269 - ETA: 0s - loss: 1.5673 - acc: 0.268 - ETA: 0s - loss: 1.5661 - acc: 0.269 - ETA: 0s - loss: 1.5664 - acc: 0.269 - ETA: 0s - loss: 1.5661 - acc: 0.268 - ETA: 0s - loss: 1.5656 - acc: 0.269 - ETA: 0s - loss: 1.5653 - acc: 0.268 - ETA: 0s - loss: 1.5657 - acc: 0.269 - ETA: 0s - loss: 1.5659 - acc: 0.269 - ETA: 0s - loss: 1.5649 - acc: 0.270 - ETA: 0s - loss: 1.5651 - acc: 0.270 - ETA: 0s - loss: 1.5655 - acc: 0.269 - ETA: 0s - loss: 1.5659 - acc: 0.270 - ETA: 0s - loss: 1.5660 - acc: 0.270 - 5s 665us/step - loss: 1.5662 - acc: 0.2711 - val_loss: 1.5793 - val_acc: 0.2522\n",
      "Epoch 6/12\n"
     ]
    },
    {
     "name": "stdout",
     "output_type": "stream",
     "text": [
      "6834/6834 [==============================] - ETA: 3s - loss: 1.6474 - acc: 0.156 - ETA: 4s - loss: 1.5743 - acc: 0.312 - ETA: 4s - loss: 1.5735 - acc: 0.281 - ETA: 4s - loss: 1.5695 - acc: 0.303 - ETA: 3s - loss: 1.5594 - acc: 0.314 - ETA: 3s - loss: 1.5514 - acc: 0.323 - ETA: 3s - loss: 1.5538 - acc: 0.312 - ETA: 3s - loss: 1.5560 - acc: 0.304 - ETA: 3s - loss: 1.5600 - acc: 0.304 - ETA: 3s - loss: 1.5564 - acc: 0.305 - ETA: 3s - loss: 1.5541 - acc: 0.299 - ETA: 3s - loss: 1.5560 - acc: 0.299 - ETA: 3s - loss: 1.5602 - acc: 0.298 - ETA: 3s - loss: 1.5624 - acc: 0.293 - ETA: 3s - loss: 1.5667 - acc: 0.289 - ETA: 3s - loss: 1.5671 - acc: 0.287 - ETA: 3s - loss: 1.5674 - acc: 0.284 - ETA: 3s - loss: 1.5697 - acc: 0.278 - ETA: 2s - loss: 1.5693 - acc: 0.274 - ETA: 2s - loss: 1.5698 - acc: 0.274 - ETA: 2s - loss: 1.5707 - acc: 0.271 - ETA: 2s - loss: 1.5702 - acc: 0.274 - ETA: 2s - loss: 1.5701 - acc: 0.273 - ETA: 2s - loss: 1.5692 - acc: 0.271 - ETA: 2s - loss: 1.5694 - acc: 0.269 - ETA: 2s - loss: 1.5684 - acc: 0.270 - ETA: 2s - loss: 1.5674 - acc: 0.267 - ETA: 2s - loss: 1.5657 - acc: 0.266 - ETA: 2s - loss: 1.5665 - acc: 0.267 - ETA: 2s - loss: 1.5670 - acc: 0.268 - ETA: 2s - loss: 1.5664 - acc: 0.268 - ETA: 2s - loss: 1.5660 - acc: 0.269 - ETA: 2s - loss: 1.5644 - acc: 0.270 - ETA: 2s - loss: 1.5645 - acc: 0.268 - ETA: 1s - loss: 1.5639 - acc: 0.270 - ETA: 1s - loss: 1.5652 - acc: 0.269 - ETA: 1s - loss: 1.5647 - acc: 0.270 - ETA: 1s - loss: 1.5654 - acc: 0.271 - ETA: 1s - loss: 1.5658 - acc: 0.271 - ETA: 1s - loss: 1.5639 - acc: 0.272 - ETA: 1s - loss: 1.5648 - acc: 0.272 - ETA: 1s - loss: 1.5643 - acc: 0.272 - ETA: 1s - loss: 1.5654 - acc: 0.270 - ETA: 1s - loss: 1.5656 - acc: 0.271 - ETA: 1s - loss: 1.5650 - acc: 0.271 - ETA: 1s - loss: 1.5649 - acc: 0.273 - ETA: 1s - loss: 1.5645 - acc: 0.273 - ETA: 1s - loss: 1.5652 - acc: 0.272 - ETA: 1s - loss: 1.5656 - acc: 0.272 - ETA: 0s - loss: 1.5659 - acc: 0.272 - ETA: 0s - loss: 1.5658 - acc: 0.271 - ETA: 0s - loss: 1.5651 - acc: 0.271 - ETA: 0s - loss: 1.5650 - acc: 0.271 - ETA: 0s - loss: 1.5652 - acc: 0.272 - ETA: 0s - loss: 1.5648 - acc: 0.273 - ETA: 0s - loss: 1.5646 - acc: 0.273 - ETA: 0s - loss: 1.5645 - acc: 0.273 - ETA: 0s - loss: 1.5648 - acc: 0.273 - ETA: 0s - loss: 1.5653 - acc: 0.273 - ETA: 0s - loss: 1.5659 - acc: 0.272 - ETA: 0s - loss: 1.5662 - acc: 0.273 - ETA: 0s - loss: 1.5661 - acc: 0.273 - ETA: 0s - loss: 1.5668 - acc: 0.272 - ETA: 0s - loss: 1.5664 - acc: 0.272 - 4s 658us/step - loss: 1.5667 - acc: 0.2723 - val_loss: 1.5790 - val_acc: 0.2522\n",
      "Epoch 7/12\n",
      "6834/6834 [==============================] - ETA: 3s - loss: 1.6716 - acc: 0.156 - ETA: 4s - loss: 1.5434 - acc: 0.250 - ETA: 4s - loss: 1.5433 - acc: 0.276 - ETA: 4s - loss: 1.5478 - acc: 0.275 - ETA: 3s - loss: 1.5638 - acc: 0.262 - ETA: 3s - loss: 1.5604 - acc: 0.273 - ETA: 3s - loss: 1.5657 - acc: 0.271 - ETA: 3s - loss: 1.5661 - acc: 0.281 - ETA: 3s - loss: 1.5683 - acc: 0.283 - ETA: 3s - loss: 1.5636 - acc: 0.283 - ETA: 3s - loss: 1.5652 - acc: 0.282 - ETA: 3s - loss: 1.5645 - acc: 0.284 - ETA: 3s - loss: 1.5625 - acc: 0.286 - ETA: 3s - loss: 1.5641 - acc: 0.287 - ETA: 3s - loss: 1.5642 - acc: 0.284 - ETA: 3s - loss: 1.5644 - acc: 0.285 - ETA: 3s - loss: 1.5646 - acc: 0.283 - ETA: 2s - loss: 1.5649 - acc: 0.282 - ETA: 2s - loss: 1.5651 - acc: 0.279 - ETA: 2s - loss: 1.5661 - acc: 0.281 - ETA: 2s - loss: 1.5662 - acc: 0.282 - ETA: 2s - loss: 1.5672 - acc: 0.279 - ETA: 2s - loss: 1.5654 - acc: 0.280 - ETA: 2s - loss: 1.5653 - acc: 0.280 - ETA: 2s - loss: 1.5655 - acc: 0.279 - ETA: 2s - loss: 1.5655 - acc: 0.279 - ETA: 2s - loss: 1.5652 - acc: 0.279 - ETA: 2s - loss: 1.5655 - acc: 0.277 - ETA: 2s - loss: 1.5656 - acc: 0.276 - ETA: 2s - loss: 1.5661 - acc: 0.277 - ETA: 2s - loss: 1.5671 - acc: 0.277 - ETA: 2s - loss: 1.5670 - acc: 0.278 - ETA: 1s - loss: 1.5677 - acc: 0.274 - ETA: 1s - loss: 1.5680 - acc: 0.275 - ETA: 1s - loss: 1.5676 - acc: 0.276 - ETA: 1s - loss: 1.5675 - acc: 0.276 - ETA: 1s - loss: 1.5676 - acc: 0.276 - ETA: 1s - loss: 1.5667 - acc: 0.278 - ETA: 1s - loss: 1.5672 - acc: 0.277 - ETA: 1s - loss: 1.5671 - acc: 0.277 - ETA: 1s - loss: 1.5681 - acc: 0.276 - ETA: 1s - loss: 1.5670 - acc: 0.277 - ETA: 1s - loss: 1.5655 - acc: 0.279 - ETA: 1s - loss: 1.5650 - acc: 0.280 - ETA: 1s - loss: 1.5660 - acc: 0.280 - ETA: 1s - loss: 1.5657 - acc: 0.280 - ETA: 1s - loss: 1.5652 - acc: 0.279 - ETA: 0s - loss: 1.5665 - acc: 0.278 - ETA: 0s - loss: 1.5658 - acc: 0.279 - ETA: 0s - loss: 1.5660 - acc: 0.279 - ETA: 0s - loss: 1.5658 - acc: 0.280 - ETA: 0s - loss: 1.5658 - acc: 0.279 - ETA: 0s - loss: 1.5662 - acc: 0.279 - ETA: 0s - loss: 1.5659 - acc: 0.279 - ETA: 0s - loss: 1.5667 - acc: 0.277 - ETA: 0s - loss: 1.5661 - acc: 0.278 - ETA: 0s - loss: 1.5657 - acc: 0.278 - ETA: 0s - loss: 1.5655 - acc: 0.277 - ETA: 0s - loss: 1.5656 - acc: 0.277 - ETA: 0s - loss: 1.5669 - acc: 0.276 - ETA: 0s - loss: 1.5659 - acc: 0.277 - ETA: 0s - loss: 1.5659 - acc: 0.277 - 5s 665us/step - loss: 1.5662 - acc: 0.2767 - val_loss: 1.5793 - val_acc: 0.2522\n",
      "Epoch 8/12\n",
      "6834/6834 [==============================] - ETA: 3s - loss: 1.5564 - acc: 0.250 - ETA: 4s - loss: 1.5482 - acc: 0.281 - ETA: 4s - loss: 1.5515 - acc: 0.312 - ETA: 4s - loss: 1.5606 - acc: 0.306 - ETA: 4s - loss: 1.5721 - acc: 0.298 - ETA: 4s - loss: 1.5746 - acc: 0.302 - ETA: 3s - loss: 1.5748 - acc: 0.298 - ETA: 3s - loss: 1.5712 - acc: 0.299 - ETA: 3s - loss: 1.5709 - acc: 0.294 - ETA: 3s - loss: 1.5713 - acc: 0.288 - ETA: 3s - loss: 1.5703 - acc: 0.288 - ETA: 3s - loss: 1.5687 - acc: 0.287 - ETA: 3s - loss: 1.5719 - acc: 0.282 - ETA: 3s - loss: 1.5699 - acc: 0.282 - ETA: 3s - loss: 1.5703 - acc: 0.279 - ETA: 3s - loss: 1.5715 - acc: 0.280 - ETA: 3s - loss: 1.5703 - acc: 0.281 - ETA: 3s - loss: 1.5713 - acc: 0.281 - ETA: 3s - loss: 1.5720 - acc: 0.278 - ETA: 2s - loss: 1.5712 - acc: 0.283 - ETA: 2s - loss: 1.5711 - acc: 0.283 - ETA: 2s - loss: 1.5708 - acc: 0.282 - ETA: 2s - loss: 1.5721 - acc: 0.280 - ETA: 2s - loss: 1.5714 - acc: 0.281 - ETA: 2s - loss: 1.5723 - acc: 0.279 - ETA: 2s - loss: 1.5716 - acc: 0.280 - ETA: 2s - loss: 1.5702 - acc: 0.278 - ETA: 2s - loss: 1.5706 - acc: 0.278 - ETA: 2s - loss: 1.5701 - acc: 0.279 - ETA: 2s - loss: 1.5697 - acc: 0.279 - ETA: 2s - loss: 1.5689 - acc: 0.279 - ETA: 2s - loss: 1.5699 - acc: 0.277 - ETA: 2s - loss: 1.5691 - acc: 0.276 - ETA: 2s - loss: 1.5689 - acc: 0.278 - ETA: 1s - loss: 1.5684 - acc: 0.281 - ETA: 1s - loss: 1.5678 - acc: 0.281 - ETA: 1s - loss: 1.5665 - acc: 0.281 - ETA: 1s - loss: 1.5665 - acc: 0.281 - ETA: 1s - loss: 1.5677 - acc: 0.280 - ETA: 1s - loss: 1.5687 - acc: 0.280 - ETA: 1s - loss: 1.5684 - acc: 0.279 - ETA: 1s - loss: 1.5685 - acc: 0.279 - ETA: 1s - loss: 1.5694 - acc: 0.278 - ETA: 1s - loss: 1.5692 - acc: 0.278 - ETA: 1s - loss: 1.5693 - acc: 0.277 - ETA: 1s - loss: 1.5680 - acc: 0.278 - ETA: 1s - loss: 1.5678 - acc: 0.278 - ETA: 1s - loss: 1.5683 - acc: 0.277 - ETA: 1s - loss: 1.5683 - acc: 0.278 - ETA: 0s - loss: 1.5679 - acc: 0.278 - ETA: 0s - loss: 1.5686 - acc: 0.277 - ETA: 0s - loss: 1.5683 - acc: 0.276 - ETA: 0s - loss: 1.5673 - acc: 0.277 - ETA: 0s - loss: 1.5667 - acc: 0.276 - ETA: 0s - loss: 1.5672 - acc: 0.276 - ETA: 0s - loss: 1.5663 - acc: 0.276 - ETA: 0s - loss: 1.5667 - acc: 0.275 - ETA: 0s - loss: 1.5657 - acc: 0.275 - ETA: 0s - loss: 1.5656 - acc: 0.274 - ETA: 0s - loss: 1.5662 - acc: 0.274 - ETA: 0s - loss: 1.5652 - acc: 0.274 - ETA: 0s - loss: 1.5650 - acc: 0.273 - ETA: 0s - loss: 1.5661 - acc: 0.272 - 5s 663us/step - loss: 1.5660 - acc: 0.2723 - val_loss: 1.5809 - val_acc: 0.2522\n",
      "Epoch 9/12\n"
     ]
    },
    {
     "name": "stdout",
     "output_type": "stream",
     "text": [
      "6834/6834 [==============================] - ETA: 6s - loss: 1.5106 - acc: 0.437 - ETA: 4s - loss: 1.5787 - acc: 0.268 - ETA: 4s - loss: 1.5691 - acc: 0.281 - ETA: 4s - loss: 1.5693 - acc: 0.278 - ETA: 4s - loss: 1.5736 - acc: 0.266 - ETA: 3s - loss: 1.5797 - acc: 0.268 - ETA: 3s - loss: 1.5791 - acc: 0.269 - ETA: 3s - loss: 1.5808 - acc: 0.261 - ETA: 3s - loss: 1.5795 - acc: 0.271 - ETA: 3s - loss: 1.5811 - acc: 0.269 - ETA: 3s - loss: 1.5780 - acc: 0.275 - ETA: 3s - loss: 1.5761 - acc: 0.277 - ETA: 3s - loss: 1.5752 - acc: 0.277 - ETA: 3s - loss: 1.5754 - acc: 0.273 - ETA: 3s - loss: 1.5724 - acc: 0.276 - ETA: 3s - loss: 1.5729 - acc: 0.276 - ETA: 3s - loss: 1.5717 - acc: 0.275 - ETA: 3s - loss: 1.5710 - acc: 0.273 - ETA: 2s - loss: 1.5721 - acc: 0.273 - ETA: 2s - loss: 1.5711 - acc: 0.272 - ETA: 2s - loss: 1.5718 - acc: 0.272 - ETA: 2s - loss: 1.5714 - acc: 0.273 - ETA: 2s - loss: 1.5699 - acc: 0.274 - ETA: 2s - loss: 1.5680 - acc: 0.278 - ETA: 2s - loss: 1.5667 - acc: 0.278 - ETA: 2s - loss: 1.5661 - acc: 0.279 - ETA: 2s - loss: 1.5652 - acc: 0.278 - ETA: 2s - loss: 1.5637 - acc: 0.278 - ETA: 2s - loss: 1.5631 - acc: 0.279 - ETA: 2s - loss: 1.5621 - acc: 0.282 - ETA: 2s - loss: 1.5613 - acc: 0.283 - ETA: 2s - loss: 1.5617 - acc: 0.282 - ETA: 2s - loss: 1.5608 - acc: 0.284 - ETA: 2s - loss: 1.5616 - acc: 0.283 - ETA: 1s - loss: 1.5632 - acc: 0.281 - ETA: 1s - loss: 1.5630 - acc: 0.280 - ETA: 1s - loss: 1.5631 - acc: 0.279 - ETA: 1s - loss: 1.5629 - acc: 0.278 - ETA: 1s - loss: 1.5627 - acc: 0.277 - ETA: 1s - loss: 1.5631 - acc: 0.278 - ETA: 1s - loss: 1.5638 - acc: 0.277 - ETA: 1s - loss: 1.5633 - acc: 0.278 - ETA: 1s - loss: 1.5632 - acc: 0.277 - ETA: 1s - loss: 1.5634 - acc: 0.278 - ETA: 1s - loss: 1.5638 - acc: 0.277 - ETA: 1s - loss: 1.5639 - acc: 0.277 - ETA: 1s - loss: 1.5642 - acc: 0.276 - ETA: 0s - loss: 1.5639 - acc: 0.277 - ETA: 0s - loss: 1.5640 - acc: 0.277 - ETA: 0s - loss: 1.5645 - acc: 0.277 - ETA: 0s - loss: 1.5647 - acc: 0.277 - ETA: 0s - loss: 1.5654 - acc: 0.276 - ETA: 0s - loss: 1.5644 - acc: 0.277 - ETA: 0s - loss: 1.5648 - acc: 0.278 - ETA: 0s - loss: 1.5648 - acc: 0.278 - ETA: 0s - loss: 1.5649 - acc: 0.278 - ETA: 0s - loss: 1.5654 - acc: 0.277 - ETA: 0s - loss: 1.5649 - acc: 0.277 - ETA: 0s - loss: 1.5651 - acc: 0.276 - ETA: 0s - loss: 1.5654 - acc: 0.276 - ETA: 0s - loss: 1.5656 - acc: 0.276 - ETA: 0s - loss: 1.5661 - acc: 0.276 - ETA: 0s - loss: 1.5660 - acc: 0.276 - 5s 665us/step - loss: 1.5659 - acc: 0.2767 - val_loss: 1.5790 - val_acc: 0.2522\n",
      "Epoch 10/12\n",
      "6834/6834 [==============================] - ETA: 3s - loss: 1.5504 - acc: 0.343 - ETA: 4s - loss: 1.5440 - acc: 0.289 - ETA: 4s - loss: 1.5329 - acc: 0.312 - ETA: 4s - loss: 1.5512 - acc: 0.300 - ETA: 4s - loss: 1.5380 - acc: 0.310 - ETA: 4s - loss: 1.5426 - acc: 0.304 - ETA: 3s - loss: 1.5548 - acc: 0.281 - ETA: 3s - loss: 1.5585 - acc: 0.286 - ETA: 3s - loss: 1.5562 - acc: 0.288 - ETA: 3s - loss: 1.5599 - acc: 0.283 - ETA: 3s - loss: 1.5624 - acc: 0.283 - ETA: 3s - loss: 1.5603 - acc: 0.286 - ETA: 3s - loss: 1.5647 - acc: 0.279 - ETA: 3s - loss: 1.5639 - acc: 0.280 - ETA: 3s - loss: 1.5651 - acc: 0.277 - ETA: 3s - loss: 1.5634 - acc: 0.280 - ETA: 3s - loss: 1.5631 - acc: 0.278 - ETA: 3s - loss: 1.5634 - acc: 0.277 - ETA: 3s - loss: 1.5648 - acc: 0.277 - ETA: 3s - loss: 1.5656 - acc: 0.277 - ETA: 2s - loss: 1.5666 - acc: 0.278 - ETA: 2s - loss: 1.5662 - acc: 0.279 - ETA: 2s - loss: 1.5632 - acc: 0.281 - ETA: 2s - loss: 1.5618 - acc: 0.280 - ETA: 2s - loss: 1.5634 - acc: 0.278 - ETA: 2s - loss: 1.5644 - acc: 0.278 - ETA: 2s - loss: 1.5657 - acc: 0.278 - ETA: 2s - loss: 1.5667 - acc: 0.277 - ETA: 2s - loss: 1.5674 - acc: 0.277 - ETA: 2s - loss: 1.5674 - acc: 0.278 - ETA: 2s - loss: 1.5670 - acc: 0.279 - ETA: 2s - loss: 1.5667 - acc: 0.279 - ETA: 2s - loss: 1.5655 - acc: 0.281 - ETA: 2s - loss: 1.5657 - acc: 0.281 - ETA: 2s - loss: 1.5664 - acc: 0.281 - ETA: 1s - loss: 1.5664 - acc: 0.281 - ETA: 1s - loss: 1.5671 - acc: 0.281 - ETA: 1s - loss: 1.5667 - acc: 0.283 - ETA: 1s - loss: 1.5668 - acc: 0.282 - ETA: 1s - loss: 1.5683 - acc: 0.281 - ETA: 1s - loss: 1.5693 - acc: 0.280 - ETA: 1s - loss: 1.5701 - acc: 0.279 - ETA: 1s - loss: 1.5698 - acc: 0.278 - ETA: 1s - loss: 1.5697 - acc: 0.278 - ETA: 1s - loss: 1.5692 - acc: 0.278 - ETA: 1s - loss: 1.5688 - acc: 0.279 - ETA: 1s - loss: 1.5685 - acc: 0.279 - ETA: 1s - loss: 1.5680 - acc: 0.280 - ETA: 1s - loss: 1.5681 - acc: 0.278 - ETA: 1s - loss: 1.5677 - acc: 0.278 - ETA: 0s - loss: 1.5662 - acc: 0.279 - ETA: 0s - loss: 1.5658 - acc: 0.279 - ETA: 0s - loss: 1.5653 - acc: 0.279 - ETA: 0s - loss: 1.5656 - acc: 0.278 - ETA: 0s - loss: 1.5654 - acc: 0.279 - ETA: 0s - loss: 1.5657 - acc: 0.278 - ETA: 0s - loss: 1.5650 - acc: 0.279 - ETA: 0s - loss: 1.5651 - acc: 0.280 - ETA: 0s - loss: 1.5645 - acc: 0.280 - ETA: 0s - loss: 1.5642 - acc: 0.281 - ETA: 0s - loss: 1.5641 - acc: 0.280 - ETA: 0s - loss: 1.5650 - acc: 0.280 - ETA: 0s - loss: 1.5650 - acc: 0.279 - ETA: 0s - loss: 1.5655 - acc: 0.278 - ETA: 0s - loss: 1.5657 - acc: 0.277 - 5s 661us/step - loss: 1.5662 - acc: 0.2767 - val_loss: 1.5792 - val_acc: 0.2522\n",
      "Epoch 11/12\n",
      "6834/6834 [==============================] - ETA: 3s - loss: 1.5708 - acc: 0.218 - ETA: 4s - loss: 1.5530 - acc: 0.265 - ETA: 4s - loss: 1.5621 - acc: 0.263 - ETA: 4s - loss: 1.5614 - acc: 0.253 - ETA: 4s - loss: 1.5528 - acc: 0.274 - ETA: 4s - loss: 1.5576 - acc: 0.275 - ETA: 3s - loss: 1.5615 - acc: 0.278 - ETA: 3s - loss: 1.5658 - acc: 0.282 - ETA: 3s - loss: 1.5651 - acc: 0.293 - ETA: 3s - loss: 1.5685 - acc: 0.283 - ETA: 3s - loss: 1.5698 - acc: 0.284 - ETA: 3s - loss: 1.5710 - acc: 0.283 - ETA: 3s - loss: 1.5732 - acc: 0.282 - ETA: 3s - loss: 1.5732 - acc: 0.282 - ETA: 3s - loss: 1.5720 - acc: 0.281 - ETA: 3s - loss: 1.5719 - acc: 0.280 - ETA: 3s - loss: 1.5710 - acc: 0.281 - ETA: 3s - loss: 1.5693 - acc: 0.283 - ETA: 3s - loss: 1.5671 - acc: 0.284 - ETA: 2s - loss: 1.5648 - acc: 0.285 - ETA: 2s - loss: 1.5665 - acc: 0.282 - ETA: 2s - loss: 1.5640 - acc: 0.286 - ETA: 2s - loss: 1.5664 - acc: 0.283 - ETA: 2s - loss: 1.5631 - acc: 0.286 - ETA: 2s - loss: 1.5646 - acc: 0.284 - ETA: 2s - loss: 1.5660 - acc: 0.280 - ETA: 2s - loss: 1.5659 - acc: 0.281 - ETA: 2s - loss: 1.5636 - acc: 0.283 - ETA: 2s - loss: 1.5628 - acc: 0.283 - ETA: 2s - loss: 1.5632 - acc: 0.282 - ETA: 2s - loss: 1.5618 - acc: 0.283 - ETA: 2s - loss: 1.5628 - acc: 0.283 - ETA: 2s - loss: 1.5652 - acc: 0.281 - ETA: 2s - loss: 1.5650 - acc: 0.281 - ETA: 1s - loss: 1.5647 - acc: 0.279 - ETA: 1s - loss: 1.5636 - acc: 0.279 - ETA: 1s - loss: 1.5632 - acc: 0.280 - ETA: 1s - loss: 1.5620 - acc: 0.279 - ETA: 1s - loss: 1.5623 - acc: 0.279 - ETA: 1s - loss: 1.5639 - acc: 0.278 - ETA: 1s - loss: 1.5627 - acc: 0.278 - ETA: 1s - loss: 1.5630 - acc: 0.278 - ETA: 1s - loss: 1.5628 - acc: 0.278 - ETA: 1s - loss: 1.5628 - acc: 0.279 - ETA: 1s - loss: 1.5621 - acc: 0.281 - ETA: 1s - loss: 1.5612 - acc: 0.281 - ETA: 1s - loss: 1.5625 - acc: 0.279 - ETA: 1s - loss: 1.5620 - acc: 0.278 - ETA: 1s - loss: 1.5628 - acc: 0.278 - ETA: 1s - loss: 1.5637 - acc: 0.277 - ETA: 0s - loss: 1.5637 - acc: 0.277 - ETA: 0s - loss: 1.5643 - acc: 0.276 - ETA: 0s - loss: 1.5640 - acc: 0.276 - ETA: 0s - loss: 1.5641 - acc: 0.277 - ETA: 0s - loss: 1.5643 - acc: 0.276 - ETA: 0s - loss: 1.5646 - acc: 0.275 - ETA: 0s - loss: 1.5643 - acc: 0.276 - ETA: 0s - loss: 1.5645 - acc: 0.276 - ETA: 0s - loss: 1.5648 - acc: 0.276 - ETA: 0s - loss: 1.5658 - acc: 0.275 - ETA: 0s - loss: 1.5661 - acc: 0.275 - ETA: 0s - loss: 1.5656 - acc: 0.276 - ETA: 0s - loss: 1.5655 - acc: 0.276 - ETA: 0s - loss: 1.5658 - acc: 0.275 - ETA: 0s - loss: 1.5661 - acc: 0.275 - 5s 661us/step - loss: 1.5661 - acc: 0.2749 - val_loss: 1.5798 - val_acc: 0.2522\n",
      "Epoch 12/12\n"
     ]
    },
    {
     "name": "stdout",
     "output_type": "stream",
     "text": [
      "6834/6834 [==============================] - ETA: 3s - loss: 1.6558 - acc: 0.218 - ETA: 4s - loss: 1.5557 - acc: 0.320 - ETA: 4s - loss: 1.5572 - acc: 0.312 - ETA: 4s - loss: 1.5643 - acc: 0.293 - ETA: 4s - loss: 1.5650 - acc: 0.283 - ETA: 4s - loss: 1.5575 - acc: 0.283 - ETA: 3s - loss: 1.5556 - acc: 0.292 - ETA: 3s - loss: 1.5614 - acc: 0.284 - ETA: 3s - loss: 1.5638 - acc: 0.282 - ETA: 3s - loss: 1.5664 - acc: 0.282 - ETA: 3s - loss: 1.5665 - acc: 0.287 - ETA: 3s - loss: 1.5695 - acc: 0.282 - ETA: 3s - loss: 1.5728 - acc: 0.277 - ETA: 3s - loss: 1.5729 - acc: 0.273 - ETA: 3s - loss: 1.5719 - acc: 0.275 - ETA: 3s - loss: 1.5713 - acc: 0.272 - ETA: 3s - loss: 1.5728 - acc: 0.267 - ETA: 3s - loss: 1.5709 - acc: 0.272 - ETA: 3s - loss: 1.5698 - acc: 0.278 - ETA: 3s - loss: 1.5681 - acc: 0.278 - ETA: 2s - loss: 1.5682 - acc: 0.278 - ETA: 2s - loss: 1.5686 - acc: 0.278 - ETA: 2s - loss: 1.5673 - acc: 0.281 - ETA: 2s - loss: 1.5679 - acc: 0.279 - ETA: 2s - loss: 1.5714 - acc: 0.275 - ETA: 2s - loss: 1.5713 - acc: 0.275 - ETA: 2s - loss: 1.5716 - acc: 0.274 - ETA: 2s - loss: 1.5707 - acc: 0.275 - ETA: 2s - loss: 1.5718 - acc: 0.272 - ETA: 2s - loss: 1.5712 - acc: 0.272 - ETA: 2s - loss: 1.5714 - acc: 0.271 - ETA: 2s - loss: 1.5711 - acc: 0.272 - ETA: 2s - loss: 1.5706 - acc: 0.273 - ETA: 2s - loss: 1.5692 - acc: 0.273 - ETA: 2s - loss: 1.5686 - acc: 0.274 - ETA: 1s - loss: 1.5687 - acc: 0.273 - ETA: 1s - loss: 1.5676 - acc: 0.272 - ETA: 1s - loss: 1.5658 - acc: 0.273 - ETA: 1s - loss: 1.5660 - acc: 0.273 - ETA: 1s - loss: 1.5657 - acc: 0.274 - ETA: 1s - loss: 1.5650 - acc: 0.276 - ETA: 1s - loss: 1.5644 - acc: 0.273 - ETA: 1s - loss: 1.5645 - acc: 0.273 - ETA: 1s - loss: 1.5655 - acc: 0.274 - ETA: 1s - loss: 1.5669 - acc: 0.273 - ETA: 1s - loss: 1.5663 - acc: 0.274 - ETA: 1s - loss: 1.5661 - acc: 0.273 - ETA: 1s - loss: 1.5660 - acc: 0.273 - ETA: 1s - loss: 1.5662 - acc: 0.274 - ETA: 0s - loss: 1.5662 - acc: 0.273 - ETA: 0s - loss: 1.5666 - acc: 0.273 - ETA: 0s - loss: 1.5670 - acc: 0.272 - ETA: 0s - loss: 1.5667 - acc: 0.271 - ETA: 0s - loss: 1.5673 - acc: 0.271 - ETA: 0s - loss: 1.5678 - acc: 0.270 - ETA: 0s - loss: 1.5687 - acc: 0.271 - ETA: 0s - loss: 1.5683 - acc: 0.273 - ETA: 0s - loss: 1.5671 - acc: 0.274 - ETA: 0s - loss: 1.5660 - acc: 0.275 - ETA: 0s - loss: 1.5661 - acc: 0.275 - ETA: 0s - loss: 1.5670 - acc: 0.273 - ETA: 0s - loss: 1.5672 - acc: 0.273 - ETA: 0s - loss: 1.5677 - acc: 0.272 - ETA: 0s - loss: 1.5673 - acc: 0.272 - ETA: 0s - loss: 1.5665 - acc: 0.274 - 5s 665us/step - loss: 1.5663 - acc: 0.2751 - val_loss: 1.5800 - val_acc: 0.2522\n"
     ]
    },
    {
     "data": {
      "image/png": "[encoded data removed]",
      "text/plain": [
       "<Figure size 1440x504 with 2 Axes>"
      ]
     },
     "metadata": {
      "needs_background": "light"
     },
     "output_type": "display_data"
    }
   ],
   "source": [
    "# 8 - Open question: find a model that is better on your dev set\n",
    "#     (e.g: use a 1D ConvNet, use a better classifier, pretrain your lookup tables ..)\n",
    "#     you will get point if the results on the test set are better: be careful of not overfitting your dev set too much..\n",
    "#     Attach the output file \"XXX_XXX_y_test_sst.txt\" to your deliverable.\n",
    "\n",
    "from keras.layers import CuDNNLSTM, Conv1D, Dropout, MaxPooling1D\n",
    "\n",
    "w2v = Word2vec(os.path.join(PATH_TO_DATA, 'crawl-300d-200k.vec'), nmax=200000)\n",
    "\n",
    "t = keras.preprocessing.text.Tokenizer()\n",
    "words = \" \".join(X_train + X_dev + X_test).split(\" \")\n",
    "t.fit_on_texts(words)\n",
    "vocab_size = len(t.word_index) + 1\n",
    "encoded_docs = t.texts_to_sequences([s.split(\" \") for s in X_train])\n",
    "padded_docs = keras.preprocessing.sequence.pad_sequences(encoded_docs, maxlen=max_len, padding='post')\n",
    "\n",
    "embedding_matrix = np.zeros((vocab_size, 300))\n",
    "for word, i in t.word_index.items():\n",
    "    embedding_vector = w2v.word2vec.get(word)\n",
    "    if embedding_vector is not None:\n",
    "        embedding_matrix[i] = embedding_vector\n",
    "\n",
    "model = Sequential()\n",
    "model.add(Embedding(vocab_size, 300, weights=[embedding_matrix], trainable=True))\n",
    "model.add(CuDNNLSTM(50))\n",
    "model.add(Dense(n_classes, activation='softmax'))\n",
    "\n",
    "print(model.summary())\n",
    "\n",
    "model.compile(loss=loss_classif,\n",
    "              optimizer=keras.optimizers.Adam(lr=0.001),\n",
    "              metrics=metrics_classif)\n",
    "history = model.fit(padded_docs, np.vstack(Y_train), batch_size=32, epochs=12, validation_split=0.2, verbose=1)\n",
    "plot_history(history)\n",
    "\n",
    "encoded_docs = t.texts_to_sequences([s.split(\" \") for s in X_test])\n",
    "padded_docs = keras.preprocessing.sequence.pad_sequences(encoded_docs, maxlen=max_len, padding='post')\n",
    "\n",
    "predictions = model.predict(padded_docs)\n",
    "\n",
    "file = open(\"pretrained_lstm_y_test_sst.txt\", \"w\")\n",
    "for p in predictions:\n",
    "    file.write(str(np.argmax(p)+1) + \"\\n\")\n",
    "file.close()"
   ]
  }
 ],
 "metadata": {
  "kernelspec": {
   "display_name": "Python 3",
   "language": "python",
   "name": "python3"
  },
  "language_info": {
   "codemirror_mode": {
    "name": "ipython",
    "version": 3
   },
   "file_extension": ".py",
   "mimetype": "text/x-python",
   "name": "python",
   "nbconvert_exporter": "python",
   "pygments_lexer": "ipython3",
   "version": "3.6.1"
  }
 },
 "nbformat": 4,
 "nbformat_minor": 1
}
