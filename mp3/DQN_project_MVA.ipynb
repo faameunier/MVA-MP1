{
 "cells": [
  {
   "cell_type": "markdown",
   "metadata": {},
   "source": [
    "**You may need to install [OpenCV](https://pypi.python.org/pypi/opencv-python) and [scikit-video](http://www.scikit-video.org/stable/).**"
   ]
  },
  {
   "cell_type": "code",
   "execution_count": 1,
   "metadata": {},
   "outputs": [
    {
     "name": "stderr",
     "output_type": "stream",
     "text": [
      "Using TensorFlow backend.\n"
     ]
    }
   ],
   "source": [
    "import keras\n",
    "import numpy as np\n",
    "import io\n",
    "import base64\n",
    "from IPython.display import HTML\n",
    "\n",
    "import skvideo\n",
    "\n",
    "skvideo.setFFmpegPath(\"F:/Projets/DL/mp3/ffmpeg-4.1-win64-static/bin/\")\n",
    "\n",
    "import skvideo.io\n",
    "import cv2\n",
    "import json\n",
    "\n",
    "from keras.models import Sequential,model_from_json\n",
    "from keras.layers.core import Dense, Flatten\n",
    "from keras.optimizers import sgd\n",
    "from keras.layers import Conv2D, MaxPooling2D, Activation, AveragePooling2D,Reshape,BatchNormalization\n",
    "\n"
   ]
  },
  {
   "cell_type": "markdown",
   "metadata": {},
   "source": [
    "# MiniProject #3: Deep Reinforcement Learning"
   ]
  },
  {
   "cell_type": "markdown",
   "metadata": {},
   "source": [
    "__Notations__: $E_p$ is the expectation under probability $p$. Please justify each of your answer and widely comment your code."
   ]
  },
  {
   "cell_type": "markdown",
   "metadata": {},
   "source": [
    "# Context"
   ]
  },
  {
   "cell_type": "markdown",
   "metadata": {},
   "source": [
    "In a reinforcement learning algorithm, we modelize each step $t$ as an action $a_t$ obtained from a state $s_t$, i.e. $\\{(a_{t},s_{t})_{t\\leq T}\\}$ having the Markov property. We consider a discount factor $\\gamma \\in [0,1]$ that ensures convergence. The goal is to find among all the policies $\\pi$, one that maximizes the expected reward:\n",
    "\n",
    "\\begin{equation*}\n",
    "R(\\pi)=\\sum_{t\\leq T}E_{p^{\\pi}}[\\gamma^t r(s_{t},a_{t})] \\> ,\n",
    "\\end{equation*}\n",
    "\n",
    "where: \n",
    "\\begin{equation*}p^{\\pi}(a_{0},a_{1},s_{1},...,a_{T},s_{T})=p(a_{0})\\prod_{t=1}^{T}\\pi(a_{t}|s_{t})p(s_{t+1}|s_{t},a_{t}) \\> .\n",
    "\\end{equation*}\n",
    "\n",
    "We note the $Q$-function:\n",
    "\n",
    "\\begin{equation*}Q^\\pi(s,a)=E_{p^{\\pi}}[\\sum_{t\\leq T}\\gamma^{t}r(s_{t},a_{t})|s_{0}=s,a_{0}=a] \\> .\n",
    "\\end{equation*}\n",
    "\n",
    "Thus, the optimal Q function is:\n",
    "\\begin{equation*}\n",
    "Q^*(s,a)=\\max_{\\pi}Q^\\pi(s,a) \\> .\n",
    "\\end{equation*}\n",
    "\n",
    "In this project, we will apply the deep reinforcement learning techniques to a simple game: an agent will have to learn from scratch a policy that will permit it maximizing a reward."
   ]
  },
  {
   "cell_type": "markdown",
   "metadata": {},
   "source": [
    "## The environment, the agent and the game"
   ]
  },
  {
   "cell_type": "markdown",
   "metadata": {},
   "source": [
    "### The environment"
   ]
  },
  {
   "cell_type": "markdown",
   "metadata": {},
   "source": [
    "```Environment``` is an abstract class that represents the states, rewards, and actions to obtain the new state."
   ]
  },
  {
   "cell_type": "code",
   "execution_count": 2,
   "metadata": {},
   "outputs": [],
   "source": [
    "class Environment(object):\n",
    "    def __init__(self):\n",
    "        pass\n",
    "\n",
    "    def act(self, act):\n",
    "        \"\"\"\n",
    "        One can act on the environment and obtain its reaction:\n",
    "        - the new state\n",
    "        - the reward of the new state\n",
    "        - should we continue the game?\n",
    "\n",
    "        :return: state, reward, game_over\n",
    "        \"\"\"\n",
    "        pass\n",
    "\n",
    "\n",
    "    def reset(self):\n",
    "        \"\"\"\n",
    "        Reinitialize the environment to a random state and returns\n",
    "        the original state\n",
    "\n",
    "        :return: state\n",
    "        \"\"\"\n",
    "        pass\n",
    "    \n",
    "    def draw(self):\n",
    "        \"\"\"\n",
    "        Visualize in the console or graphically the current state\n",
    "        \"\"\"\n",
    "        pass"
   ]
  },
  {
   "cell_type": "markdown",
   "metadata": {},
   "source": [
    "The method ```act``` allows to act on the environment at a given state $s_t$ (stored internally), via action $a_t$. The method will return the new state $s_{t+1}$, the reward $r(s_{t},a_{t})$ and determines if $t\\leq T$ (*game_over*).\n",
    "\n",
    "The method ```reset``` simply reinitializes the environment to a random state $s_0$.\n",
    "\n",
    "The method ```draw``` displays the current state $s_t$ (this is useful to check the behavior of the Agent).\n",
    "\n",
    "We modelize $s_t$ as a tensor, while $a_t$ is an integer."
   ]
  },
  {
   "cell_type": "markdown",
   "metadata": {},
   "source": [
    "### The Agent"
   ]
  },
  {
   "cell_type": "markdown",
   "metadata": {},
   "source": [
    "The goal of the ```Agent``` is to interact with the ```Environment``` by proposing actions $a_t$ obtained from a given state $s_t$ to attempt to maximize its __reward__ $r(s_t,a_t)$. We propose the following abstract class:"
   ]
  },
  {
   "cell_type": "code",
   "execution_count": 3,
   "metadata": {},
   "outputs": [],
   "source": [
    "class Agent(object):\n",
    "    def __init__(self, epsilon=0.1, n_action=4):\n",
    "        self.epsilon = epsilon\n",
    "        self.n_action = n_action\n",
    "    \n",
    "    def set_epsilon(self,e):\n",
    "        self.epsilon = e\n",
    "\n",
    "    def act(self,s,train=True):\n",
    "        \"\"\" This function should return the next action to do:\n",
    "        an integer between 0 and 4 (not included) with a random exploration of epsilon\"\"\"\n",
    "        if train:\n",
    "            if np.random.rand() <= self.epsilon:\n",
    "                a = np.random.randint(0, self.n_action, size=1)[0]\n",
    "            else:\n",
    "                a = self.learned_act(s)\n",
    "        else: # in some cases, this can improve the performance.. remove it if poor performances\n",
    "            a = self.learned_act(s)\n",
    "\n",
    "        return a\n",
    "\n",
    "    def learned_act(self,s):\n",
    "        \"\"\" Act via the policy of the agent, from a given state s\n",
    "        it proposes an action a\"\"\"\n",
    "        pass\n",
    "\n",
    "    def reinforce(self, s, n_s, a, r, game_over_):\n",
    "        \"\"\" This function is the core of the learning algorithm. \n",
    "        It takes as an input the current state s_, the next state n_s_\n",
    "        the action a_ used to move from s_ to n_s_ and the reward r_.\n",
    "        \n",
    "        Its goal is to learn a policy.\n",
    "        \"\"\"\n",
    "        pass\n",
    "\n",
    "    def save(self):\n",
    "        \"\"\" This function returns basic stats if applicable: the\n",
    "        loss and/or the model\"\"\"\n",
    "        pass\n",
    "\n",
    "    def load(self):\n",
    "        \"\"\" This function allows to restore a model\"\"\"\n",
    "        pass"
   ]
  },
  {
   "cell_type": "markdown",
   "metadata": {},
   "source": [
    "***\n",
    "__Question 1__:\n",
    "Explain the function act. Why is ```epsilon``` essential?"
   ]
  },
  {
   "cell_type": "markdown",
   "metadata": {},
   "source": [
    "The function act is the core of the algorithm. If the function only returned the past learned behaviour it would always act in the same way. Using a random chance to act randomly allows for some exploration of all states. Epsilon is essential as it regulates the tradeoff between exploration and exploitation."
   ]
  },
  {
   "cell_type": "markdown",
   "metadata": {},
   "source": [
    "***\n",
    "### The Game"
   ]
  },
  {
   "cell_type": "markdown",
   "metadata": {},
   "source": [
    "The ```Agent``` and the ```Environment``` work in an interlaced way as in the following (take some time to understand this code as it is the core of the project)\n",
    "\n",
    "```python\n",
    "\n",
    "epoch = 300\n",
    "env = Environment()\n",
    "agent = Agent()\n",
    "\n",
    "\n",
    "# Number of won games\n",
    "score = 0\n",
    "loss = 0\n",
    "\n",
    "\n",
    "for e in range(epoch):\n",
    "    # At each epoch, we restart to a fresh game and get the initial state\n",
    "    state = env.reset()\n",
    "    # This assumes that the games will end\n",
    "    game_over = False\n",
    "\n",
    "    win = 0\n",
    "    lose = 0\n",
    "    \n",
    "    while not game_over:\n",
    "        # The agent performs an action\n",
    "        action = agent.act(state)\n",
    "\n",
    "        # Apply an action to the environment, get the next state, the reward\n",
    "        # and if the games end\n",
    "        prev_state = state\n",
    "        state, reward, game_over = env.act(action)\n",
    "\n",
    "        # Update the counters\n",
    "        if reward > 0:\n",
    "            win = win + reward\n",
    "        if reward < 0:\n",
    "            lose = lose -reward\n",
    "\n",
    "        # Apply the reinforcement strategy\n",
    "        loss = agent.reinforce(prev_state, state,  action, reward, game_over)\n",
    "\n",
    "    # Save as a mp4\n",
    "    if e % 10 == 0:\n",
    "        env.draw(e)\n",
    "\n",
    "    # Update stats\n",
    "    score += win-lose\n",
    "\n",
    "    print(\"Epoch {:03d}/{:03d} | Loss {:.4f} | Win/lose count {}/{} ({})\"\n",
    "          .format(e, epoch, loss, win, lose, win-lose))\n",
    "    agent.save()\n",
    "```"
   ]
  },
  {
   "cell_type": "markdown",
   "metadata": {},
   "source": [
    "# The game, *eat cheese*"
   ]
  },
  {
   "cell_type": "markdown",
   "metadata": {},
   "source": [
    "A rat runs on an island and tries to eat as much as possible. The island is subdivided into $N\\times N$ cells, in which there are cheese (+0.5) and poisonous cells (-1). The rat has a visibility of 2 cells (thus it can see $5^2$ cells). The rat is given a time $T$ to accumulate as much food as possible. It can perform 4 actions: going up, down, left, right. \n",
    "\n",
    "The goal is to code an agent to solve this task that will learn by trial and error. We propose the following environment:"
   ]
  },
  {
   "cell_type": "code",
   "execution_count": 4,
   "metadata": {},
   "outputs": [],
   "source": [
    "class Environment(object):\n",
    "    def __init__(self, grid_size=10, max_time=500, temperature=0.1):\n",
    "        grid_size = grid_size+4\n",
    "        self.grid_size = grid_size\n",
    "        self.max_time = max_time\n",
    "        self.temperature = temperature\n",
    "\n",
    "        #board on which one plays\n",
    "        self.board = np.zeros((grid_size,grid_size))\n",
    "        self.position = np.zeros((grid_size,grid_size))\n",
    "\n",
    "        # coordinate of the cat\n",
    "        self.x = 0\n",
    "        self.y = 1\n",
    "\n",
    "        # self time\n",
    "        self.t = 0\n",
    "\n",
    "        self.scale=16\n",
    "\n",
    "        self.to_draw = np.zeros((max_time+2, grid_size*self.scale, grid_size*self.scale, 3))\n",
    "\n",
    "\n",
    "    def draw(self,e):\n",
    "        skvideo.io.vwrite(str(e) + '.mp4', self.to_draw, outputdict={\"-pix_fmt\": \"yuv420p\", \"-vcodec\": \"h264\"})\n",
    "\n",
    "    def get_frame(self,t):\n",
    "        b = np.zeros((self.grid_size,self.grid_size,3))+128\n",
    "        b[self.board>0,0] = 256\n",
    "        b[self.board < 0, 2] = 256\n",
    "        b[self.x,self.y,:]=256\n",
    "        b[-2:,:,:]=0\n",
    "        b[:,-2:,:]=0\n",
    "        b[:2,:,:]=0\n",
    "        b[:,:2,:]=0\n",
    "        \n",
    "        b =  cv2.resize(b, None, fx=self.scale, fy=self.scale, interpolation=cv2.INTER_NEAREST)\n",
    "\n",
    "        self.to_draw[t,:,:,:]=b\n",
    "\n",
    "\n",
    "    def act(self, action):\n",
    "        \"\"\"This function returns the new state, reward and decides if the\n",
    "        game ends.\"\"\"\n",
    "\n",
    "        self.get_frame(int(self.t))\n",
    "\n",
    "        self.position = np.zeros((self.grid_size, self.grid_size))\n",
    "\n",
    "        self.position[0:2,:]= -1\n",
    "        self.position[:,0:2] = -1\n",
    "        self.position[-2:, :] = -1\n",
    "        self.position[-2:, :] = -1\n",
    "\n",
    "        self.position[self.x, self.y] = 1\n",
    "        if action == 0:\n",
    "            if self.x == self.grid_size-3:\n",
    "                self.x = self.x-1\n",
    "            else:\n",
    "                self.x = self.x + 1\n",
    "        elif action == 1:\n",
    "            if self.x == 2:\n",
    "                self.x = self.x+1\n",
    "            else:\n",
    "                self.x = self.x-1\n",
    "        elif action == 2:\n",
    "            if self.y == self.grid_size - 3:\n",
    "                self.y = self.y - 1\n",
    "            else:\n",
    "                self.y = self.y + 1\n",
    "        elif action == 3:\n",
    "            if self.y == 2:\n",
    "                self.y = self.y + 1\n",
    "            else:\n",
    "                self.y = self.y - 1\n",
    "        else:\n",
    "            RuntimeError('Error: action not recognized')\n",
    "\n",
    "        self.t = self.t + 1\n",
    "        reward = self.board[self.x, self.y]\n",
    "        self.board[self.x, self.y] = 0\n",
    "        game_over = self.t > self.max_time\n",
    "        state = np.concatenate((self.board.reshape(self.grid_size, self.grid_size,1),\n",
    "                        self.position.reshape(self.grid_size, self.grid_size,1)),axis=2)\n",
    "        state = state[self.x-2:self.x+3,self.y-2:self.y+3,:]\n",
    "\n",
    "        return state, reward, game_over\n",
    "\n",
    "    def reset(self):\n",
    "        \"\"\"This function resets the game and returns the initial state\"\"\"\n",
    "\n",
    "        self.x = np.random.randint(3, self.grid_size-3, size=1)[0]\n",
    "        self.y = np.random.randint(3, self.grid_size-3, size=1)[0]\n",
    "\n",
    "\n",
    "        bonus = 0.5*np.random.binomial(1,self.temperature,size=self.grid_size**2)\n",
    "        bonus = bonus.reshape(self.grid_size,self.grid_size)\n",
    "\n",
    "        malus = -1.0*np.random.binomial(1,self.temperature,size=self.grid_size**2)\n",
    "        malus = malus.reshape(self.grid_size, self.grid_size)\n",
    "\n",
    "        self.to_draw = np.zeros((self.max_time+2, self.grid_size*self.scale, self.grid_size*self.scale, 3))\n",
    "\n",
    "\n",
    "        malus[bonus>0]=0\n",
    "\n",
    "        self.board = bonus + malus\n",
    "\n",
    "        self.position = np.zeros((self.grid_size, self.grid_size))\n",
    "        self.position[0:2,:]= -1\n",
    "        self.position[:,0:2] = -1\n",
    "        self.position[-2:, :] = -1\n",
    "        self.position[-2:, :] = -1\n",
    "        self.board[self.x,self.y] = 0\n",
    "        self.t = 0\n",
    "\n",
    "        state = np.concatenate((\n",
    "                               self.board.reshape(self.grid_size, self.grid_size,1),\n",
    "                        self.position.reshape(self.grid_size, self.grid_size,1)),axis=2)\n",
    "\n",
    "        state = state[self.x - 2:self.x + 3, self.y - 2:self.y + 3, :]\n",
    "        return state"
   ]
  },
  {
   "cell_type": "markdown",
   "metadata": {},
   "source": [
    "The following elements are important because they correspond to the hyper parameters for this project:"
   ]
  },
  {
   "cell_type": "code",
   "execution_count": 51,
   "metadata": {},
   "outputs": [],
   "source": [
    "# parameters\n",
    "size = 13\n",
    "T=200\n",
    "temperature=0.3\n",
    "epochs_train=50 # set small when debugging\n",
    "epochs_test=11 # set small when debugging\n",
    "\n",
    "# display videos\n",
    "def display_videos(name):\n",
    "    video = io.open(name, 'r+b').read()\n",
    "    encoded = base64.b64encode(video)\n",
    "    return '''<video alt=\"test\" controls>\n",
    "                <source src=\"data:video/mp4;base64,{0}\" type=\"video/mp4\" />\n",
    "             </video>'''.format(encoded.decode('ascii'))"
   ]
  },
  {
   "cell_type": "markdown",
   "metadata": {},
   "source": [
    "__Question 2__ Explain the use of the arrays ```position``` and ```board```."
   ]
  },
  {
   "cell_type": "markdown",
   "metadata": {},
   "source": [
    "board contains the disposition of the game: position of maluses and bonuses. The board is slightly bigger than the actual playable area to display some borders. This board will be updated each time the rat eats a bonus or a malus.\n",
    "position has the same shape than the board but contains the position of the rat at the given instant."
   ]
  },
  {
   "cell_type": "markdown",
   "metadata": {},
   "source": [
    "## Random Agent"
   ]
  },
  {
   "cell_type": "markdown",
   "metadata": {},
   "source": [
    "***\n",
    "__Question 3__ Implement a random Agent (only ```learned_act``` needs to be implemented):"
   ]
  },
  {
   "cell_type": "code",
   "execution_count": 14,
   "metadata": {},
   "outputs": [],
   "source": [
    "class RandomAgent(Agent):\n",
    "    def __init__(self):\n",
    "        super(RandomAgent, self).__init__()\n",
    "        pass\n",
    "\n",
    "    def learned_act(self, s):\n",
    "        return np.random.randint(0,4)"
   ]
  },
  {
   "cell_type": "markdown",
   "metadata": {},
   "source": [
    "***\n",
    "***\n",
    "__Question 4__ Visualize the game moves. You need to fill in the following function for the evaluation:"
   ]
  },
  {
   "cell_type": "code",
   "execution_count": 15,
   "metadata": {},
   "outputs": [],
   "source": [
    "def test(agent,env,epochs,prefix=''):\n",
    "    # Number of won games\n",
    "    score = 0\n",
    "        \n",
    "    for e in range(epochs):\n",
    "        \n",
    "        # At each epoch, we restart to a fresh game and get the initial state\n",
    "        state = env.reset()\n",
    "        # This assumes that the games will end\n",
    "        game_over = False\n",
    "        win = 0\n",
    "        lose = 0\n",
    "    \n",
    "        while not game_over:\n",
    "            # The agent performs an action\n",
    "            action = agent.act(state)\n",
    "\n",
    "            # Apply an action to the environment, get the next state, the reward\n",
    "            # and if the games end\n",
    "            prev_state = state\n",
    "            state, reward, game_over = env.act(action)\n",
    "\n",
    "            # Update the counters\n",
    "            if reward > 0:\n",
    "                win = win + reward\n",
    "            if reward < 0:\n",
    "                lose = lose - reward\n",
    "        \n",
    "        # Save as a mp4\n",
    "        env.draw(prefix+str(e))\n",
    "\n",
    "        # Update stats\n",
    "        score = score + win-lose\n",
    "\n",
    "        print(\"Win/lose count {}/{}. Average score ({})\"\n",
    "              .format(win, lose, score/(1+e)))\n",
    "    print('Final score: '+str(score/epochs))"
   ]
  },
  {
   "cell_type": "code",
   "execution_count": 52,
   "metadata": {},
   "outputs": [
    {
     "name": "stdout",
     "output_type": "stream",
     "text": [
      "Win/lose count 7.5/11.0. Average score (-3.5)\n",
      "Win/lose count 7.5/14.0. Average score (-5.0)\n",
      "Win/lose count 9.5/17.0. Average score (-5.833333333333333)\n",
      "Win/lose count 11.5/15.0. Average score (-5.25)\n",
      "Win/lose count 8.0/16.0. Average score (-5.8)\n",
      "Win/lose count 6.5/12.0. Average score (-5.75)\n",
      "Win/lose count 12.0/13.0. Average score (-5.071428571428571)\n",
      "Win/lose count 12.5/10.0. Average score (-4.125)\n",
      "Win/lose count 15.5/17.0. Average score (-3.8333333333333335)\n",
      "Win/lose count 9.5/11.0. Average score (-3.6)\n",
      "Win/lose count 11.0/11.0. Average score (-3.272727272727273)\n",
      "Final score: -3.272727272727273\n"
     ]
    },
    {
     "data": {
      "text/html": [
       "<video alt=\"test\" controls>\n",
       "                <source src=\"data:video/mp4;base64,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\" type=\"video/mp4\" />\n",
       "             </video>"
      ],
      "text/plain": [
       "<IPython.core.display.HTML object>"
      ]
     },
     "execution_count": 52,
     "metadata": {},
     "output_type": "execute_result"
    }
   ],
   "source": [
    "# Initialize the game\n",
    "env = Environment(grid_size=size, max_time=T,temperature=temperature)\n",
    "\n",
    "# Initialize the agent!\n",
    "agent = RandomAgent()\n",
    "\n",
    "test(agent,env,epochs_test,prefix='random')\n",
    "HTML(display_videos('random0.mp4'))"
   ]
  },
  {
   "cell_type": "markdown",
   "metadata": {},
   "source": [
    "***\n",
    "## DQN"
   ]
  },
  {
   "cell_type": "markdown",
   "metadata": {},
   "source": [
    "Let us assume here that $T=\\infty$.\n",
    "\n",
    "***\n",
    "__Question 5__ Let $\\pi$ be a policy, show that:\n",
    "\n",
    "\\begin{equation*}\n",
    "Q^{\\pi}(s,a)=E_{(s',a')\\sim p(.|s,a)}[r(s,a)+\\gamma Q^{\\pi}(s',a')]\n",
    "\\end{equation*}\n",
    "\n",
    "Then, show that for the optimal policy $\\pi^*$ (we assume its existence), the following holds: \n",
    "\n",
    "\\begin{equation*}\n",
    "Q^{*}(s,a)=E_{s'\\sim \\pi^*(.|s,a)}[r(s,a)+\\gamma\\max_{a'}Q^{*}(s',a')].\n",
    "\\end{equation*}\n",
    "Finally, deduce that a plausible objective is:\n",
    "\n",
    "\\begin{equation*}\n",
    "\\mathcal{L}(\\theta)=E_{s' \\sim \\pi^*(.|s,a)}\\Vert r+\\gamma\\max\\max_{a'}Q(s',a',\\theta)-Q(s,a,\\theta)\\Vert^{2}.\n",
    "\\end{equation*}\n",
    "\n",
    "\n"
   ]
  },
  {
   "cell_type": "markdown",
   "metadata": {},
   "source": []
  },
  {
   "cell_type": "markdown",
   "metadata": {},
   "source": [
    "***\n",
    "The DQN-learning algorithm relies on these derivations to train the parameters $\\theta$ of a Deep Neural Network:\n",
    "\n",
    "1. At the state $s_t$, select the action $a_t$ with best reward using $Q_t$ and store the results;\n",
    "\n",
    "2. Obtain the new state $s_{t+1}$ from the environment $p$;\n",
    "\n",
    "3. Store $(s_t,a_t,s_{t+1})$;\n",
    "\n",
    "4. Obtain $Q_{t+1}$ by minimizing  $\\mathcal{L}$ from a recovered batch from the previously stored results.\n",
    "\n",
    "***\n",
    "__Question 6__ Implement the class ```Memory``` that stores moves (in a replay buffer) via ```remember``` and provides a ```random_access``` to these. Specify a maximum memory size to avoid side effects. You can for example use a ```list()``` and set by default ```max_memory=100```."
   ]
  },
  {
   "cell_type": "code",
   "execution_count": 17,
   "metadata": {},
   "outputs": [],
   "source": [
    "class Memory(object):\n",
    "    def __init__(self, max_memory=100):\n",
    "        self.max_memory = max_memory\n",
    "        self.memory = list()\n",
    "\n",
    "    def remember(self, m):\n",
    "        self.memory.append(m)\n",
    "\n",
    "    def random_access(self):\n",
    "        return self.memory[np.random.randint(0, len(self.memory))]"
   ]
  },
  {
   "cell_type": "markdown",
   "metadata": {},
   "source": [
    "***\n",
    "The pipeline we will use for training is given below:"
   ]
  },
  {
   "cell_type": "code",
   "execution_count": 18,
   "metadata": {},
   "outputs": [],
   "source": [
    "def train(agent,env,epoch,prefix=''):\n",
    "    # Number of won games\n",
    "    score = 0\n",
    "    loss = 0\n",
    "\n",
    "    for e in range(epoch):\n",
    "        # At each epoch, we restart to a fresh game and get the initial state\n",
    "        state = env.reset()\n",
    "        # This assumes that the games will terminate\n",
    "        game_over = False\n",
    "\n",
    "        win = 0\n",
    "        lose = 0\n",
    "\n",
    "        while not game_over:\n",
    "            # The agent performs an action\n",
    "            action = agent.act(state)\n",
    "\n",
    "            # Apply an action to the environment, get the next state, the reward\n",
    "            # and if the games end\n",
    "            prev_state = state\n",
    "            state, reward, game_over = env.act(action)\n",
    "\n",
    "            # Update the counters\n",
    "            if reward > 0:\n",
    "                win = win + reward\n",
    "            if reward < 0:\n",
    "                lose = lose -reward\n",
    "\n",
    "            # Apply the reinforcement strategy\n",
    "            loss = agent.reinforce(prev_state, state,  action, reward, game_over)\n",
    "\n",
    "        # Save as a mp4\n",
    "        if e % 10 == 0:\n",
    "            env.draw(prefix+str(e))\n",
    "\n",
    "        # Update stats\n",
    "        score += win-lose\n",
    "\n",
    "        print(\"Epoch {:03d}/{:03d} | Loss {:.4f} | Win/lose count {}/{} ({})\"\n",
    "              .format(e, epoch, loss, win, lose, win-lose))\n",
    "        agent.save(name_weights=prefix+'model.h5',name_model=prefix+'model.json')"
   ]
  },
  {
   "cell_type": "markdown",
   "metadata": {},
   "source": [
    "***\n",
    "__Question 7__ Implement the DQN training algorithm using a cascade of fully connected layers. You can use different learning rate, batch size or memory size parameters. In particular, the loss might oscillate while the player will start to win the games. You have to find a good criterium."
   ]
  },
  {
   "cell_type": "code",
   "execution_count": 119,
   "metadata": {},
   "outputs": [],
   "source": [
    "class DQN(Agent):\n",
    "    def __init__(self, grid_size,  epsilon = 0.1, memory_size=100, batch_size = 16,n_state=2):\n",
    "        super(DQN, self).__init__(epsilon = epsilon)\n",
    "\n",
    "        # Discount for Q learning\n",
    "        self.discount = 0.99\n",
    "        \n",
    "        self.grid_size = grid_size\n",
    "        \n",
    "        # number of state\n",
    "        self.n_state = n_state\n",
    "\n",
    "        # Memory\n",
    "        self.memory = Memory(memory_size)\n",
    "        \n",
    "        # Batch size when learning\n",
    "        self.batch_size = batch_size\n",
    "\n",
    "    def learned_act(self, s):\n",
    "        return np.argmax(self.model.predict(np.expand_dims(s,0))[0])\n",
    "\n",
    "    def reinforce(self, s_, n_s_, a_, r_, game_over_):\n",
    "        # Two steps: first memorize the states, second learn from the pool\n",
    "        self.memory.remember([s_, n_s_, a_, r_, game_over_])\n",
    "        \n",
    "        input_states = np.zeros((self.batch_size, 5, 5, self.n_state))\n",
    "        target_q = np.zeros((self.batch_size, 4))\n",
    "        \n",
    "        for i in range(self.batch_size):\n",
    "            selected_state = self.memory.random_access()\n",
    "            predicted_rewards = self.model.predict(np.expand_dims(selected_state[1],0))[0]\n",
    "            reward = selected_state[3]\n",
    "            action = selected_state[2]\n",
    "\n",
    "            input_states[i] = selected_state[0]\n",
    "\n",
    "            if game_over_:\n",
    "                predicted_rewards[action] = reward\n",
    "            else:\n",
    "                predicted_rewards[action] = reward + self.discount * np.max(predicted_rewards)\n",
    "            \n",
    "            target_q[i] = predicted_rewards\n",
    "        target_q = np.clip(target_q, -3, 3)\n",
    "        l = self.model.train_on_batch(input_states[:], target_q)\n",
    "\n",
    "        return l\n",
    "\n",
    "    def save(self,name_weights='model.h5',name_model='model.json'):\n",
    "        self.model.save_weights(name_weights, overwrite=True)\n",
    "        with open(name_model, \"w\") as outfile:\n",
    "            json.dump(self.model.to_json(), outfile)\n",
    "            \n",
    "    def load(self,name_weights='model.h5',name_model='model.json'):\n",
    "        with open(name_model, \"r\") as jfile:\n",
    "            model = model_from_json(json.load(jfile))\n",
    "        model.load_weights(name_weights)\n",
    "        model.compile(\"sgd\", \"mse\")\n",
    "        self.model = model\n",
    "\n",
    "            \n",
    "class DQN_FC(DQN):\n",
    "    def __init__(self, *args, lr=0.1,**kwargs):\n",
    "        super(DQN_FC, self).__init__( *args,**kwargs)\n",
    "        \n",
    "        # NN Model\n",
    "        model = Sequential()\n",
    "        model.add(Dense(50, input_shape=(5, 5, self.n_state), activation='relu'))\n",
    "        model.add(Flatten())\n",
    "        model.add(Dense(4))\n",
    "        \n",
    "        model.compile(sgd(lr=lr, decay=1e-4, momentum=0.0), \"mse\")\n",
    "        self.model = model\n",
    "        "
   ]
  },
  {
   "cell_type": "code",
   "execution_count": 53,
   "metadata": {
    "scrolled": false
   },
   "outputs": [
    {
     "name": "stdout",
     "output_type": "stream",
     "text": [
      "Epoch 000/050 | Loss 1.3978 | Win/lose count 5.5/5.0 (0.5)\n",
      "Epoch 001/050 | Loss 1.6641 | Win/lose count 6.5/10.0 (-3.5)\n",
      "Epoch 002/050 | Loss 2.1020 | Win/lose count 9.0/4.0 (5.0)\n",
      "Epoch 003/050 | Loss 2.1571 | Win/lose count 10.0/7.0 (3.0)\n",
      "Epoch 004/050 | Loss 1.9754 | Win/lose count 6.5/3.0 (3.5)\n",
      "Epoch 005/050 | Loss 2.0844 | Win/lose count 6.5/3.0 (3.5)\n",
      "Epoch 006/050 | Loss 2.1413 | Win/lose count 8.5/6.0 (2.5)\n",
      "Epoch 007/050 | Loss 1.9864 | Win/lose count 15.5/5.0 (10.5)\n",
      "Epoch 008/050 | Loss 2.1509 | Win/lose count 15.0/2.0 (13.0)\n",
      "Epoch 009/050 | Loss 1.9647 | Win/lose count 3.0/6.0 (-3.0)\n",
      "Epoch 010/050 | Loss 1.9533 | Win/lose count 3.0/2.0 (1.0)\n",
      "Epoch 011/050 | Loss 1.9522 | Win/lose count 14.0/3.0 (11.0)\n",
      "Epoch 012/050 | Loss 1.9439 | Win/lose count 12.5/3.0 (9.5)\n",
      "Epoch 013/050 | Loss 2.0084 | Win/lose count 12.5/6.0 (6.5)\n",
      "Epoch 014/050 | Loss 2.0028 | Win/lose count 15.0/6.0 (9.0)\n",
      "Epoch 015/050 | Loss 1.9303 | Win/lose count 19.0/2.0 (17.0)\n",
      "Epoch 016/050 | Loss 1.9838 | Win/lose count 20.0/5.0 (15.0)\n",
      "Epoch 017/050 | Loss 2.1403 | Win/lose count 10.5/4.0 (6.5)\n",
      "Epoch 018/050 | Loss 1.9334 | Win/lose count 7.5/2.0 (5.5)\n",
      "Epoch 019/050 | Loss 1.9966 | Win/lose count 9.5/3.0 (6.5)\n",
      "Epoch 020/050 | Loss 2.0015 | Win/lose count 12.0/2.0 (10.0)\n",
      "Epoch 021/050 | Loss 2.1046 | Win/lose count 18.0/2.0 (16.0)\n",
      "Epoch 022/050 | Loss 2.0057 | Win/lose count 9.0/5.0 (4.0)\n",
      "Epoch 023/050 | Loss 2.0100 | Win/lose count 9.0/4.0 (5.0)\n",
      "Epoch 024/050 | Loss 1.9511 | Win/lose count 13.5/3.0 (10.5)\n",
      "Epoch 025/050 | Loss 1.9390 | Win/lose count 15.0/9.0 (6.0)\n",
      "Epoch 026/050 | Loss 2.0161 | Win/lose count 17.0/5.0 (12.0)\n",
      "Epoch 027/050 | Loss 2.0189 | Win/lose count 8.0/7.0 (1.0)\n",
      "Epoch 028/050 | Loss 2.0233 | Win/lose count 13.0/6.0 (7.0)\n",
      "Epoch 029/050 | Loss 2.0269 | Win/lose count 10.5/6.0 (4.5)\n",
      "Epoch 030/050 | Loss 1.8701 | Win/lose count 6.0/2.0 (4.0)\n",
      "Epoch 031/050 | Loss 1.9111 | Win/lose count 11.0/3.0 (8.0)\n",
      "Epoch 032/050 | Loss 1.8528 | Win/lose count 12.5/6.0 (6.5)\n",
      "Epoch 033/050 | Loss 1.8737 | Win/lose count 12.0/4.0 (8.0)\n",
      "Epoch 034/050 | Loss 1.9837 | Win/lose count 7.5/3.0 (4.5)\n",
      "Epoch 035/050 | Loss 1.9130 | Win/lose count 27.0/2.0 (25.0)\n",
      "Epoch 036/050 | Loss 2.0886 | Win/lose count 17.0/6.0 (11.0)\n",
      "Epoch 037/050 | Loss 1.9633 | Win/lose count 8.5/8.0 (0.5)\n",
      "Epoch 038/050 | Loss 1.8975 | Win/lose count 13.5/6.0 (7.5)\n",
      "Epoch 039/050 | Loss 1.9840 | Win/lose count 4.5/2.0 (2.5)\n",
      "Epoch 040/050 | Loss 2.0537 | Win/lose count 19.0/4.0 (15.0)\n",
      "Epoch 041/050 | Loss 2.1050 | Win/lose count 15.5/2.0 (13.5)\n",
      "Epoch 042/050 | Loss 1.9042 | Win/lose count 5.0/2.0 (3.0)\n",
      "Epoch 043/050 | Loss 1.9450 | Win/lose count 16.0/5.0 (11.0)\n",
      "Epoch 044/050 | Loss 1.8538 | Win/lose count 16.0/3.0 (13.0)\n",
      "Epoch 045/050 | Loss 1.9379 | Win/lose count 16.5/3.0 (13.5)\n",
      "Epoch 046/050 | Loss 1.9432 | Win/lose count 5.5/0 (5.5)\n",
      "Epoch 047/050 | Loss 1.9451 | Win/lose count 12.5/5.0 (7.5)\n",
      "Epoch 048/050 | Loss 1.9759 | Win/lose count 11.0/6.0 (5.0)\n",
      "Epoch 049/050 | Loss 1.8035 | Win/lose count 11.0/5.0 (6.0)\n"
     ]
    },
    {
     "data": {
      "text/html": [
       "<video alt=\"test\" controls>\n",
       "                <source src=\"data:video/mp4;base64,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\" type=\"video/mp4\" />\n",
       "             </video>"
      ],
      "text/plain": [
       "<IPython.core.display.HTML object>"
      ]
     },
     "execution_count": 53,
     "metadata": {},
     "output_type": "execute_result"
    }
   ],
   "source": [
    "env = Environment(grid_size=size, max_time=T, temperature=0.3)\n",
    "agent = DQN_FC(size, lr=.1, epsilon = 0.1, memory_size=1000, batch_size = 32)\n",
    "train(agent, env, epochs_train, prefix='fc_train')\n",
    "HTML(display_videos('fc_train10.mp4'))"
   ]
  },
  {
   "cell_type": "markdown",
   "metadata": {},
   "source": [
    "***\n",
    "***\n",
    "__Question 8__ Implement the DQN training algorithm using a CNN (for example, 2 convolutional layers and one final fully connected layer)."
   ]
  },
  {
   "cell_type": "code",
   "execution_count": 124,
   "metadata": {},
   "outputs": [],
   "source": [
    "class DQN_CNN(DQN):\n",
    "    def __init__(self, *args,lr=0.1,**kwargs):\n",
    "        super(DQN_CNN, self).__init__(*args,**kwargs)\n",
    "        \n",
    "        model = Sequential()\n",
    "        model.add(Conv2D(10, 2, input_shape=(5, 5, self.n_state), activation='relu'))\n",
    "        model.add(Conv2D(20, 2, activation='relu'))\n",
    "        model.add(Flatten())\n",
    "        model.add(Dense(4))\n",
    "        \n",
    "        model.compile(sgd(lr=lr, decay=1e-4, momentum=0.0), \"mse\")\n",
    "        self.model = model"
   ]
  },
  {
   "cell_type": "code",
   "execution_count": 55,
   "metadata": {
    "scrolled": false
   },
   "outputs": [
    {
     "name": "stdout",
     "output_type": "stream",
     "text": [
      "Epoch 000/050 | Loss 0.0223 | Win/lose count 4.5/5.0 (-0.5)\n",
      "Epoch 001/050 | Loss 0.0826 | Win/lose count 3.5/5.0 (-1.5)\n",
      "Epoch 002/050 | Loss 0.5175 | Win/lose count 4.0/3.0 (1.0)\n",
      "Epoch 003/050 | Loss 2.2900 | Win/lose count 4.5/2.0 (2.5)\n",
      "Epoch 004/050 | Loss 2.1958 | Win/lose count 9.5/5.0 (4.5)\n",
      "Epoch 005/050 | Loss 2.1241 | Win/lose count 5.5/8.0 (-2.5)\n",
      "Epoch 006/050 | Loss 2.1509 | Win/lose count 6.0/3.0 (3.0)\n",
      "Epoch 007/050 | Loss 2.0378 | Win/lose count 10.5/6.0 (4.5)\n",
      "Epoch 008/050 | Loss 1.8562 | Win/lose count 7.0/8.0 (-1.0)\n",
      "Epoch 009/050 | Loss 1.6840 | Win/lose count 10.5/11.0 (-0.5)\n",
      "Epoch 010/050 | Loss 1.9055 | Win/lose count 6.0/5.0 (1.0)\n",
      "Epoch 011/050 | Loss 1.9411 | Win/lose count 7.0/3.0 (4.0)\n",
      "Epoch 012/050 | Loss 1.9428 | Win/lose count 9.0/7.0 (2.0)\n",
      "Epoch 013/050 | Loss 1.7600 | Win/lose count 6.5/3.0 (3.5)\n",
      "Epoch 014/050 | Loss 1.9290 | Win/lose count 6.0/3.0 (3.0)\n",
      "Epoch 015/050 | Loss 1.8688 | Win/lose count 9.0/3.0 (6.0)\n",
      "Epoch 016/050 | Loss 2.0063 | Win/lose count 7.0/6.0 (1.0)\n",
      "Epoch 017/050 | Loss 2.0289 | Win/lose count 4.5/3.0 (1.5)\n",
      "Epoch 018/050 | Loss 1.9164 | Win/lose count 12.0/5.0 (7.0)\n",
      "Epoch 019/050 | Loss 1.7696 | Win/lose count 8.5/7.0 (1.5)\n",
      "Epoch 020/050 | Loss 1.8971 | Win/lose count 9.5/5.0 (4.5)\n",
      "Epoch 021/050 | Loss 1.8712 | Win/lose count 8.5/4.0 (4.5)\n",
      "Epoch 022/050 | Loss 1.9464 | Win/lose count 11.5/4.0 (7.5)\n",
      "Epoch 023/050 | Loss 1.8050 | Win/lose count 4.5/2.0 (2.5)\n",
      "Epoch 024/050 | Loss 1.7950 | Win/lose count 13.5/1.0 (12.5)\n",
      "Epoch 025/050 | Loss 1.9061 | Win/lose count 7.5/5.0 (2.5)\n",
      "Epoch 026/050 | Loss 1.8651 | Win/lose count 8.0/3.0 (5.0)\n",
      "Epoch 027/050 | Loss 1.8702 | Win/lose count 9.0/3.0 (6.0)\n",
      "Epoch 028/050 | Loss 1.8480 | Win/lose count 10.5/0 (10.5)\n",
      "Epoch 029/050 | Loss 1.8988 | Win/lose count 7.0/2.0 (5.0)\n",
      "Epoch 030/050 | Loss 1.8303 | Win/lose count 6.5/4.0 (2.5)\n",
      "Epoch 031/050 | Loss 1.7200 | Win/lose count 4.5/1.0 (3.5)\n",
      "Epoch 032/050 | Loss 1.8360 | Win/lose count 8.5/5.0 (3.5)\n",
      "Epoch 033/050 | Loss 1.7514 | Win/lose count 15.0/5.0 (10.0)\n",
      "Epoch 034/050 | Loss 1.7895 | Win/lose count 5.0/2.0 (3.0)\n",
      "Epoch 035/050 | Loss 1.8575 | Win/lose count 9.5/3.0 (6.5)\n",
      "Epoch 036/050 | Loss 1.9429 | Win/lose count 7.5/6.0 (1.5)\n",
      "Epoch 037/050 | Loss 1.8625 | Win/lose count 5.0/3.0 (2.0)\n",
      "Epoch 038/050 | Loss 1.9297 | Win/lose count 13.0/3.0 (10.0)\n",
      "Epoch 039/050 | Loss 1.8265 | Win/lose count 16.0/4.0 (12.0)\n",
      "Epoch 040/050 | Loss 1.8425 | Win/lose count 20.5/6.0 (14.5)\n",
      "Epoch 041/050 | Loss 1.9338 | Win/lose count 5.0/1.0 (4.0)\n",
      "Epoch 042/050 | Loss 1.8487 | Win/lose count 4.0/3.0 (1.0)\n",
      "Epoch 043/050 | Loss 1.7848 | Win/lose count 11.5/3.0 (8.5)\n",
      "Epoch 044/050 | Loss 1.7565 | Win/lose count 11.0/4.0 (7.0)\n",
      "Epoch 045/050 | Loss 1.8447 | Win/lose count 18.0/7.0 (11.0)\n",
      "Epoch 046/050 | Loss 1.9267 | Win/lose count 16.5/5.0 (11.5)\n",
      "Epoch 047/050 | Loss 1.8948 | Win/lose count 12.5/6.0 (6.5)\n",
      "Epoch 048/050 | Loss 2.0235 | Win/lose count 11.0/1.0 (10.0)\n",
      "Epoch 049/050 | Loss 1.8928 | Win/lose count 15.0/1.0 (14.0)\n"
     ]
    },
    {
     "data": {
      "text/html": [
       "<video alt=\"test\" controls>\n",
       "                <source src=\"data:video/mp4;base64,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\" type=\"video/mp4\" />\n",
       "             </video>"
      ],
      "text/plain": [
       "<IPython.core.display.HTML object>"
      ]
     },
     "execution_count": 55,
     "metadata": {},
     "output_type": "execute_result"
    }
   ],
   "source": [
    "env = Environment(grid_size=size, max_time=T, temperature=0.3)\n",
    "agent = DQN_CNN(size, lr=.1, epsilon = 0.1, memory_size=2000, batch_size = 32)\n",
    "train(agent,env,epochs_train,prefix='cnn_train')\n",
    "HTML(display_videos('cnn_train10.mp4'))"
   ]
  },
  {
   "cell_type": "markdown",
   "metadata": {},
   "source": [
    "***\n",
    "***\n",
    "__Question 9__ Test both algorithms and compare their performances. Which issue(s) do you observe? Observe also different behaviors by changing the temperature."
   ]
  },
  {
   "cell_type": "code",
   "execution_count": 59,
   "metadata": {},
   "outputs": [
    {
     "name": "stdout",
     "output_type": "stream",
     "text": [
      "Test of the CNN\n",
      "Win/lose count 0.5/0. Average score (0.5)\n",
      "Win/lose count 1.0/2.0. Average score (-0.25)\n",
      "Win/lose count 2.0/0. Average score (0.5)\n",
      "Win/lose count 1.0/2.0. Average score (0.125)\n",
      "Win/lose count 0/1.0. Average score (-0.1)\n",
      "Win/lose count 1.0/1.0. Average score (-0.08333333333333333)\n",
      "Win/lose count 0/1.0. Average score (-0.21428571428571427)\n",
      "Win/lose count 2.0/0. Average score (0.0625)\n",
      "Win/lose count 1.5/1.0. Average score (0.1111111111111111)\n",
      "Win/lose count 2.0/2.0. Average score (0.1)\n",
      "Win/lose count 0.5/1.0. Average score (0.045454545454545456)\n",
      "Final score: 0.045454545454545456\n",
      "Test of the FC\n",
      "Win/lose count 0/0. Average score (0.0)\n",
      "Win/lose count 1.5/1.0. Average score (0.25)\n",
      "Win/lose count 0.5/3.0. Average score (-0.6666666666666666)\n",
      "Win/lose count 1.0/1.0. Average score (-0.5)\n",
      "Win/lose count 1.5/1.0. Average score (-0.3)\n",
      "Win/lose count 1.0/4.0. Average score (-0.75)\n",
      "Win/lose count 1.0/2.0. Average score (-0.7857142857142857)\n",
      "Win/lose count 1.0/4.0. Average score (-1.0625)\n",
      "Win/lose count 0.5/0. Average score (-0.8888888888888888)\n",
      "Win/lose count 0.5/4.0. Average score (-1.15)\n",
      "Win/lose count 1.5/0. Average score (-0.9090909090909091)\n",
      "Final score: -0.9090909090909091\n"
     ]
    }
   ],
   "source": [
    "env = Environment(grid_size=size, max_time=T,temperature=0.1)\n",
    "agent_cnn = DQN_CNN(size, lr=.1, epsilon = 0.1, memory_size=2000, batch_size = 32)\n",
    "agent_cnn.load(name_weights='cnn_trainmodel.h5',name_model='cnn_trainmodel.json')\n",
    "\n",
    "agent_fc = DQN_FC(size, lr=.1, epsilon = 0.1, memory_size=2000, batch_size = 32)\n",
    "agent_cnn.load(name_weights='fc_trainmodel.h5',name_model='fc_trainmodel.json')\n",
    "print('Test of the CNN')\n",
    "test(agent_cnn,env,epochs_test,prefix='cnn_test')\n",
    "print('Test of the FC')\n",
    "test(agent_fc,env,epochs_test,prefix='fc_test')"
   ]
  },
  {
   "cell_type": "code",
   "execution_count": 60,
   "metadata": {},
   "outputs": [
    {
     "data": {
      "text/html": [
       "<video alt=\"test\" controls>\n",
       "                <source src=\"data:video/mp4;base64,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\" type=\"video/mp4\" />\n",
       "             </video>"
      ],
      "text/plain": [
       "<IPython.core.display.HTML object>"
      ]
     },
     "execution_count": 60,
     "metadata": {},
     "output_type": "execute_result"
    }
   ],
   "source": [
    "HTML(display_videos('cnn_test10.mp4'))"
   ]
  },
  {
   "cell_type": "code",
   "execution_count": 61,
   "metadata": {},
   "outputs": [
    {
     "data": {
      "text/html": [
       "<video alt=\"test\" controls>\n",
       "                <source src=\"data:video/mp4;base64,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\" type=\"video/mp4\" />\n",
       "             </video>"
      ],
      "text/plain": [
       "<IPython.core.display.HTML object>"
      ]
     },
     "execution_count": 61,
     "metadata": {},
     "output_type": "execute_result"
    }
   ],
   "source": [
    "HTML(display_videos('fc_test10.mp4'))"
   ]
  },
  {
   "cell_type": "markdown",
   "metadata": {},
   "source": [
    "We see that the rat easily guts \"stuck\" between two positions and do not explore at all. However CNN tends to have slightly better results overall, especially when the temperature raises."
   ]
  },
  {
   "cell_type": "markdown",
   "metadata": {},
   "source": [
    "***\n",
    "\n",
    "The algorithm tends to not explore the map which can be an issue. We propose two ideas in order to encourage exploration:\n",
    "1. Incorporating a decreasing $\\epsilon$-greedy exploration. You can use the method ```set_epsilon```\n",
    "2. Append via the environment a new state that describes if a cell has been visited or not\n",
    "\n",
    "***\n",
    "__Question 10__ Design a new ```train_explore``` function and environment class ```EnvironmentExploring``` to tackle the issue of exploration.\n",
    "\n"
   ]
  },
  {
   "cell_type": "code",
   "execution_count": 132,
   "metadata": {},
   "outputs": [],
   "source": [
    "def train_explore(agent,env,epoch,prefix=''):\n",
    "    # Number of won games\n",
    "    score = 0\n",
    "    loss = 0\n",
    "\n",
    "    for e in range(epoch):\n",
    "        # At each epoch, we restart to a fresh game and get the initial state\n",
    "        state = env.reset()\n",
    "        # This assumes that the games will terminate\n",
    "        game_over = False\n",
    "\n",
    "        win = 0\n",
    "        lose = 0\n",
    "\n",
    "        while not game_over:\n",
    "            # The agent performs an action\n",
    "            action = agent.act(state)\n",
    "\n",
    "            # Apply an action to the environment, get the next state, the reward\n",
    "            # and if the games end\n",
    "            prev_state = state\n",
    "            # print(state.shape)\n",
    "            state, reward, game_over = env.act(action)\n",
    "\n",
    "            # Update the counters\n",
    "            if reward > 0:\n",
    "                win = win + reward\n",
    "            if reward < 0:\n",
    "                lose = lose -reward\n",
    "            # Apply the reinforcement strategy\n",
    "            # print(state.shape)\n",
    "            loss = agent.reinforce(prev_state, state,  action, reward, game_over)\n",
    "        # Save as a mp4\n",
    "        if e % 10 == 0:\n",
    "            env.draw(prefix+str(e))\n",
    "\n",
    "        # Update stats\n",
    "        score += win-lose\n",
    "\n",
    "        print(\"Epoch {:03d}/{:03d} | Loss {:.4f} | Win/lose count {}/{} ({})\"\n",
    "              .format(e, epoch, loss, win, lose, win-lose))\n",
    "        agent.save(name_weights=prefix+'model.h5',name_model=prefix+'model.json')\n",
    "        agent.set_epsilon(agent.epsilon * 0.9)\n",
    "        \n",
    "class EnvironmentExploring(Environment):\n",
    "    def __init__(self, grid_size=10, max_time=500, temperature=0.1):\n",
    "        super().__init__(grid_size, max_time, temperature)\n",
    "        self.malus_position = np.zeros((self.grid_size, self.grid_size))\n",
    "    \n",
    "    def act(self, action):\n",
    "        \"\"\"This function returns the new state, reward and decides if the\n",
    "        game ends.\"\"\"\n",
    "        state, reward, game_over = super().act(action)\n",
    "        if reward == 0:\n",
    "            reward -= self.malus_position[self.x, self.y]\n",
    "            self.malus_position[self.x, self.y] = 0.2\n",
    "        return np.concatenate(self.create_state(state), axis=2), reward, game_over\n",
    "\n",
    "    def reset(self):\n",
    "        \"\"\"This function resets the game and returns the initial state\"\"\"\n",
    "        self.malus_position = np.zeros((self.grid_size, self.grid_size))\n",
    "        state = super().reset()\n",
    "        # print(np.concatenate(self.create_state(state), axis=2))\n",
    "        return np.concatenate(self.create_state(state), axis=2)\n",
    "\n",
    "    def create_state(self, super_state):\n",
    "        super_state = np.dsplit(super_state, 2)\n",
    "        super_state.append(self.malus_position.reshape(self.grid_size, self.grid_size, 1)[self.x - 2:self.x + 3, self.y - 2:self.y + 3])\n",
    "        return super_state"
   ]
  },
  {
   "cell_type": "code",
   "execution_count": 134,
   "metadata": {},
   "outputs": [
    {
     "name": "stdout",
     "output_type": "stream",
     "text": [
      "Epoch 000/050 | Loss 1.7940 | Win/lose count 6.0/40.40000000000004 (-34.40000000000004)\n",
      "Epoch 001/050 | Loss 1.9183 | Win/lose count 9.5/33.19999999999996 (-23.69999999999996)\n",
      "Epoch 002/050 | Loss 1.8660 | Win/lose count 7.5/37.199999999999974 (-29.699999999999974)\n",
      "Epoch 003/050 | Loss 1.7680 | Win/lose count 10.0/33.59999999999995 (-23.59999999999995)\n",
      "Epoch 004/050 | Loss 1.7081 | Win/lose count 11.0/31.199999999999946 (-20.199999999999946)\n",
      "Epoch 005/050 | Loss 1.6738 | Win/lose count 15.5/31.39999999999995 (-15.899999999999949)\n",
      "Epoch 006/050 | Loss 1.7702 | Win/lose count 12.0/29.399999999999952 (-17.399999999999952)\n",
      "Epoch 007/050 | Loss 1.8864 | Win/lose count 16.0/27.199999999999953 (-11.199999999999953)\n",
      "Epoch 008/050 | Loss 1.6993 | Win/lose count 15.0/28.799999999999937 (-13.799999999999937)\n",
      "Epoch 009/050 | Loss 1.5607 | Win/lose count 21.0/25.199999999999967 (-4.199999999999967)\n",
      "Epoch 010/050 | Loss 1.3263 | Win/lose count 12.5/29.399999999999935 (-16.899999999999935)\n",
      "Epoch 011/050 | Loss 1.5452 | Win/lose count 12.0/27.199999999999946 (-15.199999999999946)\n",
      "Epoch 012/050 | Loss 1.4226 | Win/lose count 22.0/16.399999999999977 (5.600000000000023)\n",
      "Epoch 013/050 | Loss 0.9855 | Win/lose count 16.0/26.199999999999953 (-10.199999999999953)\n",
      "Epoch 014/050 | Loss 1.0072 | Win/lose count 15.0/26.79999999999994 (-11.79999999999994)\n",
      "Epoch 015/050 | Loss 0.7260 | Win/lose count 12.5/26.599999999999945 (-14.099999999999945)\n",
      "Epoch 016/050 | Loss 1.0066 | Win/lose count 22.0/21.399999999999963 (0.600000000000037)\n",
      "Epoch 017/050 | Loss 0.2131 | Win/lose count 17.0/25.99999999999995 (-8.99999999999995)\n",
      "Epoch 018/050 | Loss 0.3715 | Win/lose count 21.5/19.199999999999974 (2.3000000000000256)\n",
      "Epoch 019/050 | Loss 0.1921 | Win/lose count 20.0/24.199999999999953 (-4.199999999999953)\n",
      "Epoch 020/050 | Loss 0.1430 | Win/lose count 22.5/17.399999999999974 (5.100000000000026)\n",
      "Epoch 021/050 | Loss 0.1287 | Win/lose count 28.0/12.799999999999986 (15.200000000000014)\n",
      "Epoch 022/050 | Loss 0.0345 | Win/lose count 27.5/17.799999999999976 (9.700000000000024)\n",
      "Epoch 023/050 | Loss 0.0934 | Win/lose count 17.5/23.99999999999995 (-6.49999999999995)\n",
      "Epoch 024/050 | Loss 0.2194 | Win/lose count 20.0/22.199999999999964 (-2.1999999999999638)\n",
      "Epoch 025/050 | Loss 1.4039 | Win/lose count 22.0/22.199999999999978 (-0.19999999999997797)\n",
      "Epoch 026/050 | Loss 0.5650 | Win/lose count 20.5/21.799999999999965 (-1.2999999999999652)\n",
      "Epoch 027/050 | Loss 0.6957 | Win/lose count 20.5/25.399999999999967 (-4.899999999999967)\n",
      "Epoch 028/050 | Loss 0.9055 | Win/lose count 21.0/23.799999999999965 (-2.799999999999965)\n",
      "Epoch 029/050 | Loss 0.7217 | Win/lose count 26.5/17.599999999999984 (8.900000000000016)\n",
      "Epoch 030/050 | Loss 1.0051 | Win/lose count 24.5/17.999999999999982 (6.500000000000018)\n",
      "Epoch 031/050 | Loss 0.8702 | Win/lose count 23.0/21.59999999999998 (1.40000000000002)\n",
      "Epoch 032/050 | Loss 0.9539 | Win/lose count 21.5/23.39999999999997 (-1.8999999999999702)\n",
      "Epoch 033/050 | Loss 1.1176 | Win/lose count 22.0/24.799999999999972 (-2.7999999999999723)\n",
      "Epoch 034/050 | Loss 0.5489 | Win/lose count 22.5/22.99999999999997 (-0.4999999999999716)\n",
      "Epoch 035/050 | Loss 0.6533 | Win/lose count 24.0/17.599999999999977 (6.4000000000000234)\n",
      "Epoch 036/050 | Loss 0.9229 | Win/lose count 19.5/25.999999999999957 (-6.499999999999957)\n",
      "Epoch 037/050 | Loss 1.4680 | Win/lose count 21.5/22.799999999999972 (-1.2999999999999723)\n",
      "Epoch 038/050 | Loss 1.2621 | Win/lose count 25.5/17.79999999999998 (7.700000000000021)\n",
      "Epoch 039/050 | Loss 1.3664 | Win/lose count 20.5/23.799999999999965 (-3.299999999999965)\n",
      "Epoch 040/050 | Loss 1.2028 | Win/lose count 19.0/22.199999999999964 (-3.1999999999999638)\n",
      "Epoch 041/050 | Loss 1.3299 | Win/lose count 17.0/25.199999999999964 (-8.199999999999964)\n",
      "Epoch 042/050 | Loss 1.1329 | Win/lose count 19.0/24.199999999999957 (-5.199999999999957)\n",
      "Epoch 043/050 | Loss 1.0064 | Win/lose count 16.0/25.79999999999996 (-9.799999999999962)\n",
      "Epoch 044/050 | Loss 1.0956 | Win/lose count 17.5/26.999999999999943 (-9.499999999999943)\n",
      "Epoch 045/050 | Loss 1.1277 | Win/lose count 25.5/20.199999999999974 (5.300000000000026)\n",
      "Epoch 046/050 | Loss 0.7438 | Win/lose count 19.0/19.999999999999975 (-0.9999999999999751)\n",
      "Epoch 047/050 | Loss 1.2993 | Win/lose count 25.5/17.99999999999999 (7.500000000000011)\n",
      "Epoch 048/050 | Loss 0.6774 | Win/lose count 24.0/21.799999999999965 (2.200000000000035)\n",
      "Epoch 049/050 | Loss 0.9462 | Win/lose count 24.0/23.799999999999958 (0.20000000000004192)\n"
     ]
    },
    {
     "data": {
      "text/html": [
       "<video alt=\"test\" controls>\n",
       "                <source src=\"data:video/mp4;base64,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\" type=\"video/mp4\" />\n",
       "             </video>"
      ],
      "text/plain": [
       "<IPython.core.display.HTML object>"
      ]
     },
     "execution_count": 134,
     "metadata": {},
     "output_type": "execute_result"
    }
   ],
   "source": [
    "# Training\n",
    "epochs_train=50\n",
    "\n",
    "env = EnvironmentExploring(grid_size=size, max_time=T, temperature=0.3)\n",
    "agent = DQN_CNN(size, lr=.1, epsilon = 0.8, memory_size=2000, batch_size = 32, n_state=3)\n",
    "train_explore(agent, env, epochs_train, prefix='cnn_train_explore')\n",
    "HTML(display_videos('cnn_train_explore10.mp4'))"
   ]
  },
  {
   "cell_type": "code",
   "execution_count": 135,
   "metadata": {},
   "outputs": [
    {
     "name": "stdout",
     "output_type": "stream",
     "text": [
      "Win/lose count 18.5/23.399999999999952. Average score (-4.899999999999952)\n",
      "Win/lose count 26.5/26.599999999999934. Average score (-2.499999999999943)\n",
      "Win/lose count 24.5/21.999999999999954. Average score (-0.8333333333332801)\n",
      "Win/lose count 19.0/25.39999999999994. Average score (-2.2249999999999455)\n",
      "Win/lose count 4.0/36.79999999999998. Average score (-8.339999999999952)\n",
      "Win/lose count 20.5/24.199999999999946. Average score (-7.566666666666618)\n",
      "Win/lose count 26.5/25.599999999999948. Average score (-6.357142857142809)\n",
      "Win/lose count 20.0/27.599999999999934. Average score (-6.5124999999999496)\n",
      "Win/lose count 3.5/38.0. Average score (-9.622222222222177)\n",
      "Win/lose count 24.5/24.199999999999946. Average score (-8.629999999999955)\n",
      "Win/lose count 22.5/23.59999999999995. Average score (-7.945454545454499)\n",
      "Final score: -7.945454545454499\n"
     ]
    },
    {
     "data": {
      "text/html": [
       "<video alt=\"test\" controls>\n",
       "                <source src=\"data:video/mp4;base64,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\" type=\"video/mp4\" />\n",
       "             </video>"
      ],
      "text/plain": [
       "<IPython.core.display.HTML object>"
      ]
     },
     "execution_count": 135,
     "metadata": {},
     "output_type": "execute_result"
    }
   ],
   "source": [
    "# Evaluation\n",
    "test(agent,env,epochs_test,prefix='cnn_test_explore')\n",
    "HTML(display_videos('cnn_test_explore10.mp4'))"
   ]
  },
  {
   "cell_type": "markdown",
   "metadata": {},
   "source": [
    "***\n",
    "***\n",
    "__BONUS question__ Use the expert DQN from the previous question to generate some winning games. Train a model that mimicks its behavior. Compare the performances."
   ]
  },
  {
   "cell_type": "markdown",
   "metadata": {},
   "source": []
  },
  {
   "cell_type": "markdown",
   "metadata": {},
   "source": [
    "***"
   ]
  }
 ],
 "metadata": {
  "kernelspec": {
   "display_name": "Python 3",
   "language": "python",
   "name": "python3"
  },
  "language_info": {
   "codemirror_mode": {
    "name": "ipython",
    "version": 3
   },
   "file_extension": ".py",
   "mimetype": "text/x-python",
   "name": "python",
   "nbconvert_exporter": "python",
   "pygments_lexer": "ipython3",
   "version": "3.6.1"
  }
 },
 "nbformat": 4,
 "nbformat_minor": 2
}
